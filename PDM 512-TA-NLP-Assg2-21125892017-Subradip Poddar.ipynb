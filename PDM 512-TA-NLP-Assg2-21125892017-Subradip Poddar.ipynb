{
 "cells": [
  {
   "cell_type": "code",
   "execution_count": null,
   "metadata": {
    "colab": {
     "base_uri": "https://localhost:8080/"
    },
    "id": "MBeZAN4WKqZc",
    "outputId": "556950c5-ebab-4872-94ed-a5d8fa6904c4"
   },
   "outputs": [
    {
     "name": "stdout",
     "output_type": "stream",
     "text": [
      "Mounted at /content/drive\n"
     ]
    }
   ],
   "source": [
    "#from google.colab import drive\n",
    "#drive.mount('/content/drive')"
   ]
  },
  {
   "cell_type": "code",
   "execution_count": 1,
   "metadata": {
    "id": "YNtmx-enKtAn"
   },
   "outputs": [],
   "source": [
    "import pandas as pd"
   ]
  },
  {
   "cell_type": "code",
   "execution_count": 2,
   "metadata": {
    "colab": {
     "base_uri": "https://localhost:8080/",
     "height": 206
    },
    "id": "sqFOFow_K9xC",
    "outputId": "d1568322-c3ad-40ca-b398-e06b60b0f8a2"
   },
   "outputs": [
    {
     "data": {
      "text/html": [
       "<div>\n",
       "<style scoped>\n",
       "    .dataframe tbody tr th:only-of-type {\n",
       "        vertical-align: middle;\n",
       "    }\n",
       "\n",
       "    .dataframe tbody tr th {\n",
       "        vertical-align: top;\n",
       "    }\n",
       "\n",
       "    .dataframe thead th {\n",
       "        text-align: right;\n",
       "    }\n",
       "</style>\n",
       "<table border=\"1\" class=\"dataframe\">\n",
       "  <thead>\n",
       "    <tr style=\"text-align: right;\">\n",
       "      <th></th>\n",
       "      <th>sentiment</th>\n",
       "      <th>review</th>\n",
       "    </tr>\n",
       "  </thead>\n",
       "  <tbody>\n",
       "    <tr>\n",
       "      <th>0</th>\n",
       "      <td>1</td>\n",
       "      <td>Good but need updates and improvements</td>\n",
       "    </tr>\n",
       "    <tr>\n",
       "      <th>1</th>\n",
       "      <td>0</td>\n",
       "      <td>Worst mobile i have bought ever, Battery is dr...</td>\n",
       "    </tr>\n",
       "    <tr>\n",
       "      <th>2</th>\n",
       "      <td>1</td>\n",
       "      <td>when I will get my 10% cash back.... its alrea...</td>\n",
       "    </tr>\n",
       "    <tr>\n",
       "      <th>3</th>\n",
       "      <td>1</td>\n",
       "      <td>Good</td>\n",
       "    </tr>\n",
       "    <tr>\n",
       "      <th>4</th>\n",
       "      <td>0</td>\n",
       "      <td>The worst phone everThey have changed the last...</td>\n",
       "    </tr>\n",
       "  </tbody>\n",
       "</table>\n",
       "</div>"
      ],
      "text/plain": [
       "   sentiment                                             review\n",
       "0          1             Good but need updates and improvements\n",
       "1          0  Worst mobile i have bought ever, Battery is dr...\n",
       "2          1  when I will get my 10% cash back.... its alrea...\n",
       "3          1                                               Good\n",
       "4          0  The worst phone everThey have changed the last..."
      ]
     },
     "execution_count": 2,
     "metadata": {},
     "output_type": "execute_result"
    }
   ],
   "source": [
    "#file1 = '/content/drive/My Drive/Colab Notebooks/K8 Reviews v0.2.csv'\n",
    "#df = pd.read_csv(file1)\n",
    "df = pd.read_csv('K8 Reviews v0.2.csv')\n",
    "df.head()"
   ]
  },
  {
   "cell_type": "code",
   "execution_count": 3,
   "metadata": {
    "colab": {
     "base_uri": "https://localhost:8080/"
    },
    "id": "YBeRcAARLBC7",
    "outputId": "58045f33-e7cf-4e0e-8f15-45850aa1e66c"
   },
   "outputs": [
    {
     "data": {
      "text/plain": [
       "(14675, 2)"
      ]
     },
     "execution_count": 3,
     "metadata": {},
     "output_type": "execute_result"
    }
   ],
   "source": [
    "df.shape"
   ]
  },
  {
   "cell_type": "code",
   "execution_count": 4,
   "metadata": {
    "colab": {
     "base_uri": "https://localhost:8080/",
     "height": 206
    },
    "id": "416svOxiREOb",
    "outputId": "a51dae56-49a8-4557-c35e-9948af8a6de1"
   },
   "outputs": [
    {
     "data": {
      "text/html": [
       "<div>\n",
       "<style scoped>\n",
       "    .dataframe tbody tr th:only-of-type {\n",
       "        vertical-align: middle;\n",
       "    }\n",
       "\n",
       "    .dataframe tbody tr th {\n",
       "        vertical-align: top;\n",
       "    }\n",
       "\n",
       "    .dataframe thead th {\n",
       "        text-align: right;\n",
       "    }\n",
       "</style>\n",
       "<table border=\"1\" class=\"dataframe\">\n",
       "  <thead>\n",
       "    <tr style=\"text-align: right;\">\n",
       "      <th></th>\n",
       "      <th>sentiment</th>\n",
       "      <th>review</th>\n",
       "      <th>clean_review</th>\n",
       "    </tr>\n",
       "  </thead>\n",
       "  <tbody>\n",
       "    <tr>\n",
       "      <th>0</th>\n",
       "      <td>1</td>\n",
       "      <td>Good but need updates and improvements</td>\n",
       "      <td>good but need updates and improvements</td>\n",
       "    </tr>\n",
       "    <tr>\n",
       "      <th>1</th>\n",
       "      <td>0</td>\n",
       "      <td>Worst mobile i have bought ever, Battery is dr...</td>\n",
       "      <td>worst mobile i have bought ever, battery is dr...</td>\n",
       "    </tr>\n",
       "    <tr>\n",
       "      <th>2</th>\n",
       "      <td>1</td>\n",
       "      <td>when I will get my 10% cash back.... its alrea...</td>\n",
       "      <td>when i will get my 10% cash back.... its alrea...</td>\n",
       "    </tr>\n",
       "    <tr>\n",
       "      <th>3</th>\n",
       "      <td>1</td>\n",
       "      <td>Good</td>\n",
       "      <td>good</td>\n",
       "    </tr>\n",
       "    <tr>\n",
       "      <th>4</th>\n",
       "      <td>0</td>\n",
       "      <td>The worst phone everThey have changed the last...</td>\n",
       "      <td>the worst phone everthey have changed the last...</td>\n",
       "    </tr>\n",
       "  </tbody>\n",
       "</table>\n",
       "</div>"
      ],
      "text/plain": [
       "   sentiment                                             review  \\\n",
       "0          1             Good but need updates and improvements   \n",
       "1          0  Worst mobile i have bought ever, Battery is dr...   \n",
       "2          1  when I will get my 10% cash back.... its alrea...   \n",
       "3          1                                               Good   \n",
       "4          0  The worst phone everThey have changed the last...   \n",
       "\n",
       "                                        clean_review  \n",
       "0             good but need updates and improvements  \n",
       "1  worst mobile i have bought ever, battery is dr...  \n",
       "2  when i will get my 10% cash back.... its alrea...  \n",
       "3                                               good  \n",
       "4  the worst phone everthey have changed the last...  "
      ]
     },
     "execution_count": 4,
     "metadata": {},
     "output_type": "execute_result"
    }
   ],
   "source": [
    "df['clean_review'] = df['review'].apply(lambda x: str(x).lower())\n",
    "df.head()"
   ]
  },
  {
   "cell_type": "code",
   "execution_count": 5,
   "metadata": {
    "colab": {
     "base_uri": "https://localhost:8080/",
     "height": 206
    },
    "id": "lDBN2CFxRRaE",
    "outputId": "8890a059-ebdf-4b2c-ddb1-d5460b60fce8"
   },
   "outputs": [
    {
     "data": {
      "text/html": [
       "<div>\n",
       "<style scoped>\n",
       "    .dataframe tbody tr th:only-of-type {\n",
       "        vertical-align: middle;\n",
       "    }\n",
       "\n",
       "    .dataframe tbody tr th {\n",
       "        vertical-align: top;\n",
       "    }\n",
       "\n",
       "    .dataframe thead th {\n",
       "        text-align: right;\n",
       "    }\n",
       "</style>\n",
       "<table border=\"1\" class=\"dataframe\">\n",
       "  <thead>\n",
       "    <tr style=\"text-align: right;\">\n",
       "      <th></th>\n",
       "      <th>sentiment</th>\n",
       "      <th>review</th>\n",
       "      <th>clean_review</th>\n",
       "    </tr>\n",
       "  </thead>\n",
       "  <tbody>\n",
       "    <tr>\n",
       "      <th>0</th>\n",
       "      <td>1</td>\n",
       "      <td>Good but need updates and improvements</td>\n",
       "      <td>good but need updates and improvements</td>\n",
       "    </tr>\n",
       "    <tr>\n",
       "      <th>1</th>\n",
       "      <td>0</td>\n",
       "      <td>Worst mobile i have bought ever, Battery is dr...</td>\n",
       "      <td>worst mobile i have bought ever  battery is dr...</td>\n",
       "    </tr>\n",
       "    <tr>\n",
       "      <th>2</th>\n",
       "      <td>1</td>\n",
       "      <td>when I will get my 10% cash back.... its alrea...</td>\n",
       "      <td>when i will get my     cash back     its alrea...</td>\n",
       "    </tr>\n",
       "    <tr>\n",
       "      <th>3</th>\n",
       "      <td>1</td>\n",
       "      <td>Good</td>\n",
       "      <td>good</td>\n",
       "    </tr>\n",
       "    <tr>\n",
       "      <th>4</th>\n",
       "      <td>0</td>\n",
       "      <td>The worst phone everThey have changed the last...</td>\n",
       "      <td>the worst phone everthey have changed the last...</td>\n",
       "    </tr>\n",
       "  </tbody>\n",
       "</table>\n",
       "</div>"
      ],
      "text/plain": [
       "   sentiment                                             review  \\\n",
       "0          1             Good but need updates and improvements   \n",
       "1          0  Worst mobile i have bought ever, Battery is dr...   \n",
       "2          1  when I will get my 10% cash back.... its alrea...   \n",
       "3          1                                               Good   \n",
       "4          0  The worst phone everThey have changed the last...   \n",
       "\n",
       "                                        clean_review  \n",
       "0             good but need updates and improvements  \n",
       "1  worst mobile i have bought ever  battery is dr...  \n",
       "2  when i will get my     cash back     its alrea...  \n",
       "3                                               good  \n",
       "4  the worst phone everthey have changed the last...  "
      ]
     },
     "execution_count": 5,
     "metadata": {},
     "output_type": "execute_result"
    }
   ],
   "source": [
    "df['clean_review'] = df['clean_review'].str.replace(r'[^a-zA-Z\\s]', ' ',regex=True) \n",
    "df.head()"
   ]
  },
  {
   "cell_type": "code",
   "execution_count": 6,
   "metadata": {
    "colab": {
     "base_uri": "https://localhost:8080/",
     "height": 206
    },
    "id": "F398p7xORXsn",
    "outputId": "ecfe3acb-a1e0-41ca-fd93-2a71cedf2a4e"
   },
   "outputs": [
    {
     "data": {
      "text/html": [
       "<div>\n",
       "<style scoped>\n",
       "    .dataframe tbody tr th:only-of-type {\n",
       "        vertical-align: middle;\n",
       "    }\n",
       "\n",
       "    .dataframe tbody tr th {\n",
       "        vertical-align: top;\n",
       "    }\n",
       "\n",
       "    .dataframe thead th {\n",
       "        text-align: right;\n",
       "    }\n",
       "</style>\n",
       "<table border=\"1\" class=\"dataframe\">\n",
       "  <thead>\n",
       "    <tr style=\"text-align: right;\">\n",
       "      <th></th>\n",
       "      <th>sentiment</th>\n",
       "      <th>review</th>\n",
       "      <th>clean_review</th>\n",
       "    </tr>\n",
       "  </thead>\n",
       "  <tbody>\n",
       "    <tr>\n",
       "      <th>0</th>\n",
       "      <td>1</td>\n",
       "      <td>Good but need updates and improvements</td>\n",
       "      <td>good but need updates and improvements</td>\n",
       "    </tr>\n",
       "    <tr>\n",
       "      <th>1</th>\n",
       "      <td>0</td>\n",
       "      <td>Worst mobile i have bought ever, Battery is dr...</td>\n",
       "      <td>worst mobile i have bought ever battery is dra...</td>\n",
       "    </tr>\n",
       "    <tr>\n",
       "      <th>2</th>\n",
       "      <td>1</td>\n",
       "      <td>when I will get my 10% cash back.... its alrea...</td>\n",
       "      <td>when i will get my cash back its already january</td>\n",
       "    </tr>\n",
       "    <tr>\n",
       "      <th>3</th>\n",
       "      <td>1</td>\n",
       "      <td>Good</td>\n",
       "      <td>good</td>\n",
       "    </tr>\n",
       "    <tr>\n",
       "      <th>4</th>\n",
       "      <td>0</td>\n",
       "      <td>The worst phone everThey have changed the last...</td>\n",
       "      <td>the worst phone everthey have changed the last...</td>\n",
       "    </tr>\n",
       "  </tbody>\n",
       "</table>\n",
       "</div>"
      ],
      "text/plain": [
       "   sentiment                                             review  \\\n",
       "0          1             Good but need updates and improvements   \n",
       "1          0  Worst mobile i have bought ever, Battery is dr...   \n",
       "2          1  when I will get my 10% cash back.... its alrea...   \n",
       "3          1                                               Good   \n",
       "4          0  The worst phone everThey have changed the last...   \n",
       "\n",
       "                                        clean_review  \n",
       "0             good but need updates and improvements  \n",
       "1  worst mobile i have bought ever battery is dra...  \n",
       "2  when i will get my cash back its already january   \n",
       "3                                               good  \n",
       "4  the worst phone everthey have changed the last...  "
      ]
     },
     "execution_count": 6,
     "metadata": {},
     "output_type": "execute_result"
    }
   ],
   "source": [
    "df['clean_review'] = df['clean_review'].str.replace(r'\\s{2,}', ' ',regex=True)\n",
    "df.head()"
   ]
  },
  {
   "cell_type": "code",
   "execution_count": 7,
   "metadata": {
    "colab": {
     "base_uri": "https://localhost:8080/"
    },
    "id": "U2PisgloRfOJ",
    "outputId": "45c0ed9c-15d6-4b83-f895-c5832699ded4"
   },
   "outputs": [],
   "source": [
    "import nltk\n",
    "from nltk.tokenize import word_tokenize\n",
    "#nltk.download('punkt')"
   ]
  },
  {
   "cell_type": "code",
   "execution_count": 8,
   "metadata": {
    "colab": {
     "base_uri": "https://localhost:8080/",
     "height": 206
    },
    "id": "mRkrtcFcRiVD",
    "outputId": "6778e80c-4361-46c7-a6c8-81b1a81e4dc9"
   },
   "outputs": [
    {
     "data": {
      "text/html": [
       "<div>\n",
       "<style scoped>\n",
       "    .dataframe tbody tr th:only-of-type {\n",
       "        vertical-align: middle;\n",
       "    }\n",
       "\n",
       "    .dataframe tbody tr th {\n",
       "        vertical-align: top;\n",
       "    }\n",
       "\n",
       "    .dataframe thead th {\n",
       "        text-align: right;\n",
       "    }\n",
       "</style>\n",
       "<table border=\"1\" class=\"dataframe\">\n",
       "  <thead>\n",
       "    <tr style=\"text-align: right;\">\n",
       "      <th></th>\n",
       "      <th>sentiment</th>\n",
       "      <th>review</th>\n",
       "      <th>clean_review</th>\n",
       "    </tr>\n",
       "  </thead>\n",
       "  <tbody>\n",
       "    <tr>\n",
       "      <th>0</th>\n",
       "      <td>1</td>\n",
       "      <td>Good but need updates and improvements</td>\n",
       "      <td>[good, but, need, updates, and, improvements]</td>\n",
       "    </tr>\n",
       "    <tr>\n",
       "      <th>1</th>\n",
       "      <td>0</td>\n",
       "      <td>Worst mobile i have bought ever, Battery is dr...</td>\n",
       "      <td>[worst, mobile, i, have, bought, ever, battery...</td>\n",
       "    </tr>\n",
       "    <tr>\n",
       "      <th>2</th>\n",
       "      <td>1</td>\n",
       "      <td>when I will get my 10% cash back.... its alrea...</td>\n",
       "      <td>[when, i, will, get, my, cash, back, its, alre...</td>\n",
       "    </tr>\n",
       "    <tr>\n",
       "      <th>3</th>\n",
       "      <td>1</td>\n",
       "      <td>Good</td>\n",
       "      <td>[good]</td>\n",
       "    </tr>\n",
       "    <tr>\n",
       "      <th>4</th>\n",
       "      <td>0</td>\n",
       "      <td>The worst phone everThey have changed the last...</td>\n",
       "      <td>[the, worst, phone, everthey, have, changed, t...</td>\n",
       "    </tr>\n",
       "  </tbody>\n",
       "</table>\n",
       "</div>"
      ],
      "text/plain": [
       "   sentiment                                             review  \\\n",
       "0          1             Good but need updates and improvements   \n",
       "1          0  Worst mobile i have bought ever, Battery is dr...   \n",
       "2          1  when I will get my 10% cash back.... its alrea...   \n",
       "3          1                                               Good   \n",
       "4          0  The worst phone everThey have changed the last...   \n",
       "\n",
       "                                        clean_review  \n",
       "0      [good, but, need, updates, and, improvements]  \n",
       "1  [worst, mobile, i, have, bought, ever, battery...  \n",
       "2  [when, i, will, get, my, cash, back, its, alre...  \n",
       "3                                             [good]  \n",
       "4  [the, worst, phone, everthey, have, changed, t...  "
      ]
     },
     "execution_count": 8,
     "metadata": {},
     "output_type": "execute_result"
    }
   ],
   "source": [
    "df['clean_review'] = df['clean_review'].apply(lambda x: word_tokenize(x))\n",
    "df.head()"
   ]
  },
  {
   "cell_type": "code",
   "execution_count": 9,
   "metadata": {
    "colab": {
     "base_uri": "https://localhost:8080/"
    },
    "id": "C2YTDjK1Rohi",
    "outputId": "2212b1f0-78e2-4733-882b-59cb5a6bc430"
   },
   "outputs": [],
   "source": [
    "from nltk.corpus import stopwords\n",
    "#nltk.download('stopwords')"
   ]
  },
  {
   "cell_type": "code",
   "execution_count": 10,
   "metadata": {
    "id": "aEJDsB0nRzsn"
   },
   "outputs": [
    {
     "data": {
      "text/html": [
       "<div>\n",
       "<style scoped>\n",
       "    .dataframe tbody tr th:only-of-type {\n",
       "        vertical-align: middle;\n",
       "    }\n",
       "\n",
       "    .dataframe tbody tr th {\n",
       "        vertical-align: top;\n",
       "    }\n",
       "\n",
       "    .dataframe thead th {\n",
       "        text-align: right;\n",
       "    }\n",
       "</style>\n",
       "<table border=\"1\" class=\"dataframe\">\n",
       "  <thead>\n",
       "    <tr style=\"text-align: right;\">\n",
       "      <th></th>\n",
       "      <th>sentiment</th>\n",
       "      <th>review</th>\n",
       "      <th>clean_review</th>\n",
       "    </tr>\n",
       "  </thead>\n",
       "  <tbody>\n",
       "    <tr>\n",
       "      <th>0</th>\n",
       "      <td>1</td>\n",
       "      <td>Good but need updates and improvements</td>\n",
       "      <td>[good, need, updates, improvements]</td>\n",
       "    </tr>\n",
       "    <tr>\n",
       "      <th>1</th>\n",
       "      <td>0</td>\n",
       "      <td>Worst mobile i have bought ever, Battery is dr...</td>\n",
       "      <td>[worst, mobile, bought, ever, battery, drainin...</td>\n",
       "    </tr>\n",
       "    <tr>\n",
       "      <th>2</th>\n",
       "      <td>1</td>\n",
       "      <td>when I will get my 10% cash back.... its alrea...</td>\n",
       "      <td>[cash, back, already, january]</td>\n",
       "    </tr>\n",
       "    <tr>\n",
       "      <th>3</th>\n",
       "      <td>1</td>\n",
       "      <td>Good</td>\n",
       "      <td>[good]</td>\n",
       "    </tr>\n",
       "    <tr>\n",
       "      <th>4</th>\n",
       "      <td>0</td>\n",
       "      <td>The worst phone everThey have changed the last...</td>\n",
       "      <td>[worst, phone, everthey, changed, last, phone,...</td>\n",
       "    </tr>\n",
       "  </tbody>\n",
       "</table>\n",
       "</div>"
      ],
      "text/plain": [
       "   sentiment                                             review  \\\n",
       "0          1             Good but need updates and improvements   \n",
       "1          0  Worst mobile i have bought ever, Battery is dr...   \n",
       "2          1  when I will get my 10% cash back.... its alrea...   \n",
       "3          1                                               Good   \n",
       "4          0  The worst phone everThey have changed the last...   \n",
       "\n",
       "                                        clean_review  \n",
       "0                [good, need, updates, improvements]  \n",
       "1  [worst, mobile, bought, ever, battery, drainin...  \n",
       "2                     [cash, back, already, january]  \n",
       "3                                             [good]  \n",
       "4  [worst, phone, everthey, changed, last, phone,...  "
      ]
     },
     "execution_count": 10,
     "metadata": {},
     "output_type": "execute_result"
    }
   ],
   "source": [
    "df['clean_review'] = df['clean_review'].apply\\\n",
    "(lambda x:[word for word in x if word not in stopwords.words(\"english\") and len(word) > 3 and word.isalpha()])\n",
    "df.head()"
   ]
  },
  {
   "cell_type": "code",
   "execution_count": 11,
   "metadata": {
    "id": "EZ11DnheSEIT"
   },
   "outputs": [],
   "source": [
    "from nltk.stem import WordNetLemmatizer\n",
    "#nltk.download('wordnet')"
   ]
  },
  {
   "cell_type": "code",
   "execution_count": 12,
   "metadata": {},
   "outputs": [
    {
     "data": {
      "text/html": [
       "<div>\n",
       "<style scoped>\n",
       "    .dataframe tbody tr th:only-of-type {\n",
       "        vertical-align: middle;\n",
       "    }\n",
       "\n",
       "    .dataframe tbody tr th {\n",
       "        vertical-align: top;\n",
       "    }\n",
       "\n",
       "    .dataframe thead th {\n",
       "        text-align: right;\n",
       "    }\n",
       "</style>\n",
       "<table border=\"1\" class=\"dataframe\">\n",
       "  <thead>\n",
       "    <tr style=\"text-align: right;\">\n",
       "      <th></th>\n",
       "      <th>sentiment</th>\n",
       "      <th>review</th>\n",
       "      <th>clean_review</th>\n",
       "    </tr>\n",
       "  </thead>\n",
       "  <tbody>\n",
       "    <tr>\n",
       "      <th>0</th>\n",
       "      <td>1</td>\n",
       "      <td>Good but need updates and improvements</td>\n",
       "      <td>[good, need, update, improvement]</td>\n",
       "    </tr>\n",
       "    <tr>\n",
       "      <th>1</th>\n",
       "      <td>0</td>\n",
       "      <td>Worst mobile i have bought ever, Battery is dr...</td>\n",
       "      <td>[worst, mobile, bought, ever, battery, drainin...</td>\n",
       "    </tr>\n",
       "    <tr>\n",
       "      <th>2</th>\n",
       "      <td>1</td>\n",
       "      <td>when I will get my 10% cash back.... its alrea...</td>\n",
       "      <td>[cash, back, already, january]</td>\n",
       "    </tr>\n",
       "    <tr>\n",
       "      <th>3</th>\n",
       "      <td>1</td>\n",
       "      <td>Good</td>\n",
       "      <td>[good]</td>\n",
       "    </tr>\n",
       "    <tr>\n",
       "      <th>4</th>\n",
       "      <td>0</td>\n",
       "      <td>The worst phone everThey have changed the last...</td>\n",
       "      <td>[worst, phone, everthey, changed, last, phone,...</td>\n",
       "    </tr>\n",
       "  </tbody>\n",
       "</table>\n",
       "</div>"
      ],
      "text/plain": [
       "   sentiment                                             review  \\\n",
       "0          1             Good but need updates and improvements   \n",
       "1          0  Worst mobile i have bought ever, Battery is dr...   \n",
       "2          1  when I will get my 10% cash back.... its alrea...   \n",
       "3          1                                               Good   \n",
       "4          0  The worst phone everThey have changed the last...   \n",
       "\n",
       "                                        clean_review  \n",
       "0                  [good, need, update, improvement]  \n",
       "1  [worst, mobile, bought, ever, battery, drainin...  \n",
       "2                     [cash, back, already, january]  \n",
       "3                                             [good]  \n",
       "4  [worst, phone, everthey, changed, last, phone,...  "
      ]
     },
     "execution_count": 12,
     "metadata": {},
     "output_type": "execute_result"
    }
   ],
   "source": [
    "df['clean_review'] = df['clean_review'].apply\\\n",
    "(lambda x: [WordNetLemmatizer().lemmatize(word) for word in x])\n",
    "df.head()"
   ]
  },
  {
   "cell_type": "code",
   "execution_count": 13,
   "metadata": {},
   "outputs": [],
   "source": [
    "#df['clean_review'] = df['clean_review'].apply\\\n",
    "#(lambda x: [word for word in x if nltk.pos_tag([word])[0][1] == 'NN'])"
   ]
  },
  {
   "cell_type": "code",
   "execution_count": 14,
   "metadata": {},
   "outputs": [],
   "source": [
    "df['clean_review'] = df['clean_review'].apply\\\n",
    "(lambda x: [word for word in x if nltk.pos_tag([word])[0][1] == 'NN' or nltk.pos_tag([word])[0][1] == 'NNP' or nltk.pos_tag([word])[0][1] == 'NNS' or nltk.pos_tag([word])[0][1] == 'NNPS'])"
   ]
  },
  {
   "cell_type": "code",
   "execution_count": 15,
   "metadata": {},
   "outputs": [],
   "source": [
    "#!pip install gensim"
   ]
  },
  {
   "cell_type": "code",
   "execution_count": 16,
   "metadata": {},
   "outputs": [],
   "source": [
    "import gensim\n",
    "from gensim import corpora"
   ]
  },
  {
   "cell_type": "code",
   "execution_count": 17,
   "metadata": {},
   "outputs": [
    {
     "name": "stdout",
     "output_type": "stream",
     "text": [
      "Dictionary(7286 unique tokens: ['improvement', 'need', 'update', 'amazon', 'backup']...)\n"
     ]
    }
   ],
   "source": [
    "dictionary = corpora.Dictionary(df['clean_review'])\n",
    "print(dictionary)"
   ]
  },
  {
   "cell_type": "code",
   "execution_count": 18,
   "metadata": {},
   "outputs": [
    {
     "data": {
      "text/plain": [
       "0                             [(0, 1), (1, 1), (2, 1)]\n",
       "1    [(3, 1), (4, 1), (5, 2), (6, 1), (7, 1), (8, 1...\n",
       "2                                   [(19, 1), (20, 1)]\n",
       "3                                                   []\n",
       "4                  [(3, 2), (21, 1), (22, 3), (23, 1)]\n",
       "5        [(24, 1), (25, 1), (26, 1), (27, 1), (28, 1)]\n",
       "6    [(14, 1), (22, 1), (29, 1), (30, 1), (31, 1), ...\n",
       "7                           [(5, 1), (36, 1), (37, 1)]\n",
       "8    [(14, 2), (22, 2), (23, 2), (34, 1), (38, 1), ...\n",
       "9                 [(44, 1), (45, 1), (46, 1), (47, 1)]\n",
       "Name: clean_review, dtype: object"
      ]
     },
     "execution_count": 18,
     "metadata": {},
     "output_type": "execute_result"
    }
   ],
   "source": [
    "doc_term_matrix = df['clean_review'].apply(lambda x: dictionary.doc2bow(x))\n",
    "doc_term_matrix[:10]"
   ]
  },
  {
   "cell_type": "code",
   "execution_count": 19,
   "metadata": {},
   "outputs": [],
   "source": [
    "from IPython.display import clear_output\n",
    "Lda = gensim.models.ldamodel.LdaModel\n",
    "ldamodel = Lda(corpus=doc_term_matrix, num_topics=12, id2word=dictionary, passes=10,random_state=101)\n",
    "clear_output()"
   ]
  },
  {
   "cell_type": "code",
   "execution_count": 20,
   "metadata": {},
   "outputs": [
    {
     "data": {
      "text/plain": [
       "[(0,\n",
       "  '0.145*\"money\" + 0.080*\"waste\" + 0.071*\"heat\" + 0.052*\"value\" + 0.051*\"worth\" + 0.045*\"speaker\" + 0.034*\"star\" + 0.026*\"buying\" + 0.020*\"problem\" + 0.019*\"experience\"'),\n",
       " (1,\n",
       "  '0.053*\"update\" + 0.049*\"network\" + 0.048*\"issue\" + 0.042*\"call\" + 0.036*\"problem\" + 0.032*\"lenovo\" + 0.030*\"screen\" + 0.028*\"work\" + 0.022*\"software\" + 0.021*\"handset\"'),\n",
       " (2,\n",
       "  '0.247*\"battery\" + 0.057*\"fast\" + 0.051*\"phone\" + 0.044*\"backup\" + 0.042*\"charge\" + 0.038*\"hour\" + 0.034*\"drain\" + 0.026*\"life\" + 0.025*\"time\" + 0.020*\"heat\"'),\n",
       " (3,\n",
       "  '0.282*\"camera\" + 0.126*\"quality\" + 0.034*\"front\" + 0.030*\"sound\" + 0.029*\"mode\" + 0.027*\"performance\" + 0.024*\"depth\" + 0.022*\"rear\" + 0.022*\"display\" + 0.016*\"picture\"'),\n",
       " (4,\n",
       "  '0.094*\"note\" + 0.078*\"lenovo\" + 0.025*\"phone\" + 0.023*\"feature\" + 0.021*\"dolby\" + 0.019*\"android\" + 0.016*\"light\" + 0.016*\"music\" + 0.014*\"call\" + 0.014*\"speaker\"'),\n",
       " (5,\n",
       "  '0.434*\"phone\" + 0.035*\"service\" + 0.031*\"lenovo\" + 0.029*\"month\" + 0.026*\"time\" + 0.023*\"day\" + 0.016*\"bought\" + 0.015*\"center\" + 0.014*\"problem\" + 0.012*\"please\"'),\n",
       " (6,\n",
       "  '0.420*\"mobile\" + 0.079*\"charger\" + 0.040*\"super\" + 0.037*\"performance\" + 0.032*\"glass\" + 0.032*\"turbo\" + 0.020*\"gorilla\" + 0.015*\"month\" + 0.012*\"screen\" + 0.012*\"broken\"'),\n",
       " (7,\n",
       "  '0.190*\"excellent\" + 0.095*\"device\" + 0.064*\"love\" + 0.031*\"smart\" + 0.029*\"finger\" + 0.023*\"bill\" + 0.020*\"print\" + 0.020*\"function\" + 0.020*\"sensor\" + 0.016*\"mind\"'),\n",
       " (8,\n",
       "  '0.157*\"heating\" + 0.108*\"awesome\" + 0.106*\"problem\" + 0.101*\"issue\" + 0.097*\"phone\" + 0.043*\"camera\" + 0.019*\"expectation\" + 0.017*\"performance\" + 0.014*\"speed\" + 0.013*\"killer\"'),\n",
       " (9,\n",
       "  '0.141*\"phone\" + 0.103*\"price\" + 0.043*\"range\" + 0.040*\"feature\" + 0.037*\"processor\" + 0.019*\"touch\" + 0.017*\"screen\" + 0.016*\"game\" + 0.014*\"core\" + 0.012*\"specification\"'),\n",
       " (10,\n",
       "  '0.242*\"product\" + 0.089*\"amazon\" + 0.045*\"return\" + 0.035*\"lenovo\" + 0.023*\"want\" + 0.021*\"replacement\" + 0.021*\"delivery\" + 0.020*\"service\" + 0.019*\"customer\" + 0.018*\"please\"'),\n",
       " (11,\n",
       "  '0.109*\"superb\" + 0.074*\"budget\" + 0.057*\"headphone\" + 0.053*\"hang\" + 0.053*\"smartphone\" + 0.050*\"earphone\" + 0.046*\"till\" + 0.028*\"date\" + 0.018*\"segment\" + 0.017*\"package\"')]"
      ]
     },
     "execution_count": 20,
     "metadata": {},
     "output_type": "execute_result"
    }
   ],
   "source": [
    "ldamodel.print_topics()"
   ]
  },
  {
   "cell_type": "code",
   "execution_count": 21,
   "metadata": {},
   "outputs": [],
   "source": [
    "#!pip install pyLDAvis"
   ]
  },
  {
   "cell_type": "code",
   "execution_count": 22,
   "metadata": {},
   "outputs": [
    {
     "name": "stderr",
     "output_type": "stream",
     "text": [
      "C:\\Users\\Admin\\anaconda3\\lib\\site-packages\\pyLDAvis\\_prepare.py:246: FutureWarning: In a future version of pandas all arguments of DataFrame.drop except for the argument 'labels' will be keyword-only.\n",
      "  default_term_info = default_term_info.sort_values(\n"
     ]
    },
    {
     "data": {
      "text/html": [
       "\n",
       "<link rel=\"stylesheet\" type=\"text/css\" href=\"https://cdn.jsdelivr.net/gh/bmabey/pyLDAvis@3.3.1/pyLDAvis/js/ldavis.v1.0.0.css\">\n",
       "\n",
       "\n",
       "<div id=\"ldavis_el1554025270716278565633252159\"></div>\n",
       "<script type=\"text/javascript\">\n",
       "\n",
       "var ldavis_el1554025270716278565633252159_data = {\"mdsDat\": {\"x\": [0.07454075503732936, 0.16454328978120694, 0.04993054426101245, 0.06277040046256978, -0.08053031260784493, 0.136563797151726, 0.1841874771591096, 0.1714614392020557, -0.1408168357648496, -0.12952087403807241, -0.24762482111532227, -0.24550485952892157], \"y\": [0.0959134045123469, -0.08959317035407544, 0.18553860330078803, -0.22225302126290852, 0.2849225033052137, -0.02761078252119328, 0.1089489328913308, -0.12136788182149184, -0.15653330225206272, 0.02873188586482061, -0.0622921548760831, -0.02440501678668511], \"topics\": [1, 2, 3, 4, 5, 6, 7, 8, 9, 10, 11, 12], \"cluster\": [1, 1, 1, 1, 1, 1, 1, 1, 1, 1, 1, 1], \"Freq\": [13.731661861828085, 13.466449757747492, 11.476407250099086, 10.828217163896884, 9.363213423001646, 9.15196487332614, 9.07498063455234, 6.960108595293497, 6.0129337556517495, 4.457291537430546, 2.805565493746343, 2.671205653426191]}, \"tinfo\": {\"Term\": [\"phone\", \"mobile\", \"battery\", \"camera\", \"product\", \"quality\", \"heating\", \"note\", \"price\", \"issue\", \"money\", \"awesome\", \"problem\", \"amazon\", \"excellent\", \"lenovo\", \"fast\", \"heat\", \"device\", \"charger\", \"update\", \"network\", \"backup\", \"waste\", \"charge\", \"superb\", \"call\", \"hour\", \"return\", \"performance\", \"dolby\", \"atmos\", \"button\", \"notification\", \"gallery\", \"google\", \"volume\", \"message\", \"audio\", \"cell\", \"player\", \"facility\", \"vibe\", \"install\", \"loud\", \"ringtone\", \"reception\", \"screenshot\", \"inbuilt\", \"bottom\", \"difference\", \"key\", \"functionality\", \"read\", \"unlock\", \"resolve\", \"hear\", \"china\", \"capture\", \"premium\", \"note\", \"redmi\", \"light\", \"whatsapp\", \"music\", \"android\", \"photo\", \"stock\", \"lenovo\", \"compare\", \"hardware\", \"version\", \"video\", \"power\", \"speaker\", \"feature\", \"user\", \"option\", \"sound\", \"call\", \"found\", \"thing\", \"phone\", \"speed\", \"device\", \"screen\", \"apps\", \"backup\", \"hour\", \"drain\", \"life\", \"charge\", \"resolution\", \"medium\", \"standby\", \"battery\", \"capacity\", \"okay\", \"discharge\", \"drainage\", \"saver\", \"site\", \"bekar\", \"awsome\", \"guard\", \"control\", \"sims\", \"movie\", \"atleast\", \"processer\", \"coverage\", \"maximum\", \"remains\", \"minimum\", \"temperature\", \"moderate\", \"crash\", \"fast\", \"usage\", \"half\", \"minute\", \"quick\", \"internet\", \"perfect\", \"heat\", \"turbo\", \"connectivity\", \"time\", \"performance\", \"phone\", \"day\", \"min\", \"heating\", \"issue\", \"problem\", \"hang\", \"game\", \"month\", \"work\", \"think\", \"le\", \"network\", \"handset\", \"cast\", \"signal\", \"wifi\", \"connect\", \"number\", \"connection\", \"bug\", \"multiple\", \"strength\", \"someone\", \"hotspot\", \"party\", \"become\", \"cash\", \"camara\", \"update\", \"caller\", \"upgrade\", \"contain\", \"venom\", \"bakwas\", \"comment\", \"tray\", \"aspect\", \"operating\", \"stuck\", \"alot\", \"moment\", \"oreo\", \"data\", \"call\", \"software\", \"system\", \"bluetooth\", \"model\", \"voice\", \"drop\", \"support\", \"show\", \"hope\", \"work\", \"apps\", \"screen\", \"issue\", \"contact\", \"problem\", \"option\", \"help\", \"lenovo\", \"need\", \"time\", \"device\", \"please\", \"note\", \"front\", \"depth\", \"rear\", \"picture\", \"clarity\", \"effect\", \"selfie\", \"quality\", \"focus\", \"result\", \"bokeh\", \"place\", \"blur\", \"primary\", \"paisa\", \"case\", \"standard\", \"background\", \"opening\", \"split\", \"dull\", \"insert\", \"dark\", \"transparent\", \"duel\", \"lens\", \"honest\", \"fails\", \"rock\", \"room\", \"camera\", \"pic\", \"image\", \"mode\", \"flash\", \"mark\", \"sound\", \"everything\", \"display\", \"fine\", \"wise\", \"design\", \"performance\", \"look\", \"volta\", \"cover\", \"work\", \"decent\", \"video\", \"upto\", \"need\", \"feature\", \"phone\", \"product\", \"return\", \"replacement\", \"policy\", \"faulty\", \"order\", \"head\", \"seller\", \"mail\", \"raha\", \"brought\", \"batter\", \"atom\", \"sell\", \"didnt\", \"comparison\", \"awsm\", \"couple\", \"doubt\", \"flipkart\", \"thik\", \"adapter\", \"maintain\", \"hone\", \"world\", \"fire\", \"fraud\", \"everyone\", \"mast\", \"thats\", \"refund\", \"amazon\", \"care\", \"customer\", \"want\", \"thanks\", \"delivery\", \"send\", \"class\", \"purchase\", \"please\", \"service\", \"check\", \"dont\", \"request\", \"lenovo\", \"company\", \"piece\", \"experience\", \"day\", \"time\", \"help\", \"support\", \"need\", \"price\", \"range\", \"processor\", \"core\", \"cost\", \"moto\", \"deca\", \"point\", \"color\", \"body\", \"mediatek\", \"market\", \"zoom\", \"list\", \"detail\", \"becomes\", \"information\", \"gold\", \"snapdragon\", \"spend\", \"photography\", \"motion\", \"battry\", \"height\", \"clearity\", \"purpose\", \"search\", \"scanner\", \"yellow\", \"slim\", \"specification\", \"broke\", \"lag\", \"touch\", \"recommend\", \"nothing\", \"game\", \"memory\", \"smooth\", \"con\", \"feel\", \"feature\", \"slot\", \"hand\", \"phone\", \"rest\", \"fingerprint\", \"sensor\", \"screen\", \"worth\", \"look\", \"card\", \"usage\", \"center\", \"centre\", \"restart\", \"nahi\", \"thank\", \"process\", \"concern\", \"visit\", \"choose\", \"jata\", \"wrost\", \"repair\", \"ring\", \"spent\", \"icon\", \"phon\", \"wait\", \"test\", \"guess\", \"amazone\", \"kiya\", \"october\", \"tone\", \"crack\", \"gaya\", \"custom\", \"menu\", \"ghatiya\", \"mobail\", \"bettry\", \"buyer\", \"year\", \"warranty\", \"today\", \"phone\", \"switch\", \"service\", \"start\", \"brand\", \"month\", \"bought\", \"day\", \"condition\", \"time\", \"stop\", \"week\", \"lenovo\", \"please\", \"useless\", \"problem\", \"screen\", \"delivery\", \"purchase\", \"amazon\", \"issue\", \"volta\", \"awesome\", \"expectation\", \"processing\", \"nougat\", \"hota\", \"percent\", \"meet\", \"protection\", \"beautiful\", \"loss\", \"stylish\", \"blue\", \"west\", \"cause\", \"department\", \"rupee\", \"effort\", \"turbocharger\", \"deep\", \"brilliant\", \"pixel\", \"iphone\", \"overheat\", \"iska\", \"bright\", \"selfi\", \"november\", \"deliver\", \"stuff\", \"kill\", \"heating\", \"minor\", \"problem\", \"issue\", \"killer\", \"speed\", \"build\", \"phone\", \"cool\", \"spec\", \"camera\", \"performance\", \"feature\", \"thing\", \"month\", \"everything\", \"android\", \"battery\", \"guy\", \"display\", \"experience\", \"oreo\", \"charger\", \"mobile\", \"super\", \"glass\", \"gorilla\", \"broken\", \"scratch\", \"longer\", \"fall\", \"present\", \"description\", \"view\", \"cable\", \"wire\", \"discount\", \"tech\", \"proof\", \"sufficient\", \"difficulty\", \"cheat\", \"fail\", \"complaint\", \"table\", \"trendy\", \"phoneall\", \"enjoy\", \"refer\", \"splash\", \"cemera\", \"thanx\", \"headset\", \"weight\", \"turbo\", \"cool\", \"piece\", \"handle\", \"hell\", \"understand\", \"performance\", \"change\", \"pocket\", \"month\", \"series\", \"display\", \"screen\", \"fake\", \"feature\", \"fine\", \"bought\", \"dont\", \"money\", \"waste\", \"value\", \"solve\", \"lenova\", \"wonderful\", \"complain\", \"paid\", \"told\", \"damage\", \"iron\", \"degree\", \"period\", \"september\", \"decision\", \"decacore\", \"reading\", \"mobil\", \"tube\", \"worthless\", \"superfast\", \"donot\", \"blast\", \"optimization\", \"arrange\", \"rough\", \"remote\", \"bother\", \"explore\", \"revert\", \"star\", \"worth\", \"buying\", \"left\", \"heat\", \"speaker\", \"rating\", \"side\", \"zero\", \"word\", \"experience\", \"reset\", \"right\", \"review\", \"problem\", \"dont\", \"bluetooth\", \"time\", \"proper\", \"response\", \"superb\", \"budget\", \"headphone\", \"smartphone\", \"earphone\", \"date\", \"segment\", \"package\", \"bahut\", \"accessory\", \"percentage\", \"mera\", \"chor\", \"maine\", \"liye\", \"isme\", \"karne\", \"abhi\", \"technology\", \"karta\", \"mujhe\", \"recharge\", \"jayega\", \"cameragood\", \"delay\", \"itna\", \"khrab\", \"accha\", \"mene\", \"restarts\", \"till\", \"jack\", \"hang\", \"idea\", \"configuration\", \"reply\", \"speed\", \"excellent\", \"love\", \"finger\", \"bill\", \"print\", \"mind\", \"amount\", \"blowing\", \"fone\", \"multi\", \"wont\", \"pack\", \"wastage\", \"copy\", \"chrome\", \"boot\", \"clean\", \"mila\", \"flop\", \"cashback\", \"duty\", \"micro\", \"port\", \"bass\", \"hdfc\", \"material\", \"disappoint\", \"manages\", \"fitting\", \"delayed\", \"deal\", \"device\", \"smart\", \"worthy\", \"item\", \"function\", \"disappointment\", \"sensor\", \"invoice\", \"cheap\", \"storage\"], \"Freq\": [7351.0, 2606.0, 3489.0, 3525.0, 2330.0, 1421.0, 1320.0, 1426.0, 971.0, 1553.0, 665.0, 776.0, 1593.0, 937.0, 523.0, 2107.0, 839.0, 606.0, 490.0, 488.0, 644.0, 574.0, 616.0, 368.0, 580.0, 315.0, 705.0, 531.0, 429.0, 950.0, 293.28931248197074, 140.08912106652335, 136.50582526302594, 130.73793918357882, 125.05566341515605, 105.21709993083833, 103.46466924092998, 101.55226893032182, 86.20866152790349, 73.67068124241992, 59.177041237397006, 57.96479686327456, 52.51165902782299, 49.8393552893648, 49.010513967644336, 43.9627281831302, 43.29696383883083, 39.96969250400312, 37.7693350260461, 37.3481268974324, 36.71099039360436, 35.68482862839135, 34.635223436728204, 34.384406423919785, 33.487381005669086, 32.29948856483478, 31.873132230805744, 31.0007648731473, 30.982551944398544, 30.679364120747415, 1333.2655430047653, 170.0502677398426, 226.7120880460866, 48.853259992384196, 224.8596821037009, 270.6526137704403, 180.91230966114776, 155.72046838465536, 1096.0779497800283, 89.29374666488377, 64.1981412793906, 74.70327826440209, 173.58267399364624, 106.11539594198565, 197.69651265640508, 329.46942546318724, 116.33107474835073, 164.9004296455512, 196.16599463675269, 202.5613429388797, 92.30389973787767, 108.97405879143442, 357.93370837015743, 110.55378759814518, 119.38203821184293, 126.43726531397098, 92.51733301097894, 615.4537968365597, 530.6553730413435, 473.1896398790802, 355.2988950510707, 578.5876274202168, 59.0931297397546, 54.398719515252395, 51.7205453534261, 3421.9349816141907, 44.24706620138249, 43.90865311630133, 38.76729409042062, 36.942149582736604, 31.63651818962792, 29.408966425193043, 28.298617188114196, 26.831628922993776, 26.53268117012346, 26.006206116920467, 25.691040309244432, 25.634068903942143, 23.6698555447339, 23.288986277963883, 22.521960090408772, 22.116952586216435, 21.694082302114175, 20.90869781884248, 20.87201673668536, 20.099191238728483, 19.838057636732803, 788.8574454187135, 242.51296374765695, 81.29203127885677, 80.5764160667865, 57.929600519620536, 98.12531334514193, 96.76168612636393, 279.60750300260963, 205.80387445608446, 62.40663586862366, 347.2770009554007, 257.7097975991748, 710.9168312630806, 145.29688155629256, 50.436313647774405, 193.2216467060358, 198.12722091084478, 189.36765065833097, 81.10636295875214, 74.34509335639424, 87.58698015569423, 92.62366106390276, 62.910964431979, 56.67433469887563, 573.188552464246, 247.02584863089768, 216.69567512709438, 213.0766728215612, 122.62337066122353, 103.95876616627345, 79.6890008706172, 75.17435403727839, 68.04651335649707, 54.56658480158781, 48.305370340335074, 46.790960182925886, 42.292096250097636, 42.65021430675834, 38.15739447928511, 32.21135108848592, 31.893569250630502, 625.9116823814825, 29.995918246345777, 28.477224669711394, 26.29493124182091, 25.57493166189702, 25.255975116264363, 24.060694822028733, 24.051393447333556, 24.01971760342931, 23.602319445635317, 20.651020215362347, 20.551310358973126, 19.896029749680412, 124.29204993646967, 150.96541040010197, 501.84665091287616, 265.3279608645833, 143.85624399658502, 138.04528649802398, 121.19467290547152, 81.06602248845908, 44.05134907136248, 192.9547814298262, 127.46760143163169, 65.1387457152478, 330.55557171008945, 156.61774108265476, 350.11402153170627, 567.63125481555, 104.45712837531826, 424.7115637885682, 165.32769030253675, 88.70074819958238, 378.1158416888624, 137.4533548254677, 201.58806377304296, 94.0805026606628, 91.5706335783198, 91.91814350104835, 384.2311535882052, 271.7891669421127, 245.8442396263936, 182.29547590968411, 166.52111966403808, 121.03299673988998, 104.89457927102397, 1404.901877642322, 69.88989123280814, 59.93968393759311, 59.98124614032382, 40.85116771748098, 38.35668799465847, 34.28885878389006, 33.44680108097608, 32.171291549945785, 31.246065314825042, 26.48360585733152, 23.2272259623549, 22.298664264424453, 21.866419432577793, 19.035876906455034, 18.642416888073416, 17.972598850685227, 15.419013948167512, 15.392269246953681, 14.910720564259627, 14.467123478250915, 14.359423071324697, 13.3261992226694, 3145.415209468007, 38.153536246174895, 117.29954183548976, 325.5582187248465, 130.2361953416585, 153.40837448704423, 336.0317276887676, 174.14062494961425, 244.8870734147177, 130.33124954250778, 49.54630914321373, 57.79551865897099, 306.09128451513266, 140.76701716070664, 99.1921059273382, 56.023310695294235, 167.08321133759102, 60.9279621004263, 99.12835575877298, 58.68796391368415, 90.4141126436888, 97.6483343372262, 128.2746213438813, 2329.4780905756857, 429.0558048941164, 206.8181111016137, 104.98476222531244, 48.89685616573482, 47.92401057160232, 45.26154060088132, 41.637025603124464, 38.499519218729, 34.62749122500745, 31.810073966474825, 29.968927419570445, 29.17898893542805, 27.762283128155644, 26.532080130891803, 26.065741181369347, 25.64483105105637, 25.546167017715938, 25.152027120936136, 22.257017259633177, 20.45038449499086, 19.890355339369485, 19.550815316902423, 18.60584537594048, 18.417966683215738, 18.385086901960815, 17.38404693468108, 16.82938102824454, 16.656468707381894, 14.826525616558746, 132.8589160652783, 860.0464106291261, 107.37258535642134, 187.3678429593223, 219.97602092596148, 117.91350789742266, 203.38430287524778, 58.84356795587063, 59.150751167185334, 122.87357182275942, 175.15860539003165, 197.38927887243847, 58.908833726867336, 96.17760453316116, 51.35817343005494, 337.3550937796919, 57.39258403955835, 55.57179068102312, 77.43465233232835, 96.96116188424958, 120.06068397910647, 50.15430523198996, 51.86533322616647, 49.587419107856476, 970.0608113393768, 406.02825998578703, 350.98616439125595, 129.24769258781012, 98.95133240457268, 95.81504986232152, 87.05512186765783, 71.41956537149503, 60.20518247673582, 53.86449342366257, 46.874634637623, 45.60767186235443, 36.42029514334386, 32.31906199126947, 29.650419822992244, 29.60353249025047, 26.18984200474649, 24.687145990172464, 24.53278548429041, 24.07234757678621, 21.832496779666556, 21.201180739094603, 20.738799065129182, 19.918595434514124, 19.78845741790785, 19.758333425493603, 19.459039461679687, 18.871710461229043, 17.994207403487387, 17.932376543374726, 111.00888872097288, 32.67160330923722, 66.71636573609273, 179.30614648515802, 107.47722740711762, 97.51043543903491, 150.83094190537085, 98.6508778849371, 94.56236038795215, 76.81985319025416, 103.8490096039946, 372.7883265672438, 80.019801762646, 66.29779339899426, 1328.644671788996, 60.52907188727293, 55.83962341234346, 72.29080713185483, 156.8107046795116, 97.89467814003272, 93.02030858720676, 69.80659461519045, 57.30733821221752, 144.27634178545065, 90.77452966494923, 83.25594547721684, 69.02108682927344, 66.78821244296911, 37.974262140576165, 37.55716585015641, 32.09916333702012, 31.981319037955128, 31.005520121560867, 30.466702946062686, 27.093207299989253, 26.70402155870102, 25.119389798546838, 24.832572468052227, 23.245915398370258, 22.80312748010613, 22.085454371798395, 20.75490215150123, 20.71223577581015, 20.345130476742103, 20.140197867982465, 20.010219115054994, 19.46031603477316, 18.961735298615327, 17.65298397996443, 15.153696549648654, 14.687788341737615, 14.460075895469735, 14.192200973904411, 25.3078001453693, 64.56039371653864, 66.92647299328893, 53.739358521356145, 4053.9732988057726, 80.46026128514373, 322.48322706603295, 87.52930072175131, 65.23660345255901, 269.9529195966112, 153.43584872081402, 216.50693727602493, 57.35436417081879, 239.79536024493532, 46.642943687221596, 66.463679976832, 290.53525058353677, 112.77057456135357, 39.19251954043924, 130.380777956443, 87.50384838933986, 56.905467692775915, 53.16685507514077, 76.71391289878592, 63.11388763109661, 41.17162329553634, 775.5224748070444, 136.78099343969853, 50.85701283409323, 36.81106396222708, 36.339227565397906, 35.541673894658594, 26.04720105816611, 24.78325012303632, 22.619059368372145, 20.848760240555997, 20.758692545329588, 20.060097716063872, 19.012018606265563, 17.405670947228824, 17.286480535217922, 17.005270714355227, 16.790283165156417, 16.63114849863177, 15.55728356311566, 15.457350349450596, 14.886758661502896, 14.808903987580548, 14.162259546886508, 13.306282753128924, 13.217848466079653, 13.144008072110527, 11.616773929151039, 11.336767891740651, 11.323710636996715, 11.306881026901891, 1126.3268427931807, 24.849582512105407, 756.5831887469138, 723.3331247923007, 91.12021073288373, 103.08799056489377, 46.57650570089861, 692.7155742428878, 46.67626873311927, 32.61465315769503, 306.5318320697943, 125.02257682699442, 81.41074534185584, 42.16352399235661, 52.55587746639934, 36.3701672193682, 38.956134331079156, 62.453406701054504, 26.194020928209156, 32.82446352040388, 28.76026033993387, 24.04538008591573, 487.9200955681296, 2598.238679720862, 247.40571527341555, 200.06411616639917, 123.4634826027019, 71.36717739125625, 51.9167306941484, 36.89675737319883, 35.770738204913634, 26.23408366656724, 24.768858578544396, 22.174205427567642, 58.03473521530918, 15.877821303985034, 15.81807988439328, 12.84722169433367, 11.791963395848423, 11.148931991273097, 10.334227065648559, 9.184081859746005, 8.711708514784748, 60.13285583166615, 7.448652501513504, 7.370703404350804, 7.367089111166103, 7.0448044256624724, 6.946419977901128, 6.728668723100392, 6.485272202360591, 6.331354482147169, 66.07490084941094, 42.30121177402424, 199.71799732537983, 63.85471730023114, 71.15617473892442, 22.853957762620915, 23.363106810997714, 16.917662461930473, 228.7138910587111, 36.67469635304525, 17.991901024685372, 92.81330201470189, 16.932619798073105, 59.860415240070225, 74.9316329683189, 23.86451269567034, 61.769102210362895, 25.767997678284615, 26.904579375167014, 24.22235438672803, 664.095488439919, 367.8443405082177, 239.1277609415142, 50.59990918180598, 59.35923180800664, 43.496211658517986, 41.38527234290197, 35.49500880116689, 35.37578762121927, 33.419228941970985, 26.756126228491926, 21.971514652661465, 18.70675194546635, 18.108276153479427, 17.00036434893357, 15.537026405071925, 14.481437077321687, 14.4646458885524, 12.223911698807356, 12.081207429660159, 11.72272222744609, 11.69895705909697, 11.25433834748052, 10.894701322072477, 10.675130484674414, 10.595434577075086, 10.521205021479808, 10.09195000717889, 10.08578486819074, 9.280587798852805, 156.91914356516187, 233.3024845893003, 117.06129989955764, 57.12266469660714, 326.1997476744277, 204.39003849352775, 38.49081972408762, 64.0913317857935, 21.72815727728174, 23.277534704162584, 89.32986791580969, 16.86010262878584, 33.18075452762694, 48.48213158377676, 91.67008201896074, 39.16181763802978, 36.435022608281045, 48.110274334, 23.98471354296032, 22.25695951933118, 314.18783629813174, 213.49028821951808, 163.49954080085573, 152.66839619970673, 145.1618890360668, 79.53656286092631, 51.84211908578498, 48.6033781227678, 40.00784731655546, 36.77135531854533, 28.419958272327193, 21.67449306564069, 20.796783358796837, 20.719325883380446, 18.949445570894397, 17.65487701826041, 17.405957482252397, 16.32813831247229, 15.694208610959443, 14.976233257831312, 14.971733982742439, 13.279905668718904, 13.20654663611142, 12.60432438203355, 11.426944123224063, 11.425720105187926, 11.100444037458665, 10.665786489840873, 10.211034197771596, 10.20859288707315, 132.78725500120106, 43.23727767204943, 153.58793235144253, 22.24141248743678, 31.255136453606113, 17.1882907584088, 31.631286611633996, 522.2853240116945, 176.28204926277164, 79.99983752132526, 63.34982722491717, 54.944875688755246, 43.4258544364401, 42.20475935660227, 36.65978720485406, 35.93205300825227, 27.463480918779677, 23.922385868735915, 23.882557389168266, 23.75802615594775, 22.876541221629765, 20.377324619295976, 17.401011496765037, 16.28056977228474, 12.503483937180874, 11.396587737729101, 11.068758369815136, 10.977295019903822, 10.606719192014014, 10.031499897669155, 9.403821629231377, 9.271574428506195, 8.886405496929141, 7.858750042597888, 7.853179178092445, 6.255822786922987, 6.181038093077567, 31.275903964067147, 261.87101860248345, 85.53016662370446, 29.281216867808926, 41.19893784915683, 54.47735337155641, 18.63069339189229, 54.12464977346102, 19.97910385654485, 24.01914218025665, 17.418454065630353], \"Total\": [7351.0, 2606.0, 3489.0, 3525.0, 2330.0, 1421.0, 1320.0, 1426.0, 971.0, 1553.0, 665.0, 776.0, 1593.0, 937.0, 523.0, 2107.0, 839.0, 606.0, 490.0, 488.0, 644.0, 574.0, 616.0, 368.0, 580.0, 315.0, 705.0, 531.0, 429.0, 950.0, 294.22650848936155, 141.02630451286726, 137.44301222594015, 131.6751259791674, 125.99284981063296, 106.154294903186, 104.40185498045703, 102.48945932476549, 87.14585017446545, 74.60788153676012, 60.1142202477815, 58.90201307837426, 53.45042325272458, 50.77655890606396, 49.94770501161911, 44.90034977660874, 44.23416973965645, 40.9068778035512, 38.70651449386305, 38.285318399649704, 37.648182621106216, 36.62202102552536, 35.57241973824075, 35.32160377756442, 34.42458589104101, 33.236696937913365, 32.81032228873411, 31.937957160681297, 31.919746060025048, 31.616589951346704, 1426.0372624002305, 179.51812993516324, 261.60242436169193, 51.62122878371472, 265.1469216458502, 351.5422280081181, 226.3796751219985, 191.64293707372613, 2107.2353218524254, 111.91729268237569, 75.49133655270838, 94.18130024810269, 295.6075932788245, 154.70102808016713, 402.9389680649532, 956.7408458276547, 207.5987782063934, 389.93503845329695, 533.051669403488, 705.2613731972157, 169.58954596172433, 252.90613222594877, 7351.814414898261, 293.5861642565021, 490.8190927579601, 796.8174184455212, 264.9945495049916, 616.4056249908523, 531.5959081912636, 474.1301672338782, 356.2413732712913, 580.4313229628905, 60.03367898691658, 55.33942592157424, 52.66107549565005, 3489.0505716574353, 45.18759188555365, 44.84918812665162, 39.70782030062008, 37.88267661838279, 32.577076854490876, 30.349553931998432, 29.239160742901486, 27.77215873852369, 27.473239970244478, 26.9468542218239, 26.631588617245793, 26.57461941565635, 24.610667544845235, 24.229523306419203, 23.462518009999204, 23.057498984049666, 22.63461920019876, 21.84922226023131, 21.81255770382192, 21.039720654515403, 20.77860711493349, 839.8722408388801, 300.67563942452307, 106.21175603410379, 106.66592062684421, 76.31235736262182, 150.54318012038667, 149.54541036555509, 606.66269142071, 407.5285606924923, 89.24444608872226, 1023.2646051803985, 950.9688131166203, 7351.814414898261, 507.8277586779505, 90.73177573306094, 1320.4072161893862, 1553.234810121646, 1593.3322268353772, 262.7394887352929, 226.03236842963693, 537.1260281562103, 676.4910143359755, 197.6474259423462, 169.46009669789007, 574.1305989354312, 247.96784423244182, 217.63765765500827, 214.01866315186396, 123.56535913666274, 104.90075288191272, 80.63098799568075, 76.11633765650406, 68.98862347844627, 55.50869508948824, 49.24735708029897, 47.7329546214409, 43.23408227242827, 43.60168884360169, 39.09938697200669, 33.15334973718866, 32.83557537018309, 644.6360269864473, 30.93790707122628, 29.419219963958863, 27.236954846675484, 26.5169293445732, 26.198024104638527, 25.002689979432045, 24.993416534648592, 24.961733376905475, 24.603758183238483, 21.593011469110657, 21.493316616824174, 20.838061499947063, 149.1975870852266, 187.9819826165267, 705.2613731972157, 354.8376559608493, 182.6436520377411, 175.35930110136078, 153.08308225644467, 107.64490178103121, 51.37553768799627, 311.5602133451142, 188.66531267642665, 82.84563088213663, 676.4910143359755, 264.9945495049916, 796.8174184455212, 1553.234810121646, 159.1076205579909, 1593.3322268353772, 389.93503845329695, 145.21030101971738, 2107.2353218524254, 339.3236444592685, 1023.2646051803985, 490.8190927579601, 396.4907323457162, 1426.0372624002305, 385.17325720606135, 272.7312687561037, 246.78634077098215, 183.23796281487245, 167.4632229868597, 122.01503058762512, 105.83668022148984, 1421.6290982275852, 70.90130894793677, 60.88179765507501, 60.973301981498786, 41.79330044076884, 39.298787023026705, 35.23096780543226, 34.388911862112835, 33.1134184523335, 32.18818641968031, 27.42571146851572, 24.169385702034052, 23.2407719180322, 22.813232697908283, 19.978001990727712, 19.584522037132512, 18.914706229081602, 16.36111237091541, 16.3343788453878, 15.852843049782678, 15.409244641520514, 15.30156757589142, 14.268337532736277, 3525.613067005157, 41.72684693075258, 137.4186238076475, 425.81455340345053, 169.96452483169818, 215.74686883012006, 533.051669403488, 255.7676739312905, 422.69773004089996, 226.37169298573016, 66.63872557127553, 84.27898832999794, 950.9688131166203, 323.1503960118071, 198.814850898933, 84.20799456763538, 676.4910143359755, 102.6277425428093, 295.6075932788245, 100.46124189782493, 339.3236444592685, 956.7408458276547, 7351.814414898261, 2330.4188878720265, 429.9966677022505, 207.75894404085582, 105.92554344644721, 49.83764054428411, 48.86479347888174, 46.20232846574734, 42.57781134521374, 39.440314643993425, 35.5683068915023, 32.750871226566986, 30.9097202368142, 30.119808016825075, 28.70307701677029, 27.472887897082764, 27.00657251296328, 26.585611555007763, 26.487056928862135, 26.092830462620498, 23.19779640754205, 21.391187737984943, 20.83117742841216, 20.49170048016176, 19.54667875593418, 19.358762318741864, 19.32594264261789, 18.324836153385778, 17.770175336346526, 17.597250989475384, 15.767375462776762, 141.86513429929798, 937.6176038725359, 115.92185243851469, 231.09172390448805, 279.2035722177696, 143.4203861322227, 261.1470519836093, 69.13307810121168, 78.82702944057495, 222.84851736886932, 396.4907323457162, 520.72978235071, 93.84542340779785, 212.33038518125815, 78.96031771903291, 2107.2353218524254, 135.97553190136853, 127.58748730003455, 289.6391872421228, 507.8277586779505, 1023.2646051803985, 145.21030101971738, 311.5602133451142, 339.3236444592685, 971.0014022812617, 406.9688355888059, 352.39881349651864, 130.18826648387957, 99.8919124078454, 96.77557194853846, 87.99569589022944, 72.36906279694179, 61.14576456888616, 54.80506985788434, 47.81520670415056, 46.54825177713327, 37.36091722492601, 33.25965756812017, 30.59101507012903, 30.544122018143206, 27.130451428215707, 25.62773670540702, 25.47335579859498, 25.01295979592496, 22.77308463149137, 22.141771112264223, 21.679373493386063, 20.859178629085626, 20.729039282102452, 20.698910695935425, 20.39962287823226, 19.812294277872713, 18.934797721770977, 18.87295328878407, 122.32220155174493, 35.31867817620497, 75.33819549840872, 220.13810532762284, 128.31072868792694, 125.25959180033863, 226.03236842963693, 138.23429899810435, 135.20669507459485, 109.14892939691326, 173.162569656865, 956.7408458276547, 124.28153185135717, 100.1474753575275, 7351.814414898261, 93.54822563071562, 86.0467304132833, 165.593151541924, 796.8174184455212, 332.0524082137493, 323.1503960118071, 174.36489697875928, 300.67563942452307, 145.21863590993783, 91.71682074506921, 84.29916267474255, 69.96338626050925, 67.73051732857911, 38.91657946902685, 38.49952271553353, 33.04149839855741, 32.923613409866604, 31.947824405866893, 31.40899663440468, 28.035495713316383, 27.646321039381895, 26.061706467367323, 25.774891656824426, 24.18821085092509, 23.745431024687093, 23.027776677514897, 21.697603079806424, 21.654530346863602, 21.287498143634522, 21.082524091850814, 20.952521609008578, 20.402614562452555, 19.90405310515842, 18.595294403792682, 16.09600316355448, 15.630084660155722, 15.402368179433134, 15.134506392005084, 27.130377993760494, 73.02750597202831, 80.07424053266664, 63.58323788691255, 7351.814414898261, 104.72253454106908, 520.72978235071, 120.82391890234229, 90.74014399209496, 537.1260281562103, 303.57315195583965, 507.8277586779505, 102.57839535482421, 1023.2646051803985, 77.52265217090402, 144.56507939185047, 2107.2353218524254, 396.4907323457162, 69.21033813912351, 1593.3322268353772, 796.8174184455212, 261.1470519836093, 222.84851736886932, 937.6176038725359, 1553.234810121646, 198.814850898933, 776.4664448974036, 137.72505174230804, 51.800991178491834, 37.75505286300289, 37.28323521043624, 36.4865238575637, 26.991169140229864, 25.727241804728116, 23.563024885689448, 21.792747352274006, 21.70267519372615, 21.004094109767916, 19.955989683068182, 18.349665866135325, 18.230486640433764, 17.949264367308817, 17.734316632222743, 17.580294337052866, 16.501341766168352, 16.40137177804926, 15.830731944701053, 15.752892876337448, 15.106231457628875, 14.250294508373461, 14.1619289776161, 14.088006140574212, 12.560974093583205, 12.280747164178358, 12.267700889413712, 12.25086700442535, 1320.4072161893862, 29.749603656300714, 1593.3322268353772, 1553.234810121646, 151.05478175739478, 293.5861642565021, 96.62447368632903, 7351.814414898261, 111.3919007616179, 60.5110678977224, 3525.613067005157, 950.9688131166203, 956.7408458276547, 252.90613222594877, 537.1260281562103, 255.7676739312905, 351.5422280081181, 3489.0505716574353, 92.32404265671641, 422.69773004089996, 289.6391872421228, 149.1975870852266, 488.8628236767491, 2606.1465511862107, 248.34843411628523, 201.0068353579046, 124.40620281523316, 72.30990899242347, 52.85946368367431, 37.839518633893626, 36.71345955305806, 27.17684301846723, 25.71158640631326, 23.116955004965348, 61.37619794872959, 16.82055162344402, 16.760805875439765, 13.789963628098505, 12.734685470887698, 12.091687829948048, 11.276959509586383, 10.126800774135251, 9.654438982084338, 66.96278951573069, 8.391459279137552, 8.313437777382907, 8.309821974060117, 7.98757716113621, 7.889134450590404, 7.671397775642904, 7.427987096034871, 7.274076869257919, 82.79925239998592, 55.80451104536941, 407.5285606924923, 111.3919007616179, 127.58748730003455, 33.344820885592156, 35.551008937430986, 24.336896352064556, 950.9688131166203, 79.37984535528243, 28.416428887496092, 537.1260281562103, 27.201976260051698, 422.69773004089996, 796.8174184455212, 60.283467113134144, 956.7408458276547, 226.37169298573016, 303.57315195583965, 212.33038518125815, 665.0359523851803, 368.78480344425355, 240.06822294366484, 51.54041422576757, 60.558551033892435, 44.436681666086024, 42.32579486027101, 36.43548150813616, 36.316263870354724, 34.359706379410916, 27.69659929903547, 22.91199278445826, 19.647235754688207, 19.048756317136423, 17.941106013651634, 16.477512091344042, 15.421912041973812, 15.405105925344127, 13.16440802541682, 13.021674295386607, 12.663219218621707, 12.639450354742959, 12.19481025359334, 11.83518765059273, 11.615639562618757, 11.53590047706506, 11.461680122052343, 11.032495246525272, 11.026272316182066, 10.221135379064656, 188.51174661312493, 332.0524082137493, 170.5859579132084, 79.73670863833092, 606.66269142071, 402.9389680649532, 58.24693596554571, 127.18945594380651, 30.175489007587476, 34.33589077546624, 289.6391872421228, 23.174039485232832, 79.60574648129888, 209.7950003885751, 1593.3322268353772, 212.33038518125815, 175.35930110136078, 1023.2646051803985, 77.98837282699024, 67.5656213031715, 315.1218929889452, 214.4243479036435, 164.43360936548342, 153.60245244234946, 146.29926222660922, 80.47062854442287, 52.77618398111999, 49.53743183289978, 40.94189847758455, 37.705414716025295, 29.35402243480907, 22.60854790671502, 21.73083983000177, 21.653376346683434, 19.88349785343193, 18.588927013772878, 18.340009592174326, 17.262197879489385, 16.628275133598798, 15.910285261051735, 15.90578674183657, 14.213967124041769, 14.140925646941225, 13.538379026505893, 12.361014521248228, 12.35977794010777, 12.034498929335923, 11.599838775791776, 11.145107383985561, 11.142789036729043, 163.4794975503542, 50.98228965417816, 262.7394887352929, 29.485899304654204, 46.194171406512545, 35.99295383766325, 293.5861642565021, 523.2224663751152, 177.2191947941972, 80.93700636648997, 64.28696732231784, 55.88202719538889, 44.363002419825975, 43.14191221330093, 37.596933488890386, 36.86919967404978, 28.40063639207644, 24.859546825713398, 24.819704962404565, 24.695189021955567, 23.81368085955837, 21.314490825731546, 18.33817602896465, 17.217738272828395, 13.440634974771047, 12.33374271971489, 12.005896356228426, 11.914446895116141, 11.543885346486503, 10.968641898583112, 10.340973314308936, 10.208791053483155, 9.823544796570625, 8.795894660660668, 8.790598750074198, 7.192969736539492, 7.118188905938267, 40.583148006828985, 490.8190927579601, 165.0495137119292, 50.52049704973843, 80.08638982244058, 127.49612606768443, 27.69126545872023, 165.593151541924, 40.374383441569364, 61.75478825957227, 62.795764599462686], \"Category\": [\"Default\", \"Default\", \"Default\", \"Default\", \"Default\", \"Default\", \"Default\", \"Default\", \"Default\", \"Default\", \"Default\", \"Default\", \"Default\", \"Default\", \"Default\", \"Default\", \"Default\", \"Default\", \"Default\", \"Default\", \"Default\", \"Default\", \"Default\", \"Default\", \"Default\", \"Default\", \"Default\", \"Default\", \"Default\", \"Default\", \"Topic1\", \"Topic1\", \"Topic1\", \"Topic1\", \"Topic1\", \"Topic1\", \"Topic1\", \"Topic1\", \"Topic1\", \"Topic1\", \"Topic1\", \"Topic1\", \"Topic1\", \"Topic1\", \"Topic1\", \"Topic1\", \"Topic1\", \"Topic1\", \"Topic1\", \"Topic1\", \"Topic1\", \"Topic1\", \"Topic1\", \"Topic1\", \"Topic1\", \"Topic1\", \"Topic1\", \"Topic1\", \"Topic1\", \"Topic1\", \"Topic1\", \"Topic1\", \"Topic1\", \"Topic1\", \"Topic1\", \"Topic1\", \"Topic1\", \"Topic1\", \"Topic1\", \"Topic1\", \"Topic1\", \"Topic1\", \"Topic1\", \"Topic1\", \"Topic1\", \"Topic1\", \"Topic1\", \"Topic1\", \"Topic1\", \"Topic1\", \"Topic1\", \"Topic1\", \"Topic1\", \"Topic1\", \"Topic1\", \"Topic1\", \"Topic1\", \"Topic2\", \"Topic2\", \"Topic2\", \"Topic2\", \"Topic2\", \"Topic2\", \"Topic2\", \"Topic2\", \"Topic2\", \"Topic2\", \"Topic2\", \"Topic2\", \"Topic2\", \"Topic2\", \"Topic2\", \"Topic2\", \"Topic2\", \"Topic2\", \"Topic2\", \"Topic2\", \"Topic2\", \"Topic2\", \"Topic2\", \"Topic2\", \"Topic2\", \"Topic2\", \"Topic2\", \"Topic2\", \"Topic2\", \"Topic2\", \"Topic2\", \"Topic2\", \"Topic2\", \"Topic2\", \"Topic2\", \"Topic2\", \"Topic2\", \"Topic2\", \"Topic2\", \"Topic2\", \"Topic2\", \"Topic2\", \"Topic2\", \"Topic2\", \"Topic2\", \"Topic2\", \"Topic2\", \"Topic2\", \"Topic2\", \"Topic2\", \"Topic2\", \"Topic2\", \"Topic2\", \"Topic2\", \"Topic3\", \"Topic3\", \"Topic3\", \"Topic3\", \"Topic3\", \"Topic3\", \"Topic3\", \"Topic3\", \"Topic3\", \"Topic3\", \"Topic3\", \"Topic3\", \"Topic3\", \"Topic3\", \"Topic3\", \"Topic3\", \"Topic3\", \"Topic3\", \"Topic3\", \"Topic3\", \"Topic3\", \"Topic3\", \"Topic3\", \"Topic3\", \"Topic3\", \"Topic3\", \"Topic3\", \"Topic3\", \"Topic3\", \"Topic3\", \"Topic3\", \"Topic3\", \"Topic3\", \"Topic3\", \"Topic3\", \"Topic3\", \"Topic3\", \"Topic3\", \"Topic3\", \"Topic3\", \"Topic3\", \"Topic3\", \"Topic3\", \"Topic3\", \"Topic3\", \"Topic3\", \"Topic3\", \"Topic3\", \"Topic3\", \"Topic3\", \"Topic3\", \"Topic3\", \"Topic3\", \"Topic3\", \"Topic3\", \"Topic3\", \"Topic4\", \"Topic4\", \"Topic4\", \"Topic4\", \"Topic4\", \"Topic4\", \"Topic4\", \"Topic4\", \"Topic4\", \"Topic4\", \"Topic4\", \"Topic4\", \"Topic4\", \"Topic4\", \"Topic4\", \"Topic4\", \"Topic4\", \"Topic4\", \"Topic4\", \"Topic4\", \"Topic4\", \"Topic4\", \"Topic4\", \"Topic4\", \"Topic4\", \"Topic4\", \"Topic4\", \"Topic4\", \"Topic4\", \"Topic4\", \"Topic4\", \"Topic4\", \"Topic4\", \"Topic4\", \"Topic4\", \"Topic4\", \"Topic4\", \"Topic4\", \"Topic4\", \"Topic4\", \"Topic4\", \"Topic4\", \"Topic4\", \"Topic4\", \"Topic4\", \"Topic4\", \"Topic4\", \"Topic4\", \"Topic4\", \"Topic4\", \"Topic4\", \"Topic4\", \"Topic4\", \"Topic5\", \"Topic5\", \"Topic5\", \"Topic5\", \"Topic5\", \"Topic5\", \"Topic5\", \"Topic5\", \"Topic5\", \"Topic5\", \"Topic5\", \"Topic5\", \"Topic5\", \"Topic5\", \"Topic5\", \"Topic5\", \"Topic5\", \"Topic5\", \"Topic5\", \"Topic5\", \"Topic5\", \"Topic5\", \"Topic5\", \"Topic5\", \"Topic5\", \"Topic5\", \"Topic5\", \"Topic5\", \"Topic5\", \"Topic5\", \"Topic5\", \"Topic5\", \"Topic5\", \"Topic5\", \"Topic5\", \"Topic5\", \"Topic5\", \"Topic5\", \"Topic5\", \"Topic5\", \"Topic5\", \"Topic5\", \"Topic5\", \"Topic5\", \"Topic5\", \"Topic5\", \"Topic5\", \"Topic5\", \"Topic5\", \"Topic5\", \"Topic5\", \"Topic5\", \"Topic5\", \"Topic5\", \"Topic6\", \"Topic6\", \"Topic6\", \"Topic6\", \"Topic6\", \"Topic6\", \"Topic6\", \"Topic6\", \"Topic6\", \"Topic6\", \"Topic6\", \"Topic6\", \"Topic6\", \"Topic6\", \"Topic6\", \"Topic6\", \"Topic6\", \"Topic6\", \"Topic6\", \"Topic6\", \"Topic6\", \"Topic6\", \"Topic6\", \"Topic6\", \"Topic6\", \"Topic6\", \"Topic6\", \"Topic6\", \"Topic6\", \"Topic6\", \"Topic6\", \"Topic6\", \"Topic6\", \"Topic6\", \"Topic6\", \"Topic6\", \"Topic6\", \"Topic6\", \"Topic6\", \"Topic6\", \"Topic6\", \"Topic6\", \"Topic6\", \"Topic6\", \"Topic6\", \"Topic6\", \"Topic6\", \"Topic6\", \"Topic6\", \"Topic6\", \"Topic6\", \"Topic6\", \"Topic6\", \"Topic7\", \"Topic7\", \"Topic7\", \"Topic7\", \"Topic7\", \"Topic7\", \"Topic7\", \"Topic7\", \"Topic7\", \"Topic7\", \"Topic7\", \"Topic7\", \"Topic7\", \"Topic7\", \"Topic7\", \"Topic7\", \"Topic7\", \"Topic7\", \"Topic7\", \"Topic7\", \"Topic7\", \"Topic7\", \"Topic7\", \"Topic7\", \"Topic7\", \"Topic7\", \"Topic7\", \"Topic7\", \"Topic7\", \"Topic7\", \"Topic7\", \"Topic7\", \"Topic7\", \"Topic7\", \"Topic7\", \"Topic7\", \"Topic7\", \"Topic7\", \"Topic7\", \"Topic7\", \"Topic7\", \"Topic7\", \"Topic7\", \"Topic7\", \"Topic7\", \"Topic7\", \"Topic7\", \"Topic7\", \"Topic7\", \"Topic7\", \"Topic7\", \"Topic7\", \"Topic7\", \"Topic7\", \"Topic7\", \"Topic7\", \"Topic8\", \"Topic8\", \"Topic8\", \"Topic8\", \"Topic8\", \"Topic8\", \"Topic8\", \"Topic8\", \"Topic8\", \"Topic8\", \"Topic8\", \"Topic8\", \"Topic8\", \"Topic8\", \"Topic8\", \"Topic8\", \"Topic8\", \"Topic8\", \"Topic8\", \"Topic8\", \"Topic8\", \"Topic8\", \"Topic8\", \"Topic8\", \"Topic8\", \"Topic8\", \"Topic8\", \"Topic8\", \"Topic8\", \"Topic8\", \"Topic8\", \"Topic8\", \"Topic8\", \"Topic8\", \"Topic8\", \"Topic8\", \"Topic8\", \"Topic8\", \"Topic8\", \"Topic8\", \"Topic8\", \"Topic8\", \"Topic8\", \"Topic8\", \"Topic8\", \"Topic8\", \"Topic8\", \"Topic8\", \"Topic8\", \"Topic8\", \"Topic8\", \"Topic8\", \"Topic9\", \"Topic9\", \"Topic9\", \"Topic9\", \"Topic9\", \"Topic9\", \"Topic9\", \"Topic9\", \"Topic9\", \"Topic9\", \"Topic9\", \"Topic9\", \"Topic9\", \"Topic9\", \"Topic9\", \"Topic9\", \"Topic9\", \"Topic9\", \"Topic9\", \"Topic9\", \"Topic9\", \"Topic9\", \"Topic9\", \"Topic9\", \"Topic9\", \"Topic9\", \"Topic9\", \"Topic9\", \"Topic9\", \"Topic9\", \"Topic9\", \"Topic9\", \"Topic9\", \"Topic9\", \"Topic9\", \"Topic9\", \"Topic9\", \"Topic9\", \"Topic9\", \"Topic9\", \"Topic9\", \"Topic9\", \"Topic9\", \"Topic9\", \"Topic9\", \"Topic9\", \"Topic9\", \"Topic9\", \"Topic9\", \"Topic9\", \"Topic10\", \"Topic10\", \"Topic10\", \"Topic10\", \"Topic10\", \"Topic10\", \"Topic10\", \"Topic10\", \"Topic10\", \"Topic10\", \"Topic10\", \"Topic10\", \"Topic10\", \"Topic10\", \"Topic10\", \"Topic10\", \"Topic10\", \"Topic10\", \"Topic10\", \"Topic10\", \"Topic10\", \"Topic10\", \"Topic10\", \"Topic10\", \"Topic10\", \"Topic10\", \"Topic10\", \"Topic10\", \"Topic10\", \"Topic10\", \"Topic10\", \"Topic10\", \"Topic10\", \"Topic10\", \"Topic10\", \"Topic10\", \"Topic10\", \"Topic10\", \"Topic10\", \"Topic10\", \"Topic10\", \"Topic10\", \"Topic10\", \"Topic10\", \"Topic10\", \"Topic10\", \"Topic10\", \"Topic10\", \"Topic10\", \"Topic10\", \"Topic11\", \"Topic11\", \"Topic11\", \"Topic11\", \"Topic11\", \"Topic11\", \"Topic11\", \"Topic11\", \"Topic11\", \"Topic11\", \"Topic11\", \"Topic11\", \"Topic11\", \"Topic11\", \"Topic11\", \"Topic11\", \"Topic11\", \"Topic11\", \"Topic11\", \"Topic11\", \"Topic11\", \"Topic11\", \"Topic11\", \"Topic11\", \"Topic11\", \"Topic11\", \"Topic11\", \"Topic11\", \"Topic11\", \"Topic11\", \"Topic11\", \"Topic11\", \"Topic11\", \"Topic11\", \"Topic11\", \"Topic11\", \"Topic11\", \"Topic12\", \"Topic12\", \"Topic12\", \"Topic12\", \"Topic12\", \"Topic12\", \"Topic12\", \"Topic12\", \"Topic12\", \"Topic12\", \"Topic12\", \"Topic12\", \"Topic12\", \"Topic12\", \"Topic12\", \"Topic12\", \"Topic12\", \"Topic12\", \"Topic12\", \"Topic12\", \"Topic12\", \"Topic12\", \"Topic12\", \"Topic12\", \"Topic12\", \"Topic12\", \"Topic12\", \"Topic12\", \"Topic12\", \"Topic12\", \"Topic12\", \"Topic12\", \"Topic12\", \"Topic12\", \"Topic12\", \"Topic12\", \"Topic12\", \"Topic12\", \"Topic12\", \"Topic12\", \"Topic12\"], \"logprob\": [30.0, 29.0, 28.0, 27.0, 26.0, 25.0, 24.0, 23.0, 22.0, 21.0, 20.0, 19.0, 18.0, 17.0, 16.0, 15.0, 14.0, 13.0, 12.0, 11.0, 10.0, 9.0, 8.0, 7.0, 6.0, 5.0, 4.0, 3.0, 2.0, 1.0, -3.8754, -4.6143, -4.6402, -4.6834, -4.7278, -4.9006, -4.9174, -4.936, -5.0998, -5.257, -5.4761, -5.4968, -5.5956, -5.6478, -5.6646, -5.7733, -5.7885, -5.8685, -5.9251, -5.9363, -5.9535, -5.9819, -6.0117, -6.019, -6.0454, -6.0815, -6.0948, -6.1226, -6.1232, -6.133, -2.3612, -4.4205, -4.1329, -5.6678, -4.1411, -3.9558, -4.3586, -4.5085, -2.5571, -5.0647, -5.3946, -5.2431, -4.3999, -4.8921, -4.2699, -3.7591, -4.8002, -4.4513, -4.2776, -4.2456, -5.0315, -4.8655, -3.6763, -4.8511, -4.7743, -4.7169, -5.0292, -3.1147, -3.263, -3.3776, -3.6641, -3.1765, -5.458, -5.5408, -5.5912, -1.3991, -5.7473, -5.755, -5.8795, -5.9277, -6.0828, -6.1558, -6.1943, -6.2475, -6.2587, -6.2788, -6.291, -6.2932, -6.3729, -6.3891, -6.4226, -6.4408, -6.4601, -6.4969, -6.4987, -6.5364, -6.5495, -2.8665, -4.046, -5.139, -5.1479, -5.4779, -4.9509, -4.9648, -3.9037, -4.2102, -5.4034, -3.687, -3.9853, -2.9705, -4.5583, -5.6164, -4.2733, -4.2482, -4.2934, -5.1413, -5.2284, -5.0645, -5.0086, -5.3954, -5.4998, -3.026, -3.8677, -3.9987, -4.0155, -4.5681, -4.7332, -4.9991, -5.0574, -5.157, -5.3778, -5.4996, -5.5315, -5.6326, -5.6242, -5.7355, -5.9049, -5.9148, -2.938, -5.9761, -6.0281, -6.1078, -6.1356, -6.1481, -6.1966, -6.197, -6.1983, -6.2158, -6.3494, -6.3543, -6.3867, -4.5546, -4.3601, -3.1589, -3.7962, -4.4084, -4.4496, -4.5798, -4.9819, -5.5918, -4.1147, -4.5293, -5.2007, -3.5764, -4.3234, -3.5189, -3.0357, -4.7284, -3.3258, -4.2693, -4.8919, -3.442, -4.4539, -4.071, -4.833, -4.8601, -4.8563, -3.3678, -3.714, -3.8144, -4.1134, -4.2039, -4.523, -4.6661, -2.0713, -5.0721, -5.2257, -5.225, -5.6091, -5.6721, -5.7842, -5.8091, -5.848, -5.8772, -6.0425, -6.1737, -6.2145, -6.2341, -6.3727, -6.3936, -6.4302, -6.5835, -6.5852, -6.617, -6.6472, -6.6546, -6.7293, -1.2654, -5.6774, -4.5543, -3.5335, -4.4497, -4.2859, -3.5018, -4.1592, -3.8183, -4.449, -5.4161, -5.2621, -3.5952, -4.3719, -4.722, -5.2933, -4.2006, -5.2094, -4.7226, -5.2468, -4.8147, -4.7377, -4.4649, -1.4203, -3.1121, -3.8418, -4.5199, -5.284, -5.3041, -5.3612, -5.4447, -5.523, -5.629, -5.7139, -5.7735, -5.8002, -5.85, -5.8953, -5.9131, -5.9293, -5.9332, -5.9487, -6.071, -6.1557, -6.1835, -6.2007, -6.2502, -6.2604, -6.2621, -6.3181, -6.3506, -6.3609, -6.4773, -4.2844, -2.4167, -4.4974, -3.9406, -3.7802, -4.4037, -3.8586, -5.0988, -5.0936, -4.3625, -4.008, -3.8885, -5.0977, -4.6075, -5.2349, -3.3525, -5.1238, -5.156, -4.8243, -4.5994, -4.3857, -5.2586, -5.225, -5.2699, -2.2735, -3.1444, -3.2901, -4.2891, -4.5562, -4.5884, -4.6843, -4.8823, -5.0531, -5.1644, -5.3034, -5.3308, -5.5557, -5.6752, -5.7614, -5.763, -5.8855, -5.9446, -5.9509, -5.9698, -6.0675, -6.0968, -6.1189, -6.1592, -6.1658, -6.1673, -6.1826, -6.2132, -6.2608, -6.2643, -4.4413, -5.6644, -4.9504, -3.9618, -4.4736, -4.5709, -4.1347, -4.5593, -4.6016, -4.8094, -4.5079, -3.2299, -4.7686, -4.9567, -1.959, -5.0477, -5.1284, -4.8702, -4.0958, -4.567, -4.618, -4.9051, -5.1024, -4.1707, -4.634, -4.7205, -4.908, -4.9409, -5.5055, -5.5166, -5.6736, -5.6773, -5.7083, -5.7258, -5.8431, -5.8576, -5.9188, -5.9303, -5.9963, -6.0155, -6.0475, -6.1096, -6.1117, -6.1296, -6.1397, -6.1462, -6.174, -6.2, -6.2715, -6.4242, -6.4554, -6.471, -6.4897, -5.9113, -4.9748, -4.9388, -5.1583, -0.835, -4.7547, -3.3664, -4.6704, -4.9644, -3.5442, -4.1091, -3.7648, -5.0932, -3.6626, -5.2999, -4.9458, -3.4707, -4.4171, -5.4739, -4.272, -4.6707, -5.101, -5.169, -4.8023, -4.9975, -5.4247, -2.2236, -3.9587, -4.9481, -5.2713, -5.2842, -5.3064, -5.6172, -5.6669, -5.7583, -5.8398, -5.8441, -5.8784, -5.932, -6.0203, -6.0272, -6.0436, -6.0563, -6.0658, -6.1326, -6.139, -6.1766, -6.1819, -6.2265, -6.2889, -6.2955, -6.3011, -6.4246, -6.449, -6.4502, -6.4517, -1.8504, -5.6643, -2.2483, -2.2932, -4.3649, -4.2415, -5.036, -2.3365, -5.0339, -5.3923, -3.1518, -4.0486, -4.4776, -5.1355, -4.9152, -5.2833, -5.2147, -4.7427, -5.6116, -5.3859, -5.5181, -5.6971, -2.5407, -0.8682, -3.2198, -3.4322, -3.9149, -4.463, -4.7812, -5.1227, -5.1537, -5.4637, -5.5212, -5.6319, -4.6698, -5.9659, -5.9697, -6.1777, -6.2634, -6.3195, -6.3953, -6.5133, -6.5661, -4.6343, -6.7228, -6.7333, -6.7338, -6.7785, -6.7926, -6.8244, -6.8613, -6.8853, -4.54, -4.986, -3.4339, -4.5742, -4.4659, -5.6017, -5.5797, -5.9025, -3.2983, -5.1287, -5.8409, -4.2002, -5.9016, -4.6388, -4.4142, -5.5584, -4.6074, -5.4817, -5.4385, -5.5435, -1.933, -2.5238, -2.9544, -4.5075, -4.3478, -4.6588, -4.7085, -4.862, -4.8654, -4.9223, -5.1447, -5.3417, -5.5026, -5.5351, -5.5982, -5.6882, -5.7586, -5.7597, -5.928, -5.9398, -5.9699, -5.9719, -6.0107, -6.0432, -6.0635, -6.071, -6.078, -6.1197, -6.1203, -6.2035, -3.3757, -2.9791, -3.6687, -4.3862, -2.6439, -3.1114, -4.781, -4.2711, -5.3528, -5.2839, -3.9391, -5.6065, -4.9295, -4.5502, -3.9132, -4.7637, -4.8359, -4.5579, -5.254, -5.3288, -2.2185, -2.6049, -2.8717, -2.9402, -2.9907, -3.5923, -4.0203, -4.0848, -4.2794, -4.3638, -4.6214, -4.8924, -4.9337, -4.9374, -5.0267, -5.0975, -5.1117, -5.1756, -5.2152, -5.262, -5.2623, -5.3822, -5.3878, -5.4345, -5.5325, -5.5326, -5.5615, -5.6015, -5.645, -5.6453, -3.0798, -4.2018, -2.9342, -4.8665, -4.5263, -5.1243, -4.5144, -1.6612, -2.7473, -3.5374, -3.7708, -3.9131, -4.1484, -4.1769, -4.3177, -4.3378, -4.6066, -4.7446, -4.7463, -4.7515, -4.7893, -4.905, -5.0629, -5.1295, -5.3934, -5.4861, -5.5153, -5.5236, -5.5579, -5.6137, -5.6783, -5.6925, -5.7349, -5.8578, -5.8585, -6.0859, -6.0979, -4.4766, -2.3516, -3.4706, -4.5425, -4.201, -3.9216, -4.9946, -3.9281, -4.9247, -4.7406, -5.0619], \"loglift\": [30.0, 29.0, 28.0, 27.0, 26.0, 25.0, 24.0, 23.0, 22.0, 21.0, 20.0, 19.0, 18.0, 17.0, 16.0, 15.0, 14.0, 13.0, 12.0, 11.0, 10.0, 9.0, 8.0, 7.0, 6.0, 5.0, 4.0, 3.0, 2.0, 1.0, 1.9823, 1.9788, 1.9786, 1.9783, 1.978, 1.9766, 1.9764, 1.9763, 1.9747, 1.9728, 1.9698, 1.9694, 1.9677, 1.9668, 1.9665, 1.9644, 1.9641, 1.9623, 1.961, 1.9607, 1.9603, 1.9595, 1.9588, 1.9586, 1.9579, 1.9569, 1.9565, 1.9557, 1.9557, 1.9554, 1.9182, 1.9313, 1.8423, 1.9304, 1.8207, 1.724, 1.7613, 1.7779, 1.3318, 1.7596, 1.8234, 1.7538, 1.4531, 1.6085, 1.2734, 0.9194, 1.4063, 1.1248, 0.9858, 0.7379, 1.3772, 1.1436, -1.0369, 1.0088, 0.5717, 0.1446, 0.9332, 2.0034, 2.0032, 2.003, 2.0023, 2.0018, 1.9892, 1.9878, 1.9869, 1.9855, 1.9839, 1.9838, 1.981, 1.9798, 1.9757, 1.9735, 1.9723, 1.9705, 1.9701, 1.9694, 1.969, 1.9689, 1.966, 1.9654, 1.9641, 1.9633, 1.9625, 1.961, 1.9609, 1.9592, 1.9586, 1.9423, 1.79, 1.7376, 1.7245, 1.7294, 1.577, 1.5696, 1.2304, 1.3218, 1.6473, 0.9243, 0.6993, -0.3312, 0.7536, 1.4178, 0.0831, -0.0542, -0.1249, 0.8296, 0.893, 0.1914, 0.0166, 0.8602, 0.9097, 2.1632, 2.1611, 2.1605, 2.1605, 2.1572, 2.1559, 2.1531, 2.1524, 2.1511, 2.1478, 2.1456, 2.1449, 2.1428, 2.1428, 2.1405, 2.1361, 2.1358, 2.1354, 2.134, 2.1323, 2.1297, 2.1287, 2.1283, 2.1265, 2.1265, 2.1264, 2.1233, 2.1203, 2.1201, 2.1186, 1.9822, 1.9456, 1.8246, 1.8742, 1.9262, 1.9256, 1.9313, 1.8813, 2.0111, 1.6857, 1.7728, 1.9244, 1.4487, 1.639, 1.3425, 1.1583, 1.7441, 0.8427, 1.3068, 1.672, 0.4469, 1.2612, 0.5403, 0.513, 0.6993, -0.5769, 2.2206, 2.2196, 2.2192, 2.2179, 2.2174, 2.2149, 2.2141, 2.2112, 2.2086, 2.2074, 2.2066, 2.2002, 2.1988, 2.1959, 2.1952, 2.1942, 2.1933, 2.1881, 2.1833, 2.1816, 2.1806, 2.1747, 2.1737, 2.1719, 2.1637, 2.1636, 2.1617, 2.1599, 2.1595, 2.1547, 2.1089, 2.1335, 2.0647, 1.9546, 1.9568, 1.882, 1.7616, 1.8386, 1.6772, 1.6709, 1.9266, 1.8458, 1.0894, 1.392, 1.5277, 1.8155, 0.8246, 1.7016, 1.1304, 1.6855, 0.9005, -0.0591, -1.8255, 2.368, 2.3662, 2.3638, 2.3595, 2.3493, 2.3489, 2.3478, 2.346, 2.3442, 2.3416, 2.3392, 2.3375, 2.3366, 2.3351, 2.3335, 2.3329, 2.3324, 2.3322, 2.3317, 2.327, 2.3234, 2.3222, 2.3214, 2.3191, 2.3186, 2.3185, 2.3157, 2.314, 2.3134, 2.3069, 2.3028, 2.282, 2.2918, 2.1586, 2.13, 2.1726, 2.1184, 2.2072, 2.0812, 1.773, 1.5514, 1.3983, 1.9027, 1.5764, 1.9383, 0.5364, 1.5058, 1.5373, 1.0492, 0.7125, 0.2256, 1.3053, 0.5754, 0.4452, 2.3902, 2.3889, 2.3872, 2.384, 2.3817, 2.3812, 2.3805, 2.378, 2.3757, 2.3739, 2.3713, 2.3708, 2.3657, 2.3625, 2.36, 2.3599, 2.3559, 2.3538, 2.3536, 2.3529, 2.349, 2.3478, 2.3468, 2.3451, 2.3448, 2.3447, 2.344, 2.3426, 2.3403, 2.3401, 2.2942, 2.3133, 2.2697, 2.186, 2.214, 2.1408, 1.9867, 2.0538, 2.0337, 2.04, 1.8799, 1.4487, 1.9509, 1.9787, 0.6804, 1.9558, 1.9588, 1.5624, 0.7656, 1.1698, 1.1459, 1.4758, 0.7336, 2.3931, 2.3893, 2.3872, 2.3861, 2.3856, 2.3751, 2.3749, 2.3707, 2.3706, 2.3697, 2.3692, 2.3655, 2.365, 2.3628, 2.3624, 2.3599, 2.3592, 2.3579, 2.3552, 2.3552, 2.3544, 2.3539, 2.3536, 2.3524, 2.3511, 2.3476, 2.3393, 2.3375, 2.3365, 2.3354, 2.3301, 2.2764, 2.2203, 2.2314, 1.8044, 2.1361, 1.9205, 2.0773, 2.0697, 1.7117, 1.7173, 1.5471, 1.8183, 0.9487, 1.8916, 1.6226, 0.4182, 1.1424, 1.831, -0.1035, 0.1907, 0.876, 0.9666, -0.1036, -0.8035, 0.825, 2.6638, 2.6581, 2.6466, 2.6397, 2.6393, 2.6387, 2.6294, 2.6276, 2.6241, 2.6207, 2.6205, 2.619, 2.6165, 2.6122, 2.6118, 2.6109, 2.6103, 2.6095, 2.6061, 2.6057, 2.6035, 2.6032, 2.6004, 2.5964, 2.596, 2.5956, 2.5868, 2.585, 2.5849, 2.5848, 2.506, 2.485, 1.9202, 1.9008, 2.1595, 1.6184, 1.9352, 0.3029, 1.7952, 2.0469, 0.2225, 0.636, 0.2009, 0.8735, 0.3406, 0.7145, 0.4651, -1.358, 1.4052, 0.1095, 0.3553, 0.8396, 2.8093, 2.8082, 2.8075, 2.8066, 2.8037, 2.7981, 2.7933, 2.786, 2.7852, 2.776, 2.7739, 2.7696, 2.7553, 2.7536, 2.7534, 2.7404, 2.7343, 2.7301, 2.724, 2.7135, 2.7085, 2.7037, 2.6921, 2.6909, 2.6908, 2.6857, 2.684, 2.6801, 2.6755, 2.6725, 2.5856, 2.5342, 2.0981, 2.2548, 2.2273, 2.4335, 2.3914, 2.4476, 1.3862, 2.0391, 2.3542, 1.0556, 2.3372, 0.8566, 0.4472, 1.8846, 0.0711, 0.6382, 0.3879, 0.6404, 3.1092, 3.1081, 3.1067, 3.0922, 3.0906, 3.0892, 3.0882, 3.0845, 3.0844, 3.0829, 3.0761, 3.0687, 3.0616, 3.06, 3.0568, 3.0519, 3.0477, 3.0476, 3.0365, 3.0357, 3.0335, 3.0333, 3.0304, 3.0278, 3.0262, 3.0256, 3.025, 3.0215, 3.0215, 3.0141, 2.9272, 2.7577, 2.7341, 2.7771, 2.4902, 2.4319, 2.6964, 2.4253, 2.7822, 2.7219, 1.9343, 2.7925, 2.2355, 1.6457, 0.2552, 1.4202, 1.5393, 0.0534, 1.9315, 2.0002, 3.5706, 3.5692, 3.5679, 3.5675, 3.5658, 3.5619, 3.5557, 3.5545, 3.5505, 3.5485, 3.5412, 3.5314, 3.5296, 3.5295, 3.5254, 3.522, 3.5213, 3.5179, 3.5158, 3.5131, 3.513, 3.5056, 3.5052, 3.5021, 3.495, 3.495, 3.4928, 3.4896, 3.486, 3.486, 3.3656, 3.4088, 3.0367, 3.2916, 3.1829, 2.8345, 1.3455, 3.6208, 3.6173, 3.611, 3.608, 3.6057, 3.6013, 3.6007, 3.5974, 3.5969, 3.5891, 3.5842, 3.5842, 3.584, 3.5825, 3.5777, 3.5702, 3.5667, 3.5504, 3.5436, 3.5414, 3.5407, 3.538, 3.5333, 3.5276, 3.5263, 3.5224, 3.51, 3.5099, 3.483, 3.4815, 3.3621, 2.9944, 2.9653, 3.0772, 2.9579, 2.7723, 3.2263, 2.5044, 2.9191, 2.6783, 2.3403]}, \"token.table\": {\"Topic\": [11, 11, 11, 5, 3, 5, 7, 7, 12, 1, 3, 6, 8, 1, 2, 3, 4, 10, 3, 2, 1, 5, 1, 8, 5, 2, 4, 2, 11, 3, 12, 5, 2, 4, 8, 6, 8, 3, 6, 2, 7, 12, 10, 12, 8, 3, 10, 4, 6, 4, 12, 10, 1, 1, 2, 3, 5, 6, 7, 9, 10, 1, 3, 6, 7, 8, 8, 5, 6, 9, 5, 11, 3, 1, 2, 8, 1, 7, 10, 2, 3, 6, 9, 10, 3, 9, 1, 3, 3, 3, 1, 2, 4, 6, 8, 11, 2, 1, 1, 3, 4, 5, 6, 3, 5, 4, 3, 12, 3, 8, 1, 9, 7, 7, 1, 3, 9, 2, 9, 9, 1, 6, 12, 9, 1, 3, 5, 1, 7, 11, 12, 4, 4, 5, 12, 6, 6, 3, 3, 5, 6, 1, 6, 5, 10, 3, 9, 1, 6, 7, 2, 4, 7, 3, 11, 3, 3, 1, 2, 1, 3, 3, 2, 8, 9, 12, 6, 6, 5, 4, 7, 2, 7, 2, 7, 3, 5, 7, 10, 4, 1, 2, 3, 11, 1, 2, 3, 5, 7, 9, 3, 12, 6, 10, 1, 2, 4, 10, 8, 10, 11, 12, 8, 5, 7, 8, 4, 9, 3, 4, 6, 6, 1, 2, 3, 5, 12, 5, 1, 9, 12, 1, 12, 2, 9, 1, 2, 4, 6, 7, 8, 9, 1, 10, 1, 2, 3, 5, 7, 9, 10, 5, 2, 2, 2, 3, 4, 4, 12, 11, 4, 8, 9, 5, 2, 4, 6, 8, 12, 8, 1, 5, 6, 8, 10, 10, 1, 9, 4, 4, 5, 9, 9, 2, 4, 6, 5, 1, 3, 4, 6, 7, 8, 9, 12, 1, 2, 5, 6, 8, 2, 4, 6, 7, 9, 12, 1, 6, 12, 5, 12, 1, 4, 5, 12, 4, 12, 1, 4, 5, 6, 7, 8, 5, 4, 1, 3, 12, 1, 1, 2, 6, 7, 7, 9, 6, 1, 9, 2, 7, 1, 3, 5, 8, 2, 6, 6, 9, 10, 6, 9, 3, 2, 3, 11, 1, 7, 12, 5, 11, 1, 9, 1, 2, 10, 2, 8, 6, 5, 9, 3, 5, 7, 5, 4, 1, 3, 8, 3, 2, 7, 3, 11, 1, 4, 1, 6, 4, 1, 1, 2, 3, 5, 12, 8, 10, 8, 11, 2, 3, 7, 8, 5, 12, 11, 1, 11, 7, 11, 11, 11, 1, 11, 8, 1, 8, 7, 3, 6, 8, 1, 2, 3, 6, 7, 1, 10, 10, 1, 3, 5, 6, 7, 4, 2, 1, 2, 6, 11, 9, 1, 2, 4, 6, 8, 11, 8, 1, 12, 5, 11, 5, 12, 1, 2, 4, 6, 5, 12, 2, 6, 2, 8, 1, 6, 11, 7, 11, 1, 12, 12, 2, 3, 12, 2, 8, 10, 1, 2, 3, 10, 7, 10, 3, 9, 1, 2, 4, 3, 5, 2, 3, 10, 2, 3, 5, 6, 7, 8, 9, 10, 6, 6, 2, 11, 12, 3, 1, 4, 6, 7, 1, 2, 3, 4, 5, 3, 1, 3, 1, 6, 7, 1, 8, 8, 3, 7, 2, 4, 3, 10, 1, 3, 6, 10, 5, 3, 8, 8, 12, 11, 10, 4, 3, 8, 11, 1, 2, 9, 2, 4, 6, 8, 9, 10, 7, 1, 2, 3, 4, 6, 7, 8, 10, 11, 9, 1, 2, 6, 4, 10, 4, 5, 9, 8, 4, 1, 3, 5, 7, 10, 1, 9, 6, 5, 12, 1, 2, 1, 9, 6, 4, 12, 2, 3, 7, 8, 10, 7, 2, 8, 6, 8, 5, 9, 3, 4, 5, 10, 8, 3, 5, 6, 7, 6, 1, 4, 1, 2, 6, 5, 6, 1, 10, 1, 10, 4, 1, 11, 5, 6, 1, 6, 9, 3, 5, 2, 10, 7, 5, 3, 11, 3, 5, 7, 4, 10, 2, 1, 3, 5, 6, 10, 3, 6, 8, 7, 11, 4, 5, 10, 1, 2, 6, 10, 1, 7, 10, 7, 1, 4, 4, 10, 8, 2, 6, 9, 1, 3, 6, 7, 9, 1, 6, 11, 8, 4, 5, 5, 3, 5, 1, 6, 12, 10, 5, 9, 5, 7, 1, 2, 3, 1, 3, 6, 10, 3, 2, 2, 6, 3, 6, 3, 12, 11, 1, 2, 6, 8, 6, 1, 3, 10, 3, 1, 4, 1, 10, 1, 3, 8, 4, 6, 8, 1, 3, 8, 11, 6, 7, 9, 4, 4, 2, 6, 10, 3, 7, 1, 6, 8, 3, 6, 7, 1, 2, 12, 3, 3, 8, 8, 9, 9, 11, 10, 1, 3, 4, 5, 2, 7, 1, 3, 9, 9, 11, 2, 7, 7, 1, 5, 6, 7, 9, 5, 5, 1, 2, 4, 5, 6, 8, 1, 2, 3, 4, 5, 6, 7, 10, 3, 5, 11, 1, 2, 3, 4, 5, 6, 7, 10, 5, 7, 10, 7, 1, 3, 6, 4, 3, 9, 10, 2, 6, 9, 8, 5, 9, 1, 1, 3, 8, 3, 1, 2, 4, 2, 6, 3, 7, 1, 3, 4, 6, 10, 3, 1, 3, 8, 1, 1, 2, 3, 4, 9, 7, 1, 3, 1, 4, 7, 1, 7, 1, 3, 4, 5, 6, 5, 7, 12, 10, 2, 5, 6, 7, 1, 9, 8, 1, 2, 3, 9, 2, 3, 4, 10, 12, 4, 10, 1, 2, 3, 4, 6, 10, 5, 6, 10, 10, 6, 12, 7, 1, 7, 6, 6, 10, 6], \"Freq\": [0.9268808127272655, 0.9812914213691042, 0.9482890419956865, 0.9600993543803003, 0.9770479063041381, 0.9172182736843243, 0.08212303148103833, 0.9697739763283112, 0.9735312563881008, 0.7708888958675594, 0.05404756096488424, 0.06258138638039228, 0.1109397304016045, 0.35095061454555765, 0.0037736625219952436, 0.5924650159532532, 0.05283127530793341, 0.9469990817724754, 0.9614716909926108, 0.9751868760271339, 0.9927226022378427, 0.9628215420164848, 0.9868513512442478, 0.9993992723053664, 0.9779726129754027, 0.9721966612032719, 0.9480155156538997, 0.9977196428230629, 0.9769942647359102, 0.9542704404021672, 0.8703242650811781, 0.9705684739349177, 0.9807825738606065, 0.0011464436865699667, 0.017769877141834485, 0.9686626786704272, 0.9761055769188874, 0.9718822452946948, 0.9821857044108193, 0.957619825213269, 0.9250384279064169, 0.9799808985254301, 0.9020230549924895, 0.984122814455951, 0.9521953146600612, 0.7869556911625324, 0.20529278899892148, 0.9669509641031492, 0.985310303226107, 0.9840372433529331, 0.9270278556138278, 0.9064132616009546, 0.9664279036096128, 0.09552886944435254, 0.02305869262449889, 0.06588197892713968, 0.03623508840992683, 0.11858756206885143, 0.5039971387926185, 0.08894067155163857, 0.06588197892713968, 0.04408192255401831, 0.1542867289390641, 0.07714336446953204, 0.7163312415027976, 0.9179540457057362, 0.9145576481642357, 0.05662726079447241, 0.9343498031087948, 0.9818847926836594, 0.9770732442086032, 0.9933573406305353, 0.9856697607721491, 0.41397379436033527, 0.09314410373107544, 0.486419208373394, 0.99677675700812, 0.9214762877888969, 0.03685905151155588, 0.09379435561830102, 0.058621472261438136, 0.10551865007058865, 0.052759325035294326, 0.6858712254588262, 0.0325859220160671, 0.944991738465946, 0.28783654927778685, 0.7117928459972858, 0.9696842107299954, 0.9745527416296822, 0.006807326709957674, 0.008792797000361995, 0.8920434376173701, 0.005105495032468255, 0.08707705416487524, 0.960233124995848, 0.9737186285880988, 0.9711856711423873, 0.18352317785556438, 0.3498410577871696, 0.005735099307986387, 0.06308609238785026, 0.4014569515590471, 0.06901200965748218, 0.9230356291688242, 0.9663756113269835, 0.9652116680114851, 0.9162164717750052, 0.9970700950291468, 0.9264473873267545, 0.9918523147388845, 0.8077558458876236, 0.9916082677522629, 0.9921844135105637, 0.3401367170615589, 0.18896484281197717, 0.46611327893621035, 0.9975340356278773, 0.0017228567109289765, 0.9982350392892227, 0.19431691595412354, 0.40482690823775735, 0.3886338319082471, 0.8887308243474878, 0.06393492385800717, 0.2983629780040335, 0.6286934179370706, 0.9706318987165524, 0.9719467787946443, 0.9663685418640486, 0.9383287718914378, 0.997233882290107, 0.24103407339894067, 0.7484742279230263, 0.9292742023643066, 0.9648300496621709, 0.9812617508839006, 0.9598967159030933, 0.2206279290141763, 0.419193065126935, 0.35300468642268207, 0.795230101326561, 0.1965737329121836, 0.9627286093975782, 0.9686764332566506, 0.08960200199829636, 0.8960200199829637, 0.28401561216666116, 0.7054581334462229, 0.987025223163819, 0.2144701125797573, 0.2144701125797573, 0.5556725644111893, 0.30306853816683577, 0.6710803345122791, 0.9914132848700647, 0.9853337970418146, 0.2913346559869074, 0.6947211027380099, 0.33939292040583496, 0.6536456244853118, 0.9545854206669339, 0.9648621611253956, 0.4219337283828332, 0.5745480556702409, 0.9658313696082068, 0.990872706765577, 0.9910712250236652, 0.9816115119860145, 0.6650199934997991, 0.32063463972311745, 0.980286940651379, 0.9312531951157955, 0.9625284259610497, 0.9679868255448935, 0.14712772671189409, 0.8092024969154175, 0.038945574717854314, 0.960427299220878, 0.9701538778416828, 0.021278635028335605, 0.17022908022668484, 0.8032684723196691, 0.9941515487956819, 0.06301349119494168, 0.28552988197707946, 0.027568402397786983, 0.19100964518466695, 0.4273102371656982, 0.005907514799525782, 0.19712615686328297, 0.7638638578452215, 0.9886847205405191, 0.971020376820425, 0.18513512554438674, 0.2143669874724478, 0.5943811925372416, 0.9475447047168924, 0.9696181211641698, 0.9601958331150975, 0.8898945940959229, 0.8429110380864674, 0.8957109736845522, 0.7773398108769045, 0.21826782866986974, 0.9325039059733796, 0.9973187205140103, 0.9723242901053147, 0.10678818265781881, 0.6881905104614989, 0.20171101168699107, 0.9806801092159203, 0.24245185600121513, 0.02444892665558472, 0.19151659213541364, 0.00611223166389618, 0.5338015653135997, 0.9827871063699504, 0.9827831630644813, 0.8867638472497078, 0.9095152123387427, 0.288899761981832, 0.6861369347068509, 0.982174284680919, 0.954608037280916, 0.09936178269974648, 0.002365756730946345, 0.5796103990818544, 0.07806997212122938, 0.021291810578517104, 0.07806997212122938, 0.14194540385678067, 0.9958314140501521, 0.9494083732444105, 0.004709641529385156, 0.09890247211708829, 0.061225339882007034, 0.45212558682097503, 0.08006390599954766, 0.11303139670524376, 0.1836760196460211, 0.9581175961655045, 0.9976163355298152, 0.9766997293439803, 0.11678709888036619, 0.8564387251226854, 0.9168080788116209, 0.9643525883123593, 0.9232489008372698, 0.9911191471041273, 0.9916811020516347, 0.9585934633145936, 0.8763608612206846, 0.9566591031450751, 0.08210576292624629, 0.6803048928174692, 0.0899253593954126, 0.14075273644499364, 0.9976635820254729, 0.9947355130157101, 0.238227432748317, 0.26584800466116537, 0.0863142872276511, 0.10012457318407526, 0.3072788625304379, 0.9069248167691345, 0.9846862096686907, 0.9322136704889041, 0.9085455079528508, 0.23223614484094227, 0.3649425133214807, 0.3981191054416153, 0.9805668122333453, 0.9394285959635147, 0.004762629130360024, 0.05477023499914027, 0.9831926123480943, 0.3438757751744043, 0.0010452151221106514, 0.10243108196684383, 0.389865240547273, 0.0010452151221106514, 0.08466242489096276, 0.06480333757086039, 0.011497366343217167, 0.11549840152887281, 0.19057236252264012, 0.00577492007644364, 0.6005916879501386, 0.08084888107021096, 0.19878810555539148, 0.574276749382242, 0.022087567283932387, 0.08835026913572955, 0.11485534987644841, 0.9884230167564251, 0.25567502558590877, 0.6508091560368586, 0.0929727365766941, 0.9313905320357363, 0.8341478165159881, 0.22945964776248734, 0.7648654925416245, 0.9483659401738423, 0.8918622878696045, 0.9872878376815496, 0.9764247751040399, 0.54248626870411, 0.0058965898772185875, 0.07665566840384164, 0.06486248864940446, 0.21227723557986913, 0.0884488481582788, 0.9277027012794875, 0.9969539494653086, 0.14902413576012016, 0.41569890501507206, 0.42354228058139415, 0.9839083272250555, 0.9921197924157981, 0.32738673896184006, 0.6680459132869979, 0.9545794466894724, 0.9596877001081167, 0.9949910392046525, 0.9755055737998675, 0.9891262534008753, 0.9886966824530314, 0.9827745118247053, 0.9678488413102334, 0.32494244334108513, 0.05415707389018085, 0.32494244334108513, 0.28161678422894043, 0.7626274437454129, 0.22596368703567787, 0.6590280959592774, 0.14977911271801758, 0.1797349352616211, 0.29989664764763707, 0.6897622895895652, 0.9960968962107257, 0.30829016372794493, 0.10276338790931498, 0.5861319162235002, 0.8477793998959725, 0.13246553123374571, 0.8815931242837294, 0.9739768858913961, 0.9912815307587334, 0.19323845972313056, 0.7971086463579136, 0.9753028244708115, 0.46154148583669025, 0.5373661585098608, 0.1461670291056013, 0.8527672268026273, 0.958810524404465, 0.3094145659651957, 0.6469577288363182, 0.6129041767354724, 0.3443281891772317, 0.041319382701267796, 0.9720321409708432, 0.9462025172958254, 0.20520092392302103, 0.7845917679409627, 0.965581441546225, 0.9714558004342032, 0.9988790203572275, 0.9699361818027562, 0.20348709523853423, 0.7461193492079589, 0.13826364632056976, 0.8514129799740349, 0.9817468841330297, 0.9583327453578588, 0.9510460559979107, 0.9847063502766978, 0.07306873676511615, 0.650976018452853, 0.2657044973276951, 0.4953636017487279, 0.4953636017487279, 0.952206056230575, 0.9748489230928893, 0.9122618478068093, 0.9683183965735875, 0.12747589656743083, 0.3656884305570743, 0.04056051254418253, 0.46548016776895196, 0.474487613741233, 0.5119471621944882, 0.8899836269958169, 0.1373025818864204, 0.8434301458737252, 0.970332114205159, 0.9193174707634493, 0.9269351749550825, 0.9427863645361465, 0.9830151092674045, 0.9140388864205908, 0.8978956343274723, 0.39058677463622693, 0.6024304490151975, 0.9395185787006392, 0.013273479586076916, 0.8893231322671534, 0.09291435710253841, 0.3894722196321145, 0.3363623715004625, 0.09441750778960352, 0.15932954439495592, 0.017703282710550657, 0.2759080525857596, 0.714852681699468, 0.9742637330767678, 0.5201127698621386, 0.17938195894880327, 0.1599251856236685, 0.001898221787818024, 0.13809563506376124, 0.9183085651423729, 0.9965153590671065, 0.8677289614340479, 0.12996821448791906, 0.9621265623213281, 0.955566276117789, 0.9778137073566879, 0.05260708391450915, 0.14544311435187823, 0.4363293430556347, 0.2877916943558442, 0.04022894652285994, 0.03713441217494764, 0.9636233403957999, 0.9810260549228709, 0.9931204134201544, 0.9634811573641242, 0.9698256596928585, 0.9760048961950336, 0.9100631512651485, 0.03708049179753905, 0.2502933196333886, 0.7091644056279343, 0.9882218610538109, 0.96605998346943, 0.9161662298462646, 0.9541364401758748, 0.9829508903057864, 0.9757961724526661, 0.9632780212268559, 0.2821296905519434, 0.7161753683241641, 0.8972547015894194, 0.9319083655477829, 0.9730832820742868, 0.9952242959618461, 0.9528854168105507, 0.9672162084902872, 0.5510748532807669, 0.4298383855589981, 0.9692761457638214, 0.9611326092015176, 0.840347329961998, 0.1344555727939197, 0.028125196711094633, 0.7593803111995551, 0.1687511802665678, 0.04687532785182439, 0.9089511325079397, 0.9087895966341601, 0.002685957931572915, 0.9968741008894904, 0.11742200824363565, 0.11507356807876293, 0.7655914937485044, 0.7904204580706109, 0.20250441487759452, 0.9505829629780629, 0.9597821755181406, 0.998442261081578, 0.16383492027388272, 0.046544011441443954, 0.0018617604576577583, 0.009308802288288792, 0.5026753235675947, 0.09867330425586118, 0.17314372256217153, 0.005585281372973275, 0.9484336141641442, 0.9919858706807656, 0.9783771347138158, 0.9430530060198719, 0.9506829222859525, 0.990835758457875, 0.8485861295441574, 0.1470882624543206, 0.003771493909085144, 0.9862301367615044, 0.09135820773527369, 0.0884111687760713, 0.40374433741072563, 0.2652335063282139, 0.14735194796011883, 0.9980307634926138, 0.9347581827955638, 0.06451444322369983, 0.1916020933411274, 0.7823752144762703, 0.023950261667640926, 0.9948727903303908, 0.980001276498204, 0.9553399211395731, 0.9921743735086744, 0.9486530129345732, 0.9810656967913542, 0.9516170697736998, 0.9754607333261063, 0.9294318201578408, 0.4231474059230055, 0.4231474059230055, 0.1051457190475347, 0.0461615351916006, 0.982302319987181, 0.8311126367557614, 0.1608605103398248, 0.926769859131861, 0.9669736218199932, 0.9891509952572299, 0.9606020985940419, 0.9596116368066, 0.9862003316944915, 0.9866656560799546, 0.9538726783419154, 0.22735569026751787, 0.6486324104690951, 0.12036477720045065, 0.27130227242095756, 0.32177711380160084, 0.034701453449192246, 0.1314448994287585, 0.2408070557534856, 0.9670571594513613, 0.9508764472805294, 0.04869546207185566, 0.09671081992483066, 0.010065542439433852, 0.01741066800334504, 0.18077170137848095, 0.5514285006684437, 0.09426244473686027, 0.00027204168755226625, 0.0004080625313283994, 0.8423766504085348, 0.7995417428815422, 0.19878109629651602, 0.9660527045852049, 0.9106846741394711, 0.07189615848469508, 0.9932439610446707, 0.43891451415067434, 0.556480901869605, 0.9475240975841853, 0.9810184782632054, 0.9814649471757454, 0.23203568833932164, 0.44137223325414443, 0.28500035632981896, 0.040354032754664634, 0.35190910299077865, 0.6334363853834015, 0.9810822091093925, 0.9912623205288049, 0.9116898967493654, 0.6851926022435356, 0.3102758953555633, 0.9804978983408538, 0.9566968459998263, 0.9989686912100137, 0.9650600627200921, 0.9842162634454021, 0.11861932923768537, 0.2667365869101391, 0.08159001481957194, 0.4751049324493536, 0.057740625872312455, 0.9764475839980659, 0.9492551590524498, 0.9845371457134509, 0.9960305953285156, 0.0028376940037849446, 0.999391144708185, 0.9423083143618085, 0.525719392696583, 0.10257939369689423, 0.051289696848447114, 0.3077381810906827, 0.971732616724018, 0.13910794815245436, 0.5519444394436093, 0.06731029749312308, 0.2378297178090349, 0.9662344214049551, 0.011254693660919001, 0.9883027870994499, 0.13104037597059018, 0.7600341806294231, 0.09172826317941313, 0.9840220988523332, 0.9976193862918171, 0.3261974159677498, 0.6523948319354996, 0.9625836984671722, 0.9077992379865872, 0.9968136779024093, 0.9720991770181231, 0.9145933634538634, 0.15587161108439598, 0.8339131193015186, 0.9469795616821493, 0.050134212089054955, 0.8872963243104744, 0.05639158655517227, 0.937510126479739, 0.9719624529758739, 0.9597196818323286, 0.9630648330992578, 0.9963469970240773, 0.5000978825240147, 0.4723146668282361, 0.2152980191960683, 0.6458940575882048, 0.12664589364474604, 0.2157586726813918, 0.7335794871167322, 0.9827816818099412, 0.9627912201918399, 0.1628046895423674, 0.2664076737966012, 0.23680682115253437, 0.3256093790847348, 0.09620706260670048, 0.6520700910009699, 0.25655216695120125, 0.9845886645427879, 0.8974413826769794, 0.9855162349168659, 0.9976821501720553, 0.8805284018088798, 0.3908577413576225, 0.15252985028590146, 0.22402821760741778, 0.2287947754288522, 0.401981030446307, 0.1633047936188122, 0.4145429376477541, 0.9766218066244251, 0.979947822654206, 0.9149389388089805, 0.9111082472063552, 0.9535449808941658, 0.9471140238461403, 0.9822858000099747, 0.9590004940124516, 0.9837405901653187, 0.15812907334004858, 0.4392474259445794, 0.19703384535228277, 0.11043935280892282, 0.09412444841669558, 0.9778306765941333, 0.9313897670272253, 0.9852929120188443, 0.9227707505435637, 0.992094610113064, 0.9755051691371102, 0.9864292849501131, 0.13018370145220337, 0.8534264872977776, 0.22947808919730212, 0.4348005900580461, 0.3261004425435346, 0.9449435805846835, 0.3308583138945396, 0.6249545929119082, 0.3783152158316942, 0.618362941613226, 0.18021330745791211, 0.1431105676871655, 0.6731497072692599, 0.25159318248941875, 0.22800632163103576, 0.015724573905588672, 0.5031863649788375, 0.9952403069112663, 0.9762842304932273, 0.9555329895450109, 0.9537458035620289, 0.34598865462511946, 0.6436998225583618, 0.47864424573757564, 0.5210557611826773, 0.996077846201215, 0.014792166903396171, 0.23667467045433874, 0.7026279279113181, 0.04437650071018851, 0.9814176113136578, 0.25081892664125743, 0.7468203995498114, 0.9895147481081479, 0.9846446835890675, 0.3676941866054636, 0.6303328913236519, 0.4913895544798305, 0.5062801470398254, 0.3966216567284106, 0.049577707091051325, 0.5453547780015646, 0.04905078492608614, 0.9074395211325935, 0.04087565410507178, 0.3780832120652009, 0.163495443055222, 0.35083397155599727, 0.10899696203681468, 0.9595026016837085, 0.9592618208367623, 0.9124803855466043, 0.9466122759429733, 0.9630862576664514, 0.9874466009395372, 0.16444598576459032, 0.8328393472593768, 0.2648482212024961, 0.7283326083068643, 0.8140138237392277, 0.1617591572815132, 0.020872149326646862, 0.28378802045496954, 0.10319564380180711, 0.6062744073356168, 0.41404066286697416, 0.2866435358309821, 0.2707188949514831, 0.974671593477288, 0.9725368798160009, 0.8966635312646348, 0.9676226461736256, 0.9097158440326077, 0.9945703941275754, 0.9964398126124974, 0.9476263336224631, 0.1797405368251208, 0.6194629215580056, 0.032096524433057286, 0.1669019270518979, 0.21962799220620544, 0.7639234511520189, 0.20805541050037565, 0.788420502948792, 0.8341814894345098, 0.9427145966876322, 0.9622164578977096, 0.9627481694327141, 0.9553679587956725, 0.9892143548079638, 0.11156015146444534, 0.8227561170502844, 0.04880756626569484, 0.006972509466527834, 0.8248469335480233, 0.9513314397447842, 0.9349644463399959, 0.4309899449279401, 0.16606952006397693, 0.16211548387197747, 0.019770180959997254, 0.05140247049599286, 0.16606952006397693, 0.060714172940964095, 0.3187494079400615, 0.1416664035289162, 0.08601174499969913, 0.060714172940964095, 0.09613077382319316, 0.17708300441114527, 0.05565465852921709, 0.006116975002886735, 0.17739227508371533, 0.8135576753839359, 0.015636229298852028, 0.33911072291885336, 0.19740739489800688, 0.03518151592241706, 0.11727171974139022, 0.014658964967673778, 0.23454343948278045, 0.046908687896556084, 0.14154673934673098, 0.8492804360803858, 0.9637555263103702, 0.9545390465747551, 0.16807630802915452, 0.013627808759120638, 0.8131259226275314, 0.951640473925245, 0.9602528716603667, 0.8420102714960861, 0.9115487743035106, 0.5054860440945655, 0.0024538157480318715, 0.49076314960637435, 0.9669917735205481, 0.28762911666039837, 0.6985278547466818, 0.9586171959903877, 0.01085884081397636, 0.9710906213641716, 0.015512629734251942, 0.9517587493584965, 0.00995408757754617, 0.3981635031018468, 0.587291167075224, 0.8081798727196153, 0.1895730565638604, 0.41901254609832284, 0.5634996309598135, 0.5587701478891823, 0.1156076168046584, 0.10597364873760354, 0.21676428150873453, 0.9955503359396487, 0.9805056860899699, 0.7963364256219312, 0.0637069140497545, 0.127413828099509, 0.9915730648082076, 0.5886181679909651, 0.01691431517215417, 0.057508671585324175, 0.33490344040865255, 0.9516824337493656, 0.9684790808820317, 0.2415348945451091, 0.7524740945443784, 0.2917287100926084, 0.4979507292960041, 0.20622201920339564, 0.9865725088819596, 0.9686073912951043, 0.06446908919188395, 0.00716323213243155, 0.06446908919188395, 0.7879555345674705, 0.07521393739053128, 0.14986092806093548, 0.8367235150068899, 0.9718492123572126, 0.9978719203260983, 0.17293249590543452, 0.15218059639678239, 0.20060169525030405, 0.45654178919034716, 0.23295607750117048, 0.7526273273114739, 0.9520951003557945, 0.9492218832159676, 0.03874375033534562, 0.9954246146281382, 0.9512173178494123, 0.18007547258935835, 0.06002515752978612, 0.7503144691223265, 0.9676690155020622, 0.9654238739048804, 0.291240441827862, 0.6698530162040827, 0.09460583901889753, 0.13747410982433547, 0.4892895736758607, 0.24686211118993576, 0.00739108117335137, 0.023651459754724383, 0.9298115087953531, 0.2951341341783472, 0.7016964618730092, 0.9215404814918023, 0.39587892376255923, 0.5740244394557109, 0.9551403487731506, 0.10954776414059979, 0.8900755836423734, 0.9506306993342655, 0.2651158361671766, 0.7290685494597356, 0.9635737737183269], \"Term\": [\"abhi\", \"accessory\", \"accha\", \"adapter\", \"alot\", \"amazon\", \"amazon\", \"amazone\", \"amount\", \"android\", \"android\", \"android\", \"android\", \"apps\", \"apps\", \"apps\", \"apps\", \"arrange\", \"aspect\", \"atleast\", \"atmos\", \"atom\", \"audio\", \"awesome\", \"awsm\", \"awsome\", \"background\", \"backup\", \"bahut\", \"bakwas\", \"bass\", \"batter\", \"battery\", \"battery\", \"battery\", \"battry\", \"beautiful\", \"become\", \"becomes\", \"bekar\", \"bettry\", \"bill\", \"blast\", \"blowing\", \"blue\", \"bluetooth\", \"bluetooth\", \"blur\", \"body\", \"bokeh\", \"boot\", \"bother\", \"bottom\", \"bought\", \"bought\", \"bought\", \"bought\", \"bought\", \"bought\", \"bought\", \"bought\", \"brand\", \"brand\", \"brand\", \"brand\", \"bright\", \"brilliant\", \"broke\", \"broke\", \"broken\", \"brought\", \"budget\", \"bug\", \"build\", \"build\", \"build\", \"button\", \"buyer\", \"buyer\", \"buying\", \"buying\", \"buying\", \"buying\", \"buying\", \"cable\", \"cable\", \"call\", \"call\", \"caller\", \"camara\", \"camera\", \"camera\", \"camera\", \"camera\", \"camera\", \"cameragood\", \"capacity\", \"capture\", \"card\", \"card\", \"card\", \"card\", \"card\", \"care\", \"care\", \"case\", \"cash\", \"cashback\", \"cast\", \"cause\", \"cell\", \"cemera\", \"center\", \"centre\", \"change\", \"change\", \"change\", \"charge\", \"charge\", \"charger\", \"cheap\", \"cheap\", \"cheap\", \"cheat\", \"check\", \"check\", \"check\", \"china\", \"choose\", \"chor\", \"chrome\", \"clarity\", \"class\", \"class\", \"clean\", \"clearity\", \"color\", \"comment\", \"company\", \"company\", \"company\", \"compare\", \"compare\", \"comparison\", \"complain\", \"complaint\", \"complaint\", \"con\", \"con\", \"concern\", \"condition\", \"condition\", \"condition\", \"configuration\", \"configuration\", \"connect\", \"connection\", \"connectivity\", \"connectivity\", \"contact\", \"contact\", \"contain\", \"control\", \"cool\", \"cool\", \"copy\", \"core\", \"cost\", \"couple\", \"cover\", \"cover\", \"coverage\", \"crack\", \"crash\", \"custom\", \"customer\", \"customer\", \"customer\", \"damage\", \"dark\", \"data\", \"data\", \"data\", \"date\", \"day\", \"day\", \"day\", \"day\", \"day\", \"day\", \"deal\", \"deal\", \"deca\", \"decacore\", \"decent\", \"decent\", \"decent\", \"decision\", \"deep\", \"degree\", \"delay\", \"delayed\", \"deliver\", \"delivery\", \"delivery\", \"department\", \"depth\", \"description\", \"design\", \"design\", \"design\", \"detail\", \"device\", \"device\", \"device\", \"device\", \"device\", \"didnt\", \"difference\", \"difficulty\", \"disappoint\", \"disappointment\", \"disappointment\", \"discharge\", \"discount\", \"display\", \"display\", \"display\", \"display\", \"display\", \"display\", \"display\", \"dolby\", \"donot\", \"dont\", \"dont\", \"dont\", \"dont\", \"dont\", \"dont\", \"dont\", \"doubt\", \"drain\", \"drainage\", \"drop\", \"drop\", \"duel\", \"dull\", \"duty\", \"earphone\", \"effect\", \"effort\", \"enjoy\", \"everyone\", \"everything\", \"everything\", \"everything\", \"everything\", \"excellent\", \"expectation\", \"experience\", \"experience\", \"experience\", \"experience\", \"experience\", \"explore\", \"facility\", \"fail\", \"fails\", \"fake\", \"fake\", \"fake\", \"fall\", \"fast\", \"fast\", \"fast\", \"faulty\", \"feature\", \"feature\", \"feature\", \"feature\", \"feature\", \"feature\", \"feature\", \"feature\", \"feel\", \"feel\", \"feel\", \"feel\", \"feel\", \"fine\", \"fine\", \"fine\", \"fine\", \"fine\", \"finger\", \"fingerprint\", \"fingerprint\", \"fingerprint\", \"fire\", \"fitting\", \"flash\", \"flash\", \"flipkart\", \"flop\", \"focus\", \"fone\", \"found\", \"found\", \"found\", \"found\", \"found\", \"found\", \"fraud\", \"front\", \"function\", \"function\", \"function\", \"functionality\", \"gallery\", \"game\", \"game\", \"gaya\", \"ghatiya\", \"glass\", \"gold\", \"google\", \"gorilla\", \"guard\", \"guess\", \"guy\", \"guy\", \"guy\", \"guy\", \"half\", \"half\", \"hand\", \"hand\", \"hand\", \"handle\", \"handle\", \"handset\", \"hang\", \"hang\", \"hang\", \"hardware\", \"hardware\", \"hdfc\", \"head\", \"headphone\", \"headset\", \"headset\", \"hear\", \"heat\", \"heat\", \"heating\", \"heating\", \"height\", \"hell\", \"hell\", \"help\", \"help\", \"help\", \"hone\", \"honest\", \"hope\", \"hope\", \"hota\", \"hotspot\", \"hour\", \"icon\", \"idea\", \"idea\", \"image\", \"image\", \"inbuilt\", \"information\", \"insert\", \"install\", \"internet\", \"internet\", \"internet\", \"invoice\", \"invoice\", \"iphone\", \"iron\", \"iska\", \"isme\", \"issue\", \"issue\", \"issue\", \"issue\", \"item\", \"item\", \"itna\", \"jack\", \"jack\", \"jata\", \"jayega\", \"karne\", \"karta\", \"key\", \"khrab\", \"kill\", \"killer\", \"killer\", \"kiya\", \"lag\", \"lag\", \"lag\", \"le\", \"le\", \"le\", \"le\", \"le\", \"left\", \"left\", \"lenova\", \"lenovo\", \"lenovo\", \"lenovo\", \"lenovo\", \"lenovo\", \"lens\", \"life\", \"light\", \"light\", \"list\", \"liye\", \"longer\", \"look\", \"look\", \"look\", \"look\", \"look\", \"look\", \"loss\", \"loud\", \"love\", \"mail\", \"maine\", \"maintain\", \"manages\", \"mark\", \"mark\", \"mark\", \"market\", \"mast\", \"material\", \"maximum\", \"mediatek\", \"medium\", \"meet\", \"memory\", \"memory\", \"mene\", \"menu\", \"mera\", \"message\", \"micro\", \"mila\", \"min\", \"min\", \"mind\", \"minimum\", \"minor\", \"minor\", \"minute\", \"minute\", \"minute\", \"minute\", \"mobail\", \"mobil\", \"mobile\", \"mobile\", \"mode\", \"mode\", \"mode\", \"model\", \"model\", \"moderate\", \"moment\", \"money\", \"month\", \"month\", \"month\", \"month\", \"month\", \"month\", \"month\", \"month\", \"motion\", \"moto\", \"movie\", \"mujhe\", \"multi\", \"multiple\", \"music\", \"music\", \"music\", \"nahi\", \"need\", \"need\", \"need\", \"need\", \"need\", \"network\", \"note\", \"note\", \"nothing\", \"nothing\", \"nothing\", \"notification\", \"nougat\", \"november\", \"number\", \"october\", \"okay\", \"opening\", \"operating\", \"optimization\", \"option\", \"option\", \"option\", \"option\", \"order\", \"oreo\", \"oreo\", \"overheat\", \"pack\", \"package\", \"paid\", \"paisa\", \"party\", \"percent\", \"percentage\", \"perfect\", \"perfect\", \"perfect\", \"performance\", \"performance\", \"performance\", \"performance\", \"performance\", \"period\", \"phon\", \"phone\", \"phone\", \"phone\", \"phone\", \"phone\", \"phone\", \"phone\", \"phone\", \"phone\", \"phoneall\", \"photo\", \"photo\", \"photography\", \"pic\", \"pic\", \"picture\", \"piece\", \"piece\", \"pixel\", \"place\", \"player\", \"please\", \"please\", \"please\", \"please\", \"pocket\", \"pocket\", \"point\", \"policy\", \"port\", \"power\", \"power\", \"premium\", \"present\", \"price\", \"primary\", \"print\", \"problem\", \"problem\", \"problem\", \"problem\", \"problem\", \"process\", \"processer\", \"processing\", \"processor\", \"processor\", \"product\", \"proof\", \"proper\", \"proper\", \"proper\", \"proper\", \"protection\", \"purchase\", \"purchase\", \"purchase\", \"purchase\", \"purpose\", \"quality\", \"quality\", \"quick\", \"quick\", \"quick\", \"raha\", \"range\", \"rating\", \"rating\", \"read\", \"reading\", \"rear\", \"reception\", \"recharge\", \"recommend\", \"recommend\", \"redmi\", \"redmi\", \"refer\", \"refund\", \"refund\", \"remains\", \"remote\", \"repair\", \"replacement\", \"reply\", \"reply\", \"request\", \"request\", \"request\", \"reset\", \"reset\", \"resolution\", \"resolve\", \"response\", \"response\", \"response\", \"response\", \"rest\", \"rest\", \"rest\", \"restart\", \"restarts\", \"result\", \"return\", \"revert\", \"review\", \"review\", \"review\", \"review\", \"right\", \"right\", \"right\", \"ring\", \"ringtone\", \"rock\", \"room\", \"rough\", \"rupee\", \"saver\", \"scanner\", \"scratch\", \"screen\", \"screen\", \"screen\", \"screen\", \"screen\", \"screenshot\", \"search\", \"segment\", \"selfi\", \"selfie\", \"sell\", \"seller\", \"send\", \"send\", \"sensor\", \"sensor\", \"sensor\", \"september\", \"series\", \"series\", \"service\", \"service\", \"show\", \"show\", \"show\", \"side\", \"side\", \"side\", \"side\", \"signal\", \"sims\", \"site\", \"slim\", \"slot\", \"slot\", \"smart\", \"smart\", \"smartphone\", \"smooth\", \"smooth\", \"smooth\", \"smooth\", \"snapdragon\", \"software\", \"software\", \"solve\", \"someone\", \"sound\", \"sound\", \"speaker\", \"speaker\", \"spec\", \"spec\", \"spec\", \"specification\", \"specification\", \"specification\", \"speed\", \"speed\", \"speed\", \"speed\", \"spend\", \"spent\", \"splash\", \"split\", \"standard\", \"standby\", \"star\", \"star\", \"start\", \"start\", \"stock\", \"stock\", \"stock\", \"stop\", \"stop\", \"stop\", \"storage\", \"storage\", \"storage\", \"strength\", \"stuck\", \"stuff\", \"stylish\", \"sufficient\", \"super\", \"superb\", \"superfast\", \"support\", \"support\", \"support\", \"support\", \"switch\", \"switch\", \"system\", \"system\", \"table\", \"tech\", \"technology\", \"temperature\", \"test\", \"thank\", \"thanks\", \"thanks\", \"thanks\", \"thanks\", \"thanx\", \"thats\", \"thik\", \"thing\", \"thing\", \"thing\", \"thing\", \"thing\", \"thing\", \"think\", \"think\", \"think\", \"think\", \"think\", \"think\", \"think\", \"think\", \"till\", \"till\", \"till\", \"time\", \"time\", \"time\", \"time\", \"time\", \"time\", \"time\", \"time\", \"today\", \"today\", \"told\", \"tone\", \"touch\", \"touch\", \"touch\", \"transparent\", \"tray\", \"trendy\", \"tube\", \"turbo\", \"turbo\", \"turbo\", \"turbocharger\", \"understand\", \"understand\", \"unlock\", \"update\", \"update\", \"update\", \"upgrade\", \"upto\", \"upto\", \"upto\", \"usage\", \"usage\", \"useless\", \"useless\", \"user\", \"user\", \"user\", \"user\", \"value\", \"venom\", \"version\", \"version\", \"version\", \"vibe\", \"video\", \"video\", \"video\", \"video\", \"view\", \"visit\", \"voice\", \"voice\", \"volta\", \"volta\", \"volta\", \"volume\", \"wait\", \"want\", \"want\", \"want\", \"want\", \"want\", \"warranty\", \"warranty\", \"wastage\", \"waste\", \"week\", \"week\", \"week\", \"week\", \"weight\", \"weight\", \"west\", \"whatsapp\", \"whatsapp\", \"wifi\", \"wire\", \"wise\", \"wise\", \"wise\", \"wonderful\", \"wont\", \"word\", \"word\", \"work\", \"work\", \"work\", \"work\", \"work\", \"work\", \"world\", \"worth\", \"worth\", \"worthless\", \"worthy\", \"worthy\", \"wrost\", \"year\", \"year\", \"yellow\", \"zero\", \"zero\", \"zoom\"]}, \"R\": 30, \"lambda.step\": 0.01, \"plot.opts\": {\"xlab\": \"PC1\", \"ylab\": \"PC2\"}, \"topic.order\": [5, 3, 2, 4, 11, 10, 6, 9, 7, 1, 12, 8]};\n",
       "\n",
       "function LDAvis_load_lib(url, callback){\n",
       "  var s = document.createElement('script');\n",
       "  s.src = url;\n",
       "  s.async = true;\n",
       "  s.onreadystatechange = s.onload = callback;\n",
       "  s.onerror = function(){console.warn(\"failed to load library \" + url);};\n",
       "  document.getElementsByTagName(\"head\")[0].appendChild(s);\n",
       "}\n",
       "\n",
       "if(typeof(LDAvis) !== \"undefined\"){\n",
       "   // already loaded: just create the visualization\n",
       "   !function(LDAvis){\n",
       "       new LDAvis(\"#\" + \"ldavis_el1554025270716278565633252159\", ldavis_el1554025270716278565633252159_data);\n",
       "   }(LDAvis);\n",
       "}else if(typeof define === \"function\" && define.amd){\n",
       "   // require.js is available: use it to load d3/LDAvis\n",
       "   require.config({paths: {d3: \"https://d3js.org/d3.v5\"}});\n",
       "   require([\"d3\"], function(d3){\n",
       "      window.d3 = d3;\n",
       "      LDAvis_load_lib(\"https://cdn.jsdelivr.net/gh/bmabey/pyLDAvis@3.3.1/pyLDAvis/js/ldavis.v3.0.0.js\", function(){\n",
       "        new LDAvis(\"#\" + \"ldavis_el1554025270716278565633252159\", ldavis_el1554025270716278565633252159_data);\n",
       "      });\n",
       "    });\n",
       "}else{\n",
       "    // require.js not available: dynamically load d3 & LDAvis\n",
       "    LDAvis_load_lib(\"https://d3js.org/d3.v5.js\", function(){\n",
       "         LDAvis_load_lib(\"https://cdn.jsdelivr.net/gh/bmabey/pyLDAvis@3.3.1/pyLDAvis/js/ldavis.v3.0.0.js\", function(){\n",
       "                 new LDAvis(\"#\" + \"ldavis_el1554025270716278565633252159\", ldavis_el1554025270716278565633252159_data);\n",
       "            })\n",
       "         });\n",
       "}\n",
       "</script>"
      ],
      "text/plain": [
       "PreparedData(topic_coordinates=              x         y  topics  cluster       Freq\n",
       "topic                                                \n",
       "4      0.074541  0.095913       1        1  13.731662\n",
       "2      0.164543 -0.089593       2        1  13.466450\n",
       "1      0.049931  0.185539       3        1  11.476407\n",
       "3      0.062770 -0.222253       4        1  10.828217\n",
       "10    -0.080530  0.284923       5        1   9.363213\n",
       "9      0.136564 -0.027611       6        1   9.151965\n",
       "5      0.184187  0.108949       7        1   9.074981\n",
       "8      0.171461 -0.121368       8        1   6.960109\n",
       "6     -0.140817 -0.156533       9        1   6.012934\n",
       "0     -0.129521  0.028732      10        1   4.457292\n",
       "11    -0.247625 -0.062292      11        1   2.805565\n",
       "7     -0.245505 -0.024405      12        1   2.671206, topic_info=               Term         Freq        Total Category  logprob  loglift\n",
       "22            phone  7351.000000  7351.000000  Default  30.0000  30.0000\n",
       "15           mobile  2606.000000  2606.000000  Default  29.0000  29.0000\n",
       "5           battery  3489.000000  3489.000000  Default  28.0000  28.0000\n",
       "81           camera  3525.000000  3525.000000  Default  27.0000  27.0000\n",
       "70          product  2330.000000  2330.000000  Default  26.0000  26.0000\n",
       "..              ...          ...          ...      ...      ...      ...\n",
       "121  disappointment    18.630693    27.691265  Topic12  -4.9946   3.2263\n",
       "603          sensor    54.124650   165.593152  Topic12  -3.9281   2.5044\n",
       "468         invoice    19.979104    40.374383  Topic12  -4.9247   2.9191\n",
       "856           cheap    24.019142    61.754788  Topic12  -4.7406   2.6783\n",
       "978         storage    17.418454    62.795765  Topic12  -5.0619   2.3403\n",
       "\n",
       "[643 rows x 6 columns], token_table=      Topic      Freq       Term\n",
       "term                            \n",
       "3399     11  0.926881       abhi\n",
       "414      11  0.981291  accessory\n",
       "2643     11  0.948289      accha\n",
       "1762      5  0.960099    adapter\n",
       "1165      3  0.977048       alot\n",
       "...     ...       ...        ...\n",
       "43        7  0.890076       year\n",
       "288       6  0.950631     yellow\n",
       "461       6  0.265116       zero\n",
       "461      10  0.729069       zero\n",
       "452       6  0.963574       zoom\n",
       "\n",
       "[899 rows x 3 columns], R=30, lambda_step=0.01, plot_opts={'xlab': 'PC1', 'ylab': 'PC2'}, topic_order=[5, 3, 2, 4, 11, 10, 6, 9, 7, 1, 12, 8])"
      ]
     },
     "execution_count": 22,
     "metadata": {},
     "output_type": "execute_result"
    }
   ],
   "source": [
    "import pyLDAvis\n",
    "import pyLDAvis.gensim_models\n",
    "pyLDAvis.enable_notebook()\n",
    "vis = pyLDAvis.gensim_models.prepare(ldamodel,doc_term_matrix,dictionary)\n",
    "vis"
   ]
  },
  {
   "cell_type": "code",
   "execution_count": 23,
   "metadata": {},
   "outputs": [
    {
     "name": "stdout",
     "output_type": "stream",
     "text": [
      "\n",
      "Coherence Score:  0.5671985649168331\n"
     ]
    }
   ],
   "source": [
    "from gensim.models.coherencemodel import CoherenceModel\n",
    "coherence_model_lda = CoherenceModel(model=ldamodel,texts=df['clean_review'],\\\n",
    "                                     dictionary=dictionary , coherence='c_v')\n",
    "print('\\nCoherence Score: ', coherence_model_lda.get_coherence())"
   ]
  },
  {
   "cell_type": "code",
   "execution_count": 24,
   "metadata": {},
   "outputs": [],
   "source": [
    "def calculate_topic_cv(ldamodel,texts,dictionary,topic_range):\n",
    "  cv_score =[]\n",
    "  topic_num = []\n",
    "  for i in range(2,topic_range):\n",
    "    topic_num.append(i)\n",
    "    Lda = gensim.models.ldamodel.LdaModel\n",
    "    ldamodel = Lda(doc_term_matrix, num_topics=i, id2word=dictionary, passes=10,random_state=101)\n",
    "    cv_score.append(CoherenceModel(model=ldamodel,texts=texts,\\\n",
    "                                   dictionary=dictionary , coherence='c_v').get_coherence())\n",
    "    clear_output()\n",
    "  return topic_num,cv_score"
   ]
  },
  {
   "cell_type": "code",
   "execution_count": 25,
   "metadata": {},
   "outputs": [],
   "source": [
    "topic_num,cv_score = calculate_topic_cv(ldamodel,df['clean_review'],dictionary,20)"
   ]
  },
  {
   "cell_type": "code",
   "execution_count": 26,
   "metadata": {},
   "outputs": [
    {
     "data": {
      "text/html": [
       "<div>\n",
       "<style scoped>\n",
       "    .dataframe tbody tr th:only-of-type {\n",
       "        vertical-align: middle;\n",
       "    }\n",
       "\n",
       "    .dataframe tbody tr th {\n",
       "        vertical-align: top;\n",
       "    }\n",
       "\n",
       "    .dataframe thead th {\n",
       "        text-align: right;\n",
       "    }\n",
       "</style>\n",
       "<table border=\"1\" class=\"dataframe\">\n",
       "  <thead>\n",
       "    <tr style=\"text-align: right;\">\n",
       "      <th></th>\n",
       "      <th>Coherence_Score</th>\n",
       "    </tr>\n",
       "    <tr>\n",
       "      <th>Topic</th>\n",
       "      <th></th>\n",
       "    </tr>\n",
       "  </thead>\n",
       "  <tbody>\n",
       "    <tr>\n",
       "      <th>3</th>\n",
       "      <td>0.639922</td>\n",
       "    </tr>\n",
       "    <tr>\n",
       "      <th>4</th>\n",
       "      <td>0.594964</td>\n",
       "    </tr>\n",
       "    <tr>\n",
       "      <th>10</th>\n",
       "      <td>0.574504</td>\n",
       "    </tr>\n",
       "    <tr>\n",
       "      <th>6</th>\n",
       "      <td>0.573905</td>\n",
       "    </tr>\n",
       "    <tr>\n",
       "      <th>5</th>\n",
       "      <td>0.570366</td>\n",
       "    </tr>\n",
       "    <tr>\n",
       "      <th>2</th>\n",
       "      <td>0.570009</td>\n",
       "    </tr>\n",
       "    <tr>\n",
       "      <th>12</th>\n",
       "      <td>0.554739</td>\n",
       "    </tr>\n",
       "    <tr>\n",
       "      <th>9</th>\n",
       "      <td>0.553811</td>\n",
       "    </tr>\n",
       "    <tr>\n",
       "      <th>7</th>\n",
       "      <td>0.552926</td>\n",
       "    </tr>\n",
       "    <tr>\n",
       "      <th>14</th>\n",
       "      <td>0.545427</td>\n",
       "    </tr>\n",
       "    <tr>\n",
       "      <th>11</th>\n",
       "      <td>0.542057</td>\n",
       "    </tr>\n",
       "    <tr>\n",
       "      <th>8</th>\n",
       "      <td>0.540181</td>\n",
       "    </tr>\n",
       "    <tr>\n",
       "      <th>13</th>\n",
       "      <td>0.534449</td>\n",
       "    </tr>\n",
       "    <tr>\n",
       "      <th>15</th>\n",
       "      <td>0.523739</td>\n",
       "    </tr>\n",
       "    <tr>\n",
       "      <th>16</th>\n",
       "      <td>0.521434</td>\n",
       "    </tr>\n",
       "    <tr>\n",
       "      <th>18</th>\n",
       "      <td>0.514598</td>\n",
       "    </tr>\n",
       "    <tr>\n",
       "      <th>19</th>\n",
       "      <td>0.511220</td>\n",
       "    </tr>\n",
       "    <tr>\n",
       "      <th>17</th>\n",
       "      <td>0.503246</td>\n",
       "    </tr>\n",
       "  </tbody>\n",
       "</table>\n",
       "</div>"
      ],
      "text/plain": [
       "       Coherence_Score\n",
       "Topic                 \n",
       "3             0.639922\n",
       "4             0.594964\n",
       "10            0.574504\n",
       "6             0.573905\n",
       "5             0.570366\n",
       "2             0.570009\n",
       "12            0.554739\n",
       "9             0.553811\n",
       "7             0.552926\n",
       "14            0.545427\n",
       "11            0.542057\n",
       "8             0.540181\n",
       "13            0.534449\n",
       "15            0.523739\n",
       "16            0.521434\n",
       "18            0.514598\n",
       "19            0.511220\n",
       "17            0.503246"
      ]
     },
     "execution_count": 26,
     "metadata": {},
     "output_type": "execute_result"
    }
   ],
   "source": [
    "pd.DataFrame(zip(topic_num,cv_score),columns=['Topic','Coherence_Score']).set_index('Topic').sort_values('Coherence_Score',ascending=False)"
   ]
  },
  {
   "cell_type": "code",
   "execution_count": 28,
   "metadata": {},
   "outputs": [
    {
     "data": {
      "image/png": "[encoded data removed]",
      "text/plain": [
       "<Figure size 432x288 with 1 Axes>"
      ]
     },
     "metadata": {
      "needs_background": "light"
     },
     "output_type": "display_data"
    }
   ],
   "source": [
    "import matplotlib.pyplot as plt\n",
    "\n",
    "plt.plot(topic_num,cv_score,color='blue', marker='o', linestyle='dashed')\n",
    "plt.xticks(range(2,20))\n",
    "plt.xlabel('Number of topics')\n",
    "plt.ylabel('Coherence score')\n",
    "plt.show()"
   ]
  },
  {
   "cell_type": "markdown",
   "metadata": {},
   "source": [
    "# We will be going with number of topic 6 as with  3 or 4 topics words might not be classified in the right manner"
   ]
  },
  {
   "cell_type": "code",
   "execution_count": 25,
   "metadata": {},
   "outputs": [
    {
     "name": "stdout",
     "output_type": "stream",
     "text": [
      "0.6030238608678619\n"
     ]
    }
   ],
   "source": [
    "Lda = gensim.models.ldamodel.LdaModel\n",
    "ldamodel = Lda(doc_term_matrix, num_topics=6, id2word=dictionary, passes=10,random_state=101)\n",
    "clear_output()\n",
    "print(CoherenceModel(model=ldamodel,texts=df['clean_review'],\\\n",
    "                     dictionary=dictionary , coherence='c_v').get_coherence())"
   ]
  },
  {
   "cell_type": "code",
   "execution_count": 26,
   "metadata": {},
   "outputs": [
    {
     "name": "stderr",
     "output_type": "stream",
     "text": [
      "C:\\Users\\Admin\\anaconda3\\lib\\site-packages\\pyLDAvis\\_prepare.py:246: FutureWarning: In a future version of pandas all arguments of DataFrame.drop except for the argument 'labels' will be keyword-only.\n",
      "  default_term_info = default_term_info.sort_values(\n"
     ]
    },
    {
     "data": {
      "text/html": [
       "\n",
       "<link rel=\"stylesheet\" type=\"text/css\" href=\"https://cdn.jsdelivr.net/gh/bmabey/pyLDAvis@3.3.1/pyLDAvis/js/ldavis.v1.0.0.css\">\n",
       "\n",
       "\n",
       "<div id=\"ldavis_el1554025270965703688488073386\"></div>\n",
       "<script type=\"text/javascript\">\n",
       "\n",
       "var ldavis_el1554025270965703688488073386_data = {\"mdsDat\": {\"x\": [-0.06338001667109401, -0.029977842061762915, 0.1423169877106689, 0.2532943169975336, -0.027776624996709787, -0.27447682097863596], \"y\": [-0.014727083203183769, -0.23299016014459606, -0.017986293699577008, 0.002174252361072919, 0.26924893351630136, -0.005719648830017499], \"topics\": [1, 2, 3, 4, 5, 6], \"cluster\": [1, 1, 1, 1, 1, 1], \"Freq\": [22.15500079449245, 21.368819027493483, 18.82565671989605, 17.319949489971055, 11.957087103382902, 8.37348686476406]}, \"tinfo\": {\"Term\": [\"battery\", \"product\", \"camera\", \"mobile\", \"problem\", \"phone\", \"heating\", \"money\", \"note\", \"quality\", \"lenovo\", \"issue\", \"price\", \"fast\", \"amazon\", \"performance\", \"backup\", \"awesome\", \"waste\", \"charge\", \"worth\", \"return\", \"drain\", \"hour\", \"network\", \"speaker\", \"update\", \"call\", \"excellent\", \"front\", \"handset\", \"cast\", \"signal\", \"oreo\", \"help\", \"care\", \"center\", \"number\", \"sure\", \"broken\", \"solution\", \"cable\", \"multiple\", \"strength\", \"lenevo\", \"install\", \"party\", \"hotspot\", \"reception\", \"become\", \"file\", \"longer\", \"tell\", \"fone\", \"reply\", \"checked\", \"damage\", \"cash\", \"read\", \"list\", \"wifi\", \"update\", \"network\", \"bug\", \"software\", \"model\", \"customer\", \"data\", \"centre\", \"call\", \"please\", \"screen\", \"show\", \"service\", \"system\", \"mobile\", \"issue\", \"month\", \"lenovo\", \"contact\", \"replacement\", \"work\", \"time\", \"support\", \"phone\", \"problem\", \"amazon\", \"day\", \"note\", \"return\", \"need\", \"option\", \"apps\", \"bought\", \"charge\", \"drain\", \"life\", \"battery\", \"backup\", \"hold\", \"scratch\", \"standby\", \"capacity\", \"okay\", \"talk\", \"stand\", \"faster\", \"discharge\", \"percent\", \"zoom\", \"broke\", \"colour\", \"usage\", \"protection\", \"sims\", \"icon\", \"aspect\", \"atleast\", \"beautiful\", \"turbo\", \"processer\", \"maximum\", \"remains\", \"stylish\", \"fast\", \"hour\", \"heat\", \"gorilla\", \"glass\", \"charger\", \"warm\", \"half\", \"heating\", \"game\", \"issue\", \"phone\", \"time\", \"smartphone\", \"problem\", \"internet\", \"hang\", \"performance\", \"day\", \"camera\", \"month\", \"mark\", \"condition\", \"feel\", \"look\", \"screen\", \"work\", \"speaker\", \"music\", \"stock\", \"redmi\", \"headphone\", \"killer\", \"button\", \"notification\", \"compare\", \"google\", \"volume\", \"gallery\", \"headset\", \"audio\", \"samsung\", \"rate\", \"player\", \"facility\", \"suck\", \"loud\", \"jack\", \"lack\", \"ringtone\", \"mind\", \"screenshot\", \"left\", \"moto\", \"bottom\", \"difference\", \"blowing\", \"video\", \"brightness\", \"android\", \"atmos\", \"note\", \"dolby\", \"photo\", \"light\", \"version\", \"device\", \"lenovo\", \"sound\", \"power\", \"option\", \"feature\", \"phone\", \"quality\", \"call\", \"bluetooth\", \"camera\", \"screen\", \"front\", \"superb\", \"rear\", \"clarity\", \"cool\", \"selfie\", \"depth\", \"deca\", \"fingerprint\", \"offer\", \"bokeh\", \"color\", \"processing\", \"segment\", \"mediatek\", \"pic\", \"drainage\", \"primary\", \"paisa\", \"atom\", \"jata\", \"handy\", \"background\", \"snapdragon\", \"gold\", \"flashlight\", \"split\", \"dull\", \"helio\", \"dark\", \"result\", \"build\", \"camera\", \"processor\", \"core\", \"quality\", \"picture\", \"awesome\", \"flash\", \"performance\", \"range\", \"mobile\", \"everything\", \"budget\", \"price\", \"sensor\", \"effect\", \"mode\", \"feature\", \"display\", \"sound\", \"speed\", \"phone\", \"excellent\", \"look\", \"fine\", \"work\", \"need\", \"delivery\", \"product\", \"nahi\", \"thank\", \"bill\", \"receive\", \"exchange\", \"seller\", \"complain\", \"process\", \"concern\", \"bahut\", \"choose\", \"visit\", \"wrost\", \"cost\", \"site\", \"meet\", \"contain\", \"comparison\", \"awsm\", \"information\", \"phon\", \"wait\", \"raha\", \"flipkart\", \"kiya\", \"amazone\", \"thik\", \"october\", \"thanks\", \"head\", \"amazon\", \"excellent\", \"price\", \"phone\", \"super\", \"love\", \"cell\", \"piece\", \"purchase\", \"service\", \"package\", \"awesome\", \"earphone\", \"lenovo\", \"range\", \"recommend\", \"feature\", \"refund\", \"time\", \"please\", \"expectation\", \"month\", \"money\", \"waste\", \"value\", \"worth\", \"volta\", \"invoice\", \"nougat\", \"hota\", \"told\", \"purchasing\", \"minor\", \"zero\", \"iron\", \"described\", \"bakwas\", \"opening\", \"reset\", \"photography\", \"battry\", \"tone\", \"adapter\", \"custom\", \"department\", \"turbocharger\", \"beat\", \"brilliant\", \"mobil\", \"reading\", \"selfi\", \"release\", \"trust\", \"policy\", \"item\", \"return\", \"dont\", \"problem\", \"want\", \"class\", \"amount\", \"heating\", \"rating\", \"smart\", \"star\", \"buying\", \"experience\", \"phone\", \"support\", \"network\", \"please\", \"amazon\", \"lenova\", \"review\", \"heat\"], \"Freq\": [3296.0, 2040.0, 3248.0, 2436.0, 1548.0, 6868.0, 1294.0, 632.0, 1337.0, 1316.0, 1974.0, 1504.0, 856.0, 790.0, 848.0, 877.0, 581.0, 715.0, 350.0, 548.0, 315.0, 408.0, 447.0, 501.0, 551.0, 387.0, 617.0, 673.0, 442.0, 348.0, 236.91564528450238, 207.84080585594603, 204.37155871414723, 142.77678666972798, 137.73903015857098, 108.80450459933876, 138.46905528535197, 76.48217979762468, 67.93322537806057, 69.03134338784623, 58.83628741002065, 58.509624825827345, 52.390893876806636, 46.389900178696074, 48.444276858240315, 45.27531839166192, 40.97093287169445, 40.62417385746623, 39.340437380995766, 36.655062539372196, 36.32947541159593, 35.7570776747294, 35.092283626675666, 32.64011818977676, 32.26498305882641, 31.994621281927, 31.547757191132163, 30.951725967570244, 31.233484927042305, 30.54378277728039, 115.3896543578088, 537.6288310349358, 467.198448965473, 62.3038616196152, 284.1573812980346, 129.74718340661587, 184.6070809157299, 153.0957724030675, 78.91716714177836, 469.99767348221775, 265.90510675078565, 478.9424967702735, 137.44593243638104, 301.99780649106907, 130.3249663919114, 1043.7894567882252, 706.3129538521148, 303.4139675010241, 859.8254616336123, 115.8724891464436, 135.29918334468107, 293.8883446388092, 376.4708425094157, 175.30172214951605, 1136.982168679009, 439.40164476665285, 307.7100786452002, 209.8457327838901, 320.34238440882723, 179.7858496298698, 157.9064987368639, 158.89187173787283, 140.65182287295488, 139.4301999793262, 547.2621679231927, 446.874634719255, 335.55842534417815, 3286.265769681993, 579.9360150887786, 54.253256131912444, 50.393239381234174, 48.906442094895404, 41.85458938686536, 41.535520533696, 41.6205657769551, 37.95587007118519, 78.69739253916018, 36.68160009219159, 35.053428695405124, 34.428061221949704, 32.54976896020454, 30.395899887927648, 275.5190499436785, 24.45075971696217, 24.312287466493775, 23.99932455700548, 23.125757132081624, 22.42656255015027, 22.325581408575914, 376.47855434847816, 22.05693269269909, 20.953057985164143, 20.55798883005686, 20.495632136335804, 747.4132396704538, 471.8723681495258, 494.0310426655414, 109.43749451236384, 171.90247652990953, 365.7793837987202, 55.545001301231494, 86.89168677517375, 874.5834908339222, 162.21017199521, 794.1292820409234, 1837.1607605428342, 415.8977481431511, 89.45897997126193, 478.6218946863677, 92.27684224545654, 128.278346758246, 292.0243377520664, 184.91561532709525, 419.17770536656434, 159.63694701826387, 96.7932940437728, 68.92457355582059, 83.27066239730057, 96.46315304524555, 112.27585677532657, 106.49616104145083, 386.87038091335995, 251.44520351983022, 181.53614447201943, 168.9285526768785, 149.11466802570172, 148.86907238663898, 128.9016081024354, 123.45541582208236, 105.62758767705532, 99.37090541867148, 97.72166630469931, 117.83755660354352, 81.48518706641396, 81.43785681279428, 69.61801048021472, 57.04273033800255, 55.92750898068855, 54.777187059620374, 54.035607548101076, 46.329648374246965, 45.92172729442337, 43.55581030313036, 41.56847216158512, 41.02592069882523, 37.79359787257212, 75.67219885891048, 92.82354464234804, 35.325459176486376, 34.720540808213144, 34.63960598426748, 277.4685214061835, 64.22404484222824, 312.93399022402673, 123.80532936185759, 1016.7286519348856, 234.72087247592876, 184.12167239601152, 198.3384206094105, 81.17768482750809, 325.35343433286795, 871.726517227703, 297.84908746540094, 110.86288775563922, 213.11842050232693, 373.6465752098228, 826.3458657102143, 279.72445241909946, 202.9468926723791, 107.22032652640902, 292.1348709265639, 161.3499176616462, 348.0120442808696, 259.64340361388133, 222.69635549039313, 150.8632090391126, 101.48957097135859, 95.05960291225412, 244.94070621563233, 77.48023159652658, 74.76114565477172, 57.7127847018625, 54.43209334530524, 53.61262839819514, 47.174663857869156, 42.89081683837444, 41.66487239955615, 36.957195267883506, 32.886693620044106, 31.12148492190263, 30.350314403436695, 26.084631768855854, 28.095883807427334, 24.799793204322512, 24.0535379941693, 21.889022141448486, 22.015242819338038, 20.409411548325476, 20.264511654955346, 19.872416280169244, 19.600301338581136, 16.950508892395735, 50.94387129619479, 78.68025182519578, 2537.110807450135, 267.2022290313867, 101.80174928031273, 973.1202483868146, 139.93617937242948, 529.3002949649897, 126.51049428372808, 584.9197329121888, 262.64126200378644, 1392.4027791318724, 175.78907968217507, 135.81222045877098, 471.3162900472417, 110.76049034958754, 88.07732960342315, 221.94241103661466, 351.27646865226285, 183.81376033279508, 202.2752356985346, 134.55019636168947, 680.6153093449773, 170.61888541235248, 130.09356556103452, 104.69358578835254, 139.50156272950727, 107.38592545179536, 228.6322000805937, 2018.8461825697896, 61.55520409583239, 59.56090241681327, 53.222834337272026, 50.33574374576165, 43.90315947442067, 36.49777356900876, 36.138809814763654, 33.89571342920269, 33.50634111456931, 32.50812974462863, 28.553454761490574, 28.656756158077766, 27.20773623225927, 84.65461741587323, 25.72986987871454, 23.74392632601196, 23.392383418486176, 22.868269279430844, 22.51132483245255, 22.906368118593914, 20.775614868119977, 20.3672590587697, 29.98752407452886, 19.542719578968164, 18.20437890197924, 18.486267890568694, 17.970600733082243, 18.01073321100443, 110.09091240716685, 36.480506987070875, 486.8716581512981, 269.63544801048135, 384.2870884139881, 1971.0860372964285, 126.67289615507933, 90.76588676327357, 46.5446627473687, 70.73870971762749, 103.1285358595164, 180.55482435860102, 33.436701527125294, 184.43574661600144, 62.51448540005588, 242.35716070786702, 88.63809583226059, 51.3375838495558, 106.97354912977906, 50.95094311735715, 87.18163212933507, 52.77991670106137, 42.31078163100205, 48.17473241556871, 631.8853358368955, 350.0371158630269, 227.57906947694283, 313.66046814151673, 186.4354982884069, 36.95494968121072, 36.58675102628611, 36.12118448780075, 33.724571225198034, 30.968077368804458, 28.48828550211842, 27.89091061363099, 25.529608965764005, 25.2564718593995, 24.542728419713278, 22.601235945079512, 21.335017884642532, 20.797706061624474, 19.81663651629339, 19.53105844880269, 19.069907869413427, 17.239266004362467, 17.216226741405627, 16.58092578967216, 15.92897566851933, 15.385070015669141, 13.839171200388888, 13.831689160602199, 13.10167090439271, 12.767718012258362, 27.516104078095303, 75.12125314559765, 55.695433023817436, 228.11558442006944, 125.7524321619406, 629.8093533207358, 142.7720363173382, 52.3620984887333, 31.239903738219073, 415.0378819811974, 40.36636640213046, 71.04737029911395, 73.09109222682244, 67.97330876608669, 82.18233159518003, 416.36154564771226, 69.42354987832887, 83.43346112628728, 55.02055403868517, 53.91220450867966, 31.846688634089467, 37.8656368675665, 31.789134636288335], \"Total\": [3296.0, 2040.0, 3248.0, 2436.0, 1548.0, 6868.0, 1294.0, 632.0, 1337.0, 1316.0, 1974.0, 1504.0, 856.0, 790.0, 848.0, 877.0, 581.0, 715.0, 350.0, 548.0, 315.0, 408.0, 447.0, 501.0, 551.0, 387.0, 617.0, 673.0, 442.0, 348.0, 237.71544901584627, 208.6351238934919, 205.16599037478895, 143.57226001116604, 138.53459751146832, 109.6509210979773, 139.67528984844125, 77.27578445641045, 68.73240727853411, 69.89539677225937, 59.633177164707696, 59.30400108070346, 53.188709420162944, 47.18396617471281, 49.27412239654175, 46.07058445924999, 41.769794298950046, 41.41855499990721, 40.137067359387544, 37.45539113820497, 37.13582904342718, 36.55860794729885, 35.88970592902803, 33.43585260166098, 33.060973967872634, 32.79030397908965, 32.34257342556914, 31.749489895360828, 32.03911704375347, 31.34297277191046, 118.53034973472082, 617.7505580927456, 551.2823513949257, 66.14031172887802, 337.6397093373704, 146.9638855904327, 217.6334295636668, 179.87703689394525, 87.58855873525759, 673.5713972041999, 374.18862808006674, 761.8247442950156, 180.3247416848985, 483.19751977278526, 174.82571816685663, 2436.839505477416, 1504.6569812049752, 512.8367221766745, 1974.3995630856152, 151.0728729287501, 193.38318878362986, 639.2796094835513, 970.0978299123424, 297.86937113533605, 6868.551687221175, 1548.3351805781551, 848.9765745647171, 482.28080408318783, 1337.698975023708, 408.7145713987668, 317.5368713386705, 372.63881048667554, 252.13833378154175, 289.31075598506294, 548.0634964129575, 447.66894386303846, 336.35422032087115, 3296.515966241049, 581.9344485487738, 55.050954851908045, 51.18789247645436, 49.70346401051667, 42.648457625921225, 42.330591555974586, 42.42260881881148, 38.75004979976832, 80.34620483955715, 37.475394483157764, 35.84650575574151, 35.25129086964272, 33.352964927746314, 31.19800601052919, 283.9052791793199, 25.25205389996238, 25.12130449929597, 24.807127942375008, 23.936114339193885, 23.223087382220136, 23.121395868815497, 390.13031930657183, 22.85706878922301, 21.751840643573917, 21.35469398878304, 21.29267711942506, 790.4755374005263, 501.8701229469641, 572.7671001444529, 120.48183079423863, 194.70721687827702, 473.53709104661914, 61.77722978257964, 100.76459559693022, 1294.8852843442462, 212.87805977297865, 1504.6569812049752, 6868.551687221175, 970.0978299123424, 136.57858714752388, 1548.3351805781551, 143.0028796634262, 237.86423661482135, 877.5877178534619, 482.28080408318783, 3248.8983603561524, 512.8367221766745, 201.8605533551307, 97.81325919703815, 164.57314864165338, 301.4262480776497, 761.8247442950156, 639.2796094835513, 387.65960178847325, 252.35936637348286, 182.32729541097524, 169.716964911557, 149.90372044480964, 149.65760401518577, 129.68942357877623, 124.24444201720584, 106.41673258680412, 100.16015240592259, 98.50871137765068, 118.87214488055396, 82.27250794773084, 82.22474283097596, 70.40763385584572, 57.83361078869611, 56.71341755656656, 55.568050537700145, 54.82748668824618, 47.11826094394893, 46.708985326203425, 44.34475140985643, 42.355272220829846, 41.81927751844259, 38.583155400237196, 77.27509566714986, 94.8580437406498, 36.11351660467767, 35.51033506933601, 35.43405447210774, 285.2664809706305, 65.73377815776992, 335.74182300193485, 132.27549321244894, 1337.698975023708, 273.6992217747057, 214.13867151012278, 246.29414668523606, 89.84372067464552, 463.1312682572022, 1974.3995630856152, 500.76075766682885, 146.39525809437148, 372.63881048667554, 881.0750929387166, 6868.551687221175, 1316.464137264286, 673.5713972041999, 171.75747013563304, 3248.8983603561524, 761.8247442950156, 348.8156186539839, 260.4464500243821, 223.49930315195866, 151.66760722855858, 102.29376147223357, 95.86242291940825, 247.12131663460505, 78.29620230993639, 75.5660703500388, 58.521090463917545, 55.2355937920576, 54.41738657573378, 47.97969543356449, 43.70115655144693, 42.565007384381765, 37.761809301293255, 33.69851386728549, 31.925726925674308, 31.159846290302916, 26.8926011585101, 28.97442870464156, 25.608038228726663, 24.8575088894591, 22.691927658641053, 22.82677566205145, 21.214440537424906, 21.06829722003067, 20.679463435666975, 20.405862769943134, 17.755699298484434, 55.08677616562944, 86.76320695407948, 3248.8983603561524, 316.29254555710395, 116.64153269442012, 1316.464137264286, 168.55722225475856, 715.766697690708, 154.5341580090853, 877.5877178534619, 361.15344152841215, 2436.839505477416, 235.08668956334378, 177.10436676553067, 856.3154818934835, 147.29257265835014, 112.74442838697203, 395.5846258470461, 881.0750929387166, 395.69834521416647, 500.76075766682885, 271.00612491100753, 6868.551687221175, 442.3750990638618, 301.4262480776497, 210.50214419281573, 639.2796094835513, 317.5368713386705, 229.43825815573166, 2040.749163235639, 62.35956445705698, 60.367972561472506, 54.027881972578385, 51.14617839459569, 44.71097253853398, 37.30525582092013, 36.95281090391681, 34.70297658040518, 34.32863340721999, 33.313529370311045, 29.36204676498852, 29.470617622618423, 28.014462300455488, 87.2980467062736, 26.540952176095594, 24.551337284067504, 24.209782975391434, 23.685451418654726, 23.315845980621965, 23.72540055652953, 21.58237232910288, 21.182089377185736, 31.213095201236648, 20.349022001226675, 19.009193975697396, 19.307222596167804, 18.774982788656455, 18.818300091188167, 126.71179885726863, 40.87211304346743, 848.9765745647171, 442.3750990638618, 856.3154818934835, 6868.551687221175, 224.18308417973557, 152.40930544894258, 63.97622210013429, 117.82789599721495, 203.64574893738674, 483.19751977278526, 41.029073059949354, 715.766697690708, 125.628734696671, 1974.3995630856152, 361.15344152841215, 117.98614024890982, 881.0750929387166, 130.10126712742667, 970.0978299123424, 374.18862808006674, 130.73918830323709, 512.8367221766745, 632.6770099960223, 350.82889208385, 228.37052515517908, 315.89699940420604, 189.8716320375403, 37.74598682878432, 37.38613209113068, 36.92067887055632, 34.521739464217745, 31.76462983557389, 29.28644464057208, 28.690595966529557, 26.323754209115634, 26.049625416526, 25.33508808216297, 23.40391564827196, 22.128151937910825, 21.62851381652078, 20.61565608770339, 20.325034984511696, 19.86678293253337, 18.03450600721047, 18.01702554525406, 17.37500636242432, 16.726487086820114, 16.19680917653251, 14.630149004365531, 14.634864486071338, 13.903877112010814, 13.57240140777292, 29.407047601237387, 100.85807341234307, 74.64858720773857, 408.7145713987668, 202.71542025952095, 1548.3351805781551, 263.1030141310421, 74.36787397665753, 38.88846849586785, 1294.8852843442462, 55.13350670909023, 154.4597071031328, 176.84382864332485, 161.81313886073906, 274.0950239472046, 6868.551687221175, 297.86937113533605, 551.2823513949257, 374.18862808006674, 848.9765745647171, 58.3201262502632, 197.09018896768202, 572.7671001444529], \"Category\": [\"Default\", \"Default\", \"Default\", \"Default\", \"Default\", \"Default\", \"Default\", \"Default\", \"Default\", \"Default\", \"Default\", \"Default\", \"Default\", \"Default\", \"Default\", \"Default\", \"Default\", \"Default\", \"Default\", \"Default\", \"Default\", \"Default\", \"Default\", \"Default\", \"Default\", \"Default\", \"Default\", \"Default\", \"Default\", \"Default\", \"Topic1\", \"Topic1\", \"Topic1\", \"Topic1\", \"Topic1\", \"Topic1\", \"Topic1\", \"Topic1\", \"Topic1\", \"Topic1\", \"Topic1\", \"Topic1\", \"Topic1\", \"Topic1\", \"Topic1\", \"Topic1\", \"Topic1\", \"Topic1\", \"Topic1\", \"Topic1\", \"Topic1\", \"Topic1\", \"Topic1\", \"Topic1\", \"Topic1\", \"Topic1\", \"Topic1\", \"Topic1\", \"Topic1\", \"Topic1\", \"Topic1\", \"Topic1\", \"Topic1\", \"Topic1\", \"Topic1\", \"Topic1\", \"Topic1\", \"Topic1\", \"Topic1\", \"Topic1\", \"Topic1\", \"Topic1\", \"Topic1\", \"Topic1\", \"Topic1\", \"Topic1\", \"Topic1\", \"Topic1\", \"Topic1\", \"Topic1\", \"Topic1\", \"Topic1\", \"Topic1\", \"Topic1\", \"Topic1\", \"Topic1\", \"Topic1\", \"Topic1\", \"Topic1\", \"Topic1\", \"Topic1\", \"Topic1\", \"Topic1\", \"Topic1\", \"Topic2\", \"Topic2\", \"Topic2\", \"Topic2\", \"Topic2\", \"Topic2\", \"Topic2\", \"Topic2\", \"Topic2\", \"Topic2\", \"Topic2\", \"Topic2\", \"Topic2\", \"Topic2\", \"Topic2\", \"Topic2\", \"Topic2\", \"Topic2\", \"Topic2\", \"Topic2\", \"Topic2\", \"Topic2\", \"Topic2\", \"Topic2\", \"Topic2\", \"Topic2\", \"Topic2\", \"Topic2\", \"Topic2\", \"Topic2\", \"Topic2\", \"Topic2\", \"Topic2\", \"Topic2\", \"Topic2\", \"Topic2\", \"Topic2\", \"Topic2\", \"Topic2\", \"Topic2\", \"Topic2\", \"Topic2\", \"Topic2\", \"Topic2\", \"Topic2\", \"Topic2\", \"Topic2\", \"Topic2\", \"Topic2\", \"Topic2\", \"Topic2\", \"Topic2\", \"Topic2\", \"Topic2\", \"Topic2\", \"Topic2\", \"Topic2\", \"Topic3\", \"Topic3\", \"Topic3\", \"Topic3\", \"Topic3\", \"Topic3\", \"Topic3\", \"Topic3\", \"Topic3\", \"Topic3\", \"Topic3\", \"Topic3\", \"Topic3\", \"Topic3\", \"Topic3\", \"Topic3\", \"Topic3\", \"Topic3\", \"Topic3\", \"Topic3\", \"Topic3\", \"Topic3\", \"Topic3\", \"Topic3\", \"Topic3\", \"Topic3\", \"Topic3\", \"Topic3\", \"Topic3\", \"Topic3\", \"Topic3\", \"Topic3\", \"Topic3\", \"Topic3\", \"Topic3\", \"Topic3\", \"Topic3\", \"Topic3\", \"Topic3\", \"Topic3\", \"Topic3\", \"Topic3\", \"Topic3\", \"Topic3\", \"Topic3\", \"Topic3\", \"Topic3\", \"Topic3\", \"Topic3\", \"Topic3\", \"Topic3\", \"Topic4\", \"Topic4\", \"Topic4\", \"Topic4\", \"Topic4\", \"Topic4\", \"Topic4\", \"Topic4\", \"Topic4\", \"Topic4\", \"Topic4\", \"Topic4\", \"Topic4\", \"Topic4\", \"Topic4\", \"Topic4\", \"Topic4\", \"Topic4\", \"Topic4\", \"Topic4\", \"Topic4\", \"Topic4\", \"Topic4\", \"Topic4\", \"Topic4\", \"Topic4\", \"Topic4\", \"Topic4\", \"Topic4\", \"Topic4\", \"Topic4\", \"Topic4\", \"Topic4\", \"Topic4\", \"Topic4\", \"Topic4\", \"Topic4\", \"Topic4\", \"Topic4\", \"Topic4\", \"Topic4\", \"Topic4\", \"Topic4\", \"Topic4\", \"Topic4\", \"Topic4\", \"Topic4\", \"Topic4\", \"Topic4\", \"Topic4\", \"Topic4\", \"Topic4\", \"Topic4\", \"Topic4\", \"Topic4\", \"Topic4\", \"Topic4\", \"Topic4\", \"Topic5\", \"Topic5\", \"Topic5\", \"Topic5\", \"Topic5\", \"Topic5\", \"Topic5\", \"Topic5\", \"Topic5\", \"Topic5\", \"Topic5\", \"Topic5\", \"Topic5\", \"Topic5\", \"Topic5\", \"Topic5\", \"Topic5\", \"Topic5\", \"Topic5\", \"Topic5\", \"Topic5\", \"Topic5\", \"Topic5\", \"Topic5\", \"Topic5\", \"Topic5\", \"Topic5\", \"Topic5\", \"Topic5\", \"Topic5\", \"Topic5\", \"Topic5\", \"Topic5\", \"Topic5\", \"Topic5\", \"Topic5\", \"Topic5\", \"Topic5\", \"Topic5\", \"Topic5\", \"Topic5\", \"Topic5\", \"Topic5\", \"Topic5\", \"Topic5\", \"Topic5\", \"Topic5\", \"Topic5\", \"Topic5\", \"Topic5\", \"Topic5\", \"Topic5\", \"Topic5\", \"Topic5\", \"Topic6\", \"Topic6\", \"Topic6\", \"Topic6\", \"Topic6\", \"Topic6\", \"Topic6\", \"Topic6\", \"Topic6\", \"Topic6\", \"Topic6\", \"Topic6\", \"Topic6\", \"Topic6\", \"Topic6\", \"Topic6\", \"Topic6\", \"Topic6\", \"Topic6\", \"Topic6\", \"Topic6\", \"Topic6\", \"Topic6\", \"Topic6\", \"Topic6\", \"Topic6\", \"Topic6\", \"Topic6\", \"Topic6\", \"Topic6\", \"Topic6\", \"Topic6\", \"Topic6\", \"Topic6\", \"Topic6\", \"Topic6\", \"Topic6\", \"Topic6\", \"Topic6\", \"Topic6\", \"Topic6\", \"Topic6\", \"Topic6\", \"Topic6\", \"Topic6\", \"Topic6\", \"Topic6\", \"Topic6\", \"Topic6\", \"Topic6\", \"Topic6\", \"Topic6\", \"Topic6\"], \"logprob\": [30.0, 29.0, 28.0, 27.0, 26.0, 25.0, 24.0, 23.0, 22.0, 21.0, 20.0, 19.0, 18.0, 17.0, 16.0, 15.0, 14.0, 13.0, 12.0, 11.0, 10.0, 9.0, 8.0, 7.0, 6.0, 5.0, 4.0, 3.0, 2.0, 1.0, -4.5673, -4.6982, -4.715, -5.0737, -5.1096, -5.3454, -5.1043, -5.6979, -5.8164, -5.8004, -5.9602, -5.9658, -6.0762, -6.1979, -6.1545, -6.2222, -6.3221, -6.3306, -6.3627, -6.4334, -6.4423, -6.4582, -6.477, -6.5494, -6.561, -6.5694, -6.5835, -6.6025, -6.5935, -6.6158, -5.2866, -3.7478, -3.8882, -5.9029, -4.3854, -5.1694, -4.8167, -5.0039, -5.6666, -3.8822, -4.4518, -3.8634, -5.1117, -4.3245, -5.1649, -3.0843, -3.4749, -4.3199, -3.2782, -5.2825, -5.1275, -4.3518, -4.1041, -4.8685, -2.9988, -3.9495, -4.3058, -4.6886, -4.2656, -4.8432, -4.973, -4.9667, -5.0887, -5.0974, -3.6939, -3.8966, -4.183, -1.9013, -3.6359, -6.0052, -6.079, -6.1089, -6.2646, -6.2723, -6.2702, -6.3624, -5.6332, -6.3966, -6.442, -6.46, -6.5161, -6.5845, -4.3802, -6.8022, -6.8078, -6.8208, -6.8579, -6.8886, -6.8931, -4.068, -6.9052, -6.9565, -6.9756, -6.9786, -3.3822, -3.8421, -3.7962, -5.3035, -4.8519, -4.0968, -5.9816, -5.5342, -3.2251, -4.9099, -3.3216, -2.4829, -3.9684, -5.505, -3.8279, -5.474, -5.1446, -4.322, -4.7789, -3.9605, -4.9259, -5.4263, -5.7658, -5.5767, -5.4297, -5.2779, -5.3307, -3.914, -4.3449, -4.6707, -4.7426, -4.8674, -4.869, -5.0131, -5.0562, -5.2122, -5.2733, -5.29, -5.1028, -5.4717, -5.4723, -5.6291, -5.8283, -5.8481, -5.8688, -5.8825, -6.0363, -6.0452, -6.0981, -6.1448, -6.1579, -6.24, -5.5457, -5.3414, -6.3075, -6.3248, -6.3271, -4.2464, -5.7097, -4.1261, -5.0534, -2.9478, -4.4137, -4.6565, -4.5821, -5.4755, -4.0872, -3.1016, -4.1755, -5.1638, -4.5103, -3.9488, -3.1551, -4.2383, -4.5592, -5.1972, -4.1949, -4.7885, -3.9365, -4.2294, -4.3829, -4.7724, -5.1688, -5.2343, -4.2877, -5.4387, -5.4745, -5.7333, -5.7918, -5.807, -5.9349, -6.0301, -6.0591, -6.179, -6.2957, -6.3509, -6.3759, -6.5274, -6.4531, -6.5779, -6.6085, -6.7028, -6.697, -6.7728, -6.7799, -6.7994, -6.8132, -6.9585, -5.858, -5.4234, -1.95, -4.2007, -5.1657, -2.9082, -4.8476, -3.5172, -4.9484, -3.4173, -4.218, -2.55, -4.6195, -4.8775, -3.6332, -5.0814, -5.3105, -4.3863, -3.9272, -4.5748, -4.4791, -4.8868, -3.2658, -4.6493, -4.9205, -5.1377, -4.8507, -5.1123, -3.9861, -1.8079, -5.2983, -5.3312, -5.4437, -5.4995, -5.6362, -5.821, -5.8309, -5.8949, -5.9065, -5.9367, -6.0664, -6.0628, -6.1147, -4.9796, -6.1706, -6.2509, -6.2658, -6.2885, -6.3042, -6.2868, -6.3844, -6.4043, -6.0174, -6.4456, -6.5166, -6.5012, -6.5295, -6.5273, -4.7169, -5.8214, -3.2302, -3.8211, -3.4668, -1.8319, -4.5766, -4.9099, -5.5778, -5.1592, -4.7822, -4.2222, -5.9086, -4.2009, -5.2828, -3.9278, -4.9337, -5.4798, -4.7456, -5.4874, -4.9502, -5.4521, -5.6732, -5.5434, -2.6133, -3.2039, -3.6345, -3.3137, -3.8339, -5.4523, -5.4623, -5.4751, -5.5437, -5.629, -5.7125, -5.7337, -5.8221, -5.8329, -5.8616, -5.944, -6.0016, -6.0271, -6.0754, -6.09, -6.1139, -6.2148, -6.2161, -6.2537, -6.2938, -6.3286, -6.4345, -6.435, -6.4892, -6.515, -5.7472, -4.7429, -5.0421, -3.6321, -4.2277, -2.6165, -4.1007, -5.1038, -5.6203, -3.0336, -5.364, -4.7986, -4.7703, -4.8429, -4.653, -3.0304, -4.8217, -4.6379, -5.0543, -5.0746, -5.601, -5.4279, -5.6028], \"loglift\": [30.0, 29.0, 28.0, 27.0, 26.0, 25.0, 24.0, 23.0, 22.0, 21.0, 20.0, 19.0, 18.0, 17.0, 16.0, 15.0, 14.0, 13.0, 12.0, 11.0, 10.0, 9.0, 8.0, 7.0, 6.0, 5.0, 4.0, 3.0, 2.0, 1.0, 1.5037, 1.5033, 1.5032, 1.5016, 1.5013, 1.4994, 1.4984, 1.4968, 1.4954, 1.4947, 1.4937, 1.4936, 1.492, 1.4901, 1.4901, 1.4897, 1.4878, 1.4877, 1.4871, 1.4855, 1.4852, 1.4849, 1.4846, 1.483, 1.4827, 1.4825, 1.4822, 1.4817, 1.4816, 1.4813, 1.4803, 1.3682, 1.3416, 1.4474, 1.3347, 1.3825, 1.3425, 1.3459, 1.4029, 1.1472, 1.1655, 1.043, 1.2356, 1.0371, 1.2133, 0.6593, 0.7508, 0.9822, 0.6758, 1.2418, 1.1499, 0.73, 0.5606, 0.977, -0.2915, 0.2476, 0.4922, 0.675, 0.0778, 0.6859, 0.8085, 0.6547, 0.9234, 0.7772, 1.5418, 1.5415, 1.5409, 1.5401, 1.5398, 1.5286, 1.5276, 1.5271, 1.5244, 1.5243, 1.5242, 1.5225, 1.5225, 1.5218, 1.5209, 1.5196, 1.5189, 1.5172, 1.5133, 1.511, 1.5105, 1.5101, 1.5088, 1.5083, 1.5082, 1.5076, 1.5076, 1.5058, 1.5052, 1.5051, 1.4872, 1.4816, 1.3954, 1.4471, 1.4187, 1.285, 1.4369, 1.3951, 1.1508, 1.2714, 0.9042, 0.2245, 0.6963, 1.1201, 0.3692, 1.1052, 0.9257, 0.4429, 0.5846, -0.5045, 0.3762, 0.8082, 1.1932, 0.862, 0.4039, -0.3715, -0.249, 1.6679, 1.6663, 1.6656, 1.6653, 1.6647, 1.6647, 1.6639, 1.6636, 1.6625, 1.662, 1.6619, 1.6612, 1.6603, 1.6603, 1.6587, 1.6562, 1.656, 1.6556, 1.6554, 1.6531, 1.653, 1.652, 1.6512, 1.6508, 1.6493, 1.649, 1.6483, 1.6479, 1.6475, 1.6473, 1.6422, 1.6467, 1.5996, 1.6038, 1.3956, 1.5163, 1.5189, 1.4534, 1.5685, 1.3169, 0.8524, 1.1504, 1.3919, 1.1112, 0.8121, -0.4477, 0.121, 0.4703, 1.1988, -0.7389, 0.1178, 1.751, 1.7502, 1.7497, 1.748, 1.7454, 1.7449, 1.7444, 1.7428, 1.7426, 1.7394, 1.7387, 1.7384, 1.7364, 1.7346, 1.7319, 1.7318, 1.7289, 1.7278, 1.727, 1.7228, 1.7225, 1.7212, 1.7204, 1.7173, 1.7171, 1.7146, 1.7144, 1.7135, 1.713, 1.7069, 1.6751, 1.6555, 1.506, 1.5846, 1.6172, 1.4511, 1.5672, 1.4515, 1.5532, 1.3476, 1.4348, 1.1936, 1.4626, 1.4878, 1.1562, 1.4683, 1.5064, 1.1754, 0.8337, 0.9866, 0.8468, 1.0531, -0.5584, 0.8006, 0.913, 1.0549, 0.231, 0.6691, 2.1203, 2.1131, 2.1109, 2.1104, 2.1088, 2.1079, 2.1056, 2.102, 2.1016, 2.1003, 2.0996, 2.0994, 2.0959, 2.0958, 2.0946, 2.0931, 2.0928, 2.0904, 2.0895, 2.0887, 2.0887, 2.0887, 2.0857, 2.0846, 2.0838, 2.0834, 2.0806, 2.0804, 2.0801, 2.08, 1.9832, 2.0102, 1.5678, 1.6288, 1.3226, 0.8755, 1.553, 1.6056, 1.8057, 1.6136, 1.4434, 1.1395, 1.9192, 0.7678, 1.4259, 0.0262, 0.7191, 1.2917, 0.0153, 1.1864, -0.2856, 0.1652, 0.9957, -0.2413, 2.4788, 2.4778, 2.4766, 2.473, 2.4618, 2.4589, 2.4585, 2.4582, 2.4567, 2.4547, 2.4525, 2.4518, 2.4495, 2.4492, 2.4483, 2.4452, 2.4436, 2.4409, 2.4406, 2.4403, 2.4392, 2.435, 2.4346, 2.4333, 2.4312, 2.4287, 2.4245, 2.4237, 2.4207, 2.419, 2.4136, 2.1855, 2.1872, 1.8969, 2.0026, 1.5806, 1.8688, 2.1293, 2.2611, 1.3423, 2.1683, 1.7035, 1.5965, 1.6128, 1.2756, -0.3231, 1.0237, 0.5919, 0.563, -0.2766, 1.8751, 0.8305, -0.4113]}, \"token.table\": {\"Topic\": [6, 1, 5, 6, 5, 5, 6, 1, 3, 1, 2, 3, 2, 2, 3, 4, 4, 3, 2, 4, 5, 5, 4, 2, 4, 5, 6, 2, 3, 4, 6, 6, 2, 1, 5, 3, 1, 3, 6, 4, 3, 1, 2, 3, 5, 6, 3, 4, 6, 2, 1, 2, 4, 5, 1, 6, 2, 4, 3, 1, 2, 6, 1, 1, 3, 2, 3, 4, 2, 1, 1, 1, 2, 5, 1, 5, 1, 5, 2, 1, 2, 1, 5, 4, 3, 4, 6, 4, 2, 3, 5, 5, 5, 1, 2, 5, 1, 3, 5, 4, 2, 4, 4, 5, 6, 6, 1, 5, 6, 1, 4, 1, 2, 3, 1, 2, 3, 5, 6, 4, 5, 6, 3, 4, 6, 1, 3, 3, 2, 1, 2, 3, 4, 3, 4, 1, 2, 6, 2, 4, 4, 3, 5, 3, 4, 2, 4, 2, 4, 5, 5, 2, 3, 4, 5, 1, 2, 3, 5, 6, 3, 2, 4, 2, 3, 1, 3, 4, 5, 1, 2, 3, 4, 6, 1, 1, 2, 4, 4, 3, 4, 4, 5, 1, 4, 3, 2, 3, 4, 1, 2, 4, 3, 1, 2, 2, 3, 1, 4, 1, 2, 4, 6, 3, 5, 3, 3, 1, 2, 6, 1, 2, 6, 4, 1, 2, 6, 1, 1, 2, 2, 5, 1, 1, 2, 3, 6, 6, 6, 1, 2, 3, 1, 6, 3, 4, 3, 5, 3, 3, 6, 1, 3, 6, 1, 3, 5, 2, 2, 3, 1, 1, 2, 3, 4, 3, 3, 4, 5, 2, 3, 4, 2, 4, 5, 3, 6, 6, 1, 4, 2, 3, 4, 1, 3, 6, 1, 2, 3, 5, 2, 3, 1, 3, 5, 1, 2, 3, 4, 6, 1, 6, 1, 3, 3, 6, 1, 5, 4, 2, 6, 1, 3, 1, 3, 5, 4, 1, 2, 2, 4, 5, 1, 2, 3, 4, 5, 6, 2, 3, 6, 4, 3, 4, 3, 5, 6, 3, 1, 5, 6, 1, 6, 2, 3, 4, 5, 4, 1, 2, 6, 5, 2, 4, 2, 4, 5, 6, 2, 1, 5, 6, 2, 3, 4, 5, 6, 3, 4, 5, 3, 3, 6, 1, 6, 4, 5, 1, 2, 3, 5, 3, 1, 5, 6, 2, 1, 5, 6, 1, 6, 4, 5, 1, 6, 1, 2, 3, 5, 6, 3, 3, 2, 1, 2, 3, 4, 3, 4, 6, 4, 5, 1, 3, 4, 1, 5, 1, 3, 1, 2, 5, 1, 6, 2, 3, 4, 1, 3, 1, 3, 4, 3, 1, 2, 3, 4, 6, 4, 2, 2, 1, 2, 3, 4, 5, 6, 3, 1, 2, 3, 4, 5, 4, 1, 3, 6, 1, 1, 3, 2, 1, 5, 3, 5, 5, 1, 2, 3, 5, 6, 6, 2, 6, 1, 2, 3, 6, 1, 2, 3, 4, 1, 2, 6, 1, 3, 1, 3, 5, 3, 6, 3, 5, 1, 4, 5, 6, 2, 4, 6, 1, 3, 1, 2, 3, 4, 4, 6, 5, 6, 2], \"Freq\": [0.9563702419522616, 0.36278975089261584, 0.5736318463789087, 0.0636059952863677, 0.9322935968828956, 0.1800019458401607, 0.7971514744349973, 0.06552654001605637, 0.9322639556829838, 0.5592168310359563, 0.154676995818456, 0.28555753074176493, 0.9608911318717651, 0.947333127499811, 0.9374374420274693, 0.060479834969514146, 0.966808671528316, 0.9851049357065965, 0.0027942065570424534, 0.7390676343377289, 0.2570670032479057, 0.9864535912235624, 0.9655030239243833, 0.9966758308369646, 0.0017184066048913183, 0.9905885273569824, 0.9867737549963804, 0.996809975638298, 0.000303350570796804, 0.002426804566374432, 0.9701364785537624, 0.9565666668052157, 0.951499646683185, 0.9878417732570287, 0.9809749719024692, 0.9877503582761208, 0.31439680589937313, 0.6229714487265356, 0.058221630722106135, 0.977630478696234, 0.9691662095146547, 0.48045223734155446, 0.24541085504496665, 0.14517261847730423, 0.0760428001547784, 0.051847363741894366, 0.9736242430245129, 0.015212878797258014, 0.9261083363094403, 0.989417284834768, 0.9871894743629992, 0.045171105298556745, 0.7679087900754648, 0.18633080935654658, 0.9374010853494317, 0.045358117033037014, 0.08067935990084873, 0.9105242045952928, 0.9946840416145619, 0.37079807253252584, 0.20393893989288922, 0.4202378155368626, 0.9948738520982798, 0.6977730971814333, 0.30137859303793824, 0.1289667922864993, 0.08987661896815702, 0.7808800764459396, 0.9847952854096393, 0.9940636969442721, 0.9763936397771751, 0.9969558151013147, 0.265723724251675, 0.7346479435193368, 0.9880058251516136, 0.00715946250109865, 0.9019442851980577, 0.09133613014663876, 0.9980595379551492, 0.2259590685145844, 0.7729067203396064, 0.9758982417609295, 0.9876695665024202, 0.9955982213950767, 0.053786666017311635, 0.24203999707790236, 0.6992266582250513, 0.992329904061951, 0.961599917311226, 0.9960839561911545, 0.9710602341268927, 0.9742154688477076, 0.9904268427081961, 0.22491838203328343, 0.7054258345589344, 0.061341376918168204, 0.7678413586184241, 0.2316762719969383, 0.9500291689264152, 0.9873524890119058, 0.12002585765635888, 0.8744741057820433, 0.022910020045800998, 0.9736758519465425, 0.011455010022900499, 0.9426374081554072, 0.8500532311185209, 0.08730276427703729, 0.05973347029481499, 0.9894079725487053, 0.9574390574102064, 0.8505810560477943, 0.08894965292003078, 0.055593533075019234, 0.4354309734537505, 0.3835939528044945, 0.09952707964657154, 0.06013094395313697, 0.020734808259702406, 0.9834448891300582, 0.9980898645271523, 0.9435519729547167, 0.008093190936487325, 0.9914158897196973, 0.9597066982828816, 0.29581246050507737, 0.7017448880594901, 0.9856285481863365, 0.9873144902218063, 0.1945926762931616, 0.17942961060798016, 0.16173936730860183, 0.4650006810122303, 0.858606752610496, 0.1388385387199951, 0.37490981151164054, 0.004933023835679481, 0.6215610032956146, 0.9985057175124412, 0.9792716714441343, 0.9671430819382351, 0.4935176665569244, 0.5014776289207458, 0.21287082956884523, 0.7805263750857658, 0.25097124856191627, 0.7486599957101231, 0.004521050131963412, 0.38654978628287173, 0.6103417678150607, 0.9840984774392633, 0.19886921693054632, 0.19886921693054632, 0.2753573772884487, 0.3212502735031902, 0.0912092442977565, 0.2517375142618079, 0.28092447243709, 0.07661576521011546, 0.2991663212966413, 0.9897773894854427, 0.9450007807407991, 0.053132574017554966, 0.9832449480066249, 0.012446138582362341, 0.0556138749043133, 0.42448141253496274, 0.3983769406411014, 0.12144254315839843, 0.03645795228153886, 0.5043350065612875, 0.31596891977333674, 0.07899222994333419, 0.06076325380256476, 0.9694141999065398, 0.16151854476530503, 0.33728872583343106, 0.4988072705987361, 0.9925089349304967, 0.174718653454032, 0.8218247773578543, 0.9427540624848211, 0.9828482174128252, 0.9869645136059928, 0.9976617484700622, 0.9926631686386216, 0.7609990441136256, 0.11743812409160889, 0.11743812409160889, 0.11299016211481004, 0.883377631079424, 0.9637804447596193, 0.9884170263517492, 0.08300006676590271, 0.9047007277483395, 0.8633984931375087, 0.1290135679400875, 0.9969903133397165, 0.9762559621593904, 0.29428551763900723, 0.5381220893970418, 0.0378367094107295, 0.13032644352584608, 0.0978662394025483, 0.8807961546229346, 0.9939713274485248, 0.9845330113366753, 0.0803118754348822, 0.8624797057572132, 0.055869130737309355, 0.0038613459126088474, 0.6757355347065482, 0.3204917107465343, 0.980110482241361, 0.9961410541404716, 0.9809094164717904, 0.9750633276873316, 0.9898945050133172, 0.05778387410215415, 0.9404823646971296, 0.9674638698905451, 0.9694251502813979, 0.976762082100414, 0.22377171757181183, 0.643343688018959, 0.12587159113414415, 0.00699286617411912, 0.9802366584779433, 0.9877010624493857, 0.4692099321099841, 0.5276950227979141, 0.0026584132130877285, 0.24112981468635217, 0.7501816456908734, 0.9848212218430339, 0.9663693557317504, 0.9956059431826862, 0.946910217393351, 0.9922256546965376, 0.9834992676988441, 0.012940779838142685, 0.9741421595236535, 0.44581522146280783, 0.5486956571849942, 0.4355754610561105, 0.44165325818712603, 0.1225689088088125, 0.9989468830789956, 0.19082873317353338, 0.8039167908161619, 0.9890574268622716, 0.9847202073967336, 0.31848586714740806, 0.2454995225927937, 0.4312829450954484, 0.9762669308767742, 0.17715453738515366, 0.22308349152204535, 0.5970764037795919, 0.4805297438640681, 0.10898612747432472, 0.4062210205861194, 0.9654355391852307, 0.9867260123020892, 0.9775434927357178, 0.980409094392382, 0.9560737175044492, 0.9569280528737267, 0.42842378320498525, 0.5712317109399804, 0.20728813670252577, 0.23003927365768104, 0.5611947115604966, 0.8845710596022983, 0.11567467702491593, 0.9989299279326957, 0.5908313248590166, 0.3119901385394147, 0.001949938365871342, 0.09359704156182441, 0.010542068553870746, 0.9804123755099793, 0.9776510948823225, 0.9946133706348309, 0.9942340126941619, 0.49758001120910567, 0.009447721731818461, 0.09447721731818462, 0.3369687417681918, 0.059835570968183587, 0.8471158179077134, 0.150558057572463, 0.23921674904051463, 0.7602607305443855, 0.9899839220410881, 0.9896717828367624, 0.9834905013855914, 0.9565157273917986, 0.991095680894073, 0.9921902448365874, 0.9827415354617474, 0.4266866346861242, 0.5715990766549965, 0.9960141324576103, 0.17061072741692207, 0.8043077149654898, 0.9627775349243662, 0.9815705508760574, 0.9763852643962118, 0.332730271925658, 0.6666000310839382, 0.9730162968082254, 0.16553708143674153, 0.2674508518903203, 0.12025824913522296, 0.09914753954126736, 0.28696005937714825, 0.060565897869555387, 0.13542626278331568, 0.8592562880044856, 0.9709404991090652, 0.9798259321947488, 0.16611569427550607, 0.8305784713775304, 0.2630955915629074, 0.6025737742247235, 0.1357912730647264, 0.9874206565694089, 0.710871416282279, 0.1416397934697774, 0.14698469133656145, 0.2478730671147292, 0.7436192013441876, 0.2390787820288399, 0.7582212801486066, 0.5500309289731928, 0.4484328592902464, 0.971003732261775, 0.283530339881624, 0.30936453941525716, 0.40688864265472235, 0.9797430465719155, 0.9625031189639192, 0.9795810410067936, 0.15175823987712037, 0.844155209316482, 0.9893425592780078, 0.010290338655194733, 0.9504177400807684, 0.4910487968533346, 0.5057802607589347, 0.9759282623618815, 0.04785546238344089, 0.21269094392640395, 0.7391010301442538, 0.9611350558662768, 0.032037835195542555, 0.02492015571528747, 0.7282223281245117, 0.24643265096228723, 0.9855860497498273, 0.253929068467755, 0.7255116241935856, 0.9675672384374879, 0.9566197222614827, 0.9977659744575617, 0.9775901459195474, 0.9716703926271884, 0.33902287095428224, 0.22036486612028347, 0.43225416046670984, 0.9957755259650641, 0.6072192972772822, 0.39200233115368854, 0.9578260773038214, 0.9833903501979775, 0.698095841986798, 0.20167213212951943, 0.09307944559823973, 0.9679085689095654, 0.9490173449153686, 0.9258120287645492, 0.054459531103797004, 0.44040514480307347, 0.5578465167505597, 0.1319193011898901, 0.25876478310324597, 0.3551673493573964, 0.05581201204187658, 0.19280513250830092, 0.9916120897776894, 0.9942103741665241, 0.9767934873075548, 0.6287535336532832, 0.1470154400191393, 0.21133469502751273, 0.011813740715823693, 0.9848857514584302, 0.9839556522807011, 0.9349910025290713, 0.991003535137712, 0.965011476474364, 0.040735251558930895, 0.21046546638780964, 0.7536021538402216, 0.6250032080918171, 0.3745880154457579, 0.7597404478160593, 0.23291312998740504, 0.9943168437777676, 0.9553643999925484, 0.9796182076473199, 0.5373569687308863, 0.45966680457702325, 0.6516394836027086, 0.33680242972724267, 0.9695077620090347, 0.8411332913340076, 0.15697205788979718, 0.9893821326514458, 0.5950945545103363, 0.4033862416479461, 0.9982985026414148, 0.05903925605096213, 0.07379907006370266, 0.32840586178347686, 0.498143722929993, 0.040589488535036466, 0.9492936135809311, 0.9806439010106045, 0.9858467810137373, 0.14702237674597754, 0.18660532433143304, 0.08482060196883319, 0.06785648157506656, 0.09613001556467762, 0.4127935962483215, 0.9982049017387249, 0.9749074469422766, 0.9392900614528285, 0.9849074481026033, 0.43268206588785996, 0.5665012615232805, 0.998285827952962, 0.58750585645306, 0.17793034509721245, 0.2316451662586351, 0.9893440764330271, 0.7435976889620198, 0.2516792178025298, 0.990038122817565, 0.9752099966829645, 0.9939045068790773, 0.1262707983336485, 0.8681117385438334, 0.9587225832705057, 0.3875897753878856, 0.428822730216384, 0.09277414836412154, 0.08968167675198416, 0.9848866403514072, 0.984008146369274, 0.034005453847666164, 0.9521527077346527, 0.007689738150401335, 0.9637805148503007, 0.025632460501337783, 0.9784169079077105, 0.8709016818390761, 0.10360168705892356, 0.011331434522069764, 0.014568987242661124, 0.028178412261742586, 0.9721552230301193, 0.9983775263689247, 0.08904350732502167, 0.9015655116658444, 0.024538459535036233, 0.9710218987435767, 0.9840309548769949, 0.015800148594113616, 0.9796092128350441, 0.9948358742030393, 0.9441939198661435, 0.345872130353764, 0.098820608672504, 0.011402377923750462, 0.543513347698772, 0.9064828610329053, 0.097123163682097, 0.9976373323219574, 0.9702156473627052, 0.025309973409461874, 0.45989265986054356, 0.1658116392694477, 0.15486181403467283, 0.21899650469549695, 0.006331177579312489, 0.9939948799520608, 0.9637879074895186, 0.9759295356800811, 0.9645036865665452], \"Term\": [\"adapter\", \"amazon\", \"amazon\", \"amazon\", \"amazone\", \"amount\", \"amount\", \"android\", \"android\", \"apps\", \"apps\", \"apps\", \"aspect\", \"atleast\", \"atmos\", \"atmos\", \"atom\", \"audio\", \"awesome\", \"awesome\", \"awesome\", \"awsm\", \"background\", \"backup\", \"backup\", \"bahut\", \"bakwas\", \"battery\", \"battery\", \"battery\", \"battry\", \"beat\", \"beautiful\", \"become\", \"bill\", \"blowing\", \"bluetooth\", \"bluetooth\", \"bluetooth\", \"bokeh\", \"bottom\", \"bought\", \"bought\", \"bought\", \"bought\", \"bought\", \"brightness\", \"brightness\", \"brilliant\", \"broke\", \"broken\", \"budget\", \"budget\", \"budget\", \"bug\", \"bug\", \"build\", \"build\", \"button\", \"buying\", \"buying\", \"buying\", \"cable\", \"call\", \"call\", \"camera\", \"camera\", \"camera\", \"capacity\", \"care\", \"cash\", \"cast\", \"cell\", \"cell\", \"center\", \"center\", \"centre\", \"centre\", \"charge\", \"charger\", \"charger\", \"checked\", \"choose\", \"clarity\", \"class\", \"class\", \"class\", \"color\", \"colour\", \"compare\", \"comparison\", \"complain\", \"concern\", \"condition\", \"condition\", \"condition\", \"contact\", \"contact\", \"contain\", \"cool\", \"core\", \"core\", \"cost\", \"cost\", \"cost\", \"custom\", \"customer\", \"customer\", \"customer\", \"damage\", \"dark\", \"data\", \"data\", \"data\", \"day\", \"day\", \"day\", \"day\", \"day\", \"deca\", \"delivery\", \"department\", \"depth\", \"depth\", \"described\", \"device\", \"device\", \"difference\", \"discharge\", \"display\", \"display\", \"display\", \"display\", \"dolby\", \"dolby\", \"dont\", \"dont\", \"dont\", \"drain\", \"drainage\", \"dull\", \"earphone\", \"earphone\", \"effect\", \"effect\", \"everything\", \"everything\", \"excellent\", \"excellent\", \"excellent\", \"exchange\", \"expectation\", \"expectation\", \"expectation\", \"expectation\", \"experience\", \"experience\", \"experience\", \"experience\", \"experience\", \"facility\", \"fast\", \"fast\", \"faster\", \"faster\", \"feature\", \"feature\", \"feature\", \"feature\", \"feel\", \"feel\", \"feel\", \"feel\", \"feel\", \"file\", \"fine\", \"fine\", \"fine\", \"fingerprint\", \"flash\", \"flash\", \"flashlight\", \"flipkart\", \"fone\", \"front\", \"gallery\", \"game\", \"game\", \"game\", \"glass\", \"glass\", \"gold\", \"google\", \"gorilla\", \"gorilla\", \"half\", \"half\", \"handset\", \"handy\", \"hang\", \"hang\", \"hang\", \"hang\", \"head\", \"head\", \"headphone\", \"headset\", \"heat\", \"heat\", \"heat\", \"heating\", \"heating\", \"heating\", \"helio\", \"help\", \"hold\", \"hota\", \"hotspot\", \"hour\", \"hour\", \"icon\", \"information\", \"install\", \"internet\", \"internet\", \"internet\", \"internet\", \"invoice\", \"iron\", \"issue\", \"issue\", \"issue\", \"item\", \"item\", \"jack\", \"jata\", \"killer\", \"kiya\", \"lack\", \"left\", \"left\", \"lenevo\", \"lenova\", \"lenova\", \"lenovo\", \"lenovo\", \"lenovo\", \"life\", \"light\", \"light\", \"list\", \"longer\", \"look\", \"look\", \"look\", \"loud\", \"love\", \"love\", \"love\", \"mark\", \"mark\", \"mark\", \"maximum\", \"mediatek\", \"meet\", \"mind\", \"minor\", \"mobil\", \"mobile\", \"mobile\", \"mode\", \"mode\", \"mode\", \"model\", \"model\", \"money\", \"month\", \"month\", \"month\", \"month\", \"moto\", \"moto\", \"multiple\", \"music\", \"nahi\", \"need\", \"need\", \"need\", \"need\", \"need\", \"network\", \"network\", \"note\", \"note\", \"notification\", \"nougat\", \"number\", \"october\", \"offer\", \"okay\", \"opening\", \"option\", \"option\", \"oreo\", \"package\", \"package\", \"paisa\", \"party\", \"percent\", \"performance\", \"performance\", \"phon\", \"phone\", \"phone\", \"phone\", \"phone\", \"phone\", \"phone\", \"photo\", \"photo\", \"photography\", \"pic\", \"picture\", \"picture\", \"piece\", \"piece\", \"piece\", \"player\", \"please\", \"please\", \"please\", \"policy\", \"policy\", \"power\", \"power\", \"price\", \"price\", \"primary\", \"problem\", \"problem\", \"problem\", \"process\", \"processer\", \"processing\", \"processor\", \"processor\", \"product\", \"product\", \"protection\", \"purchase\", \"purchase\", \"purchasing\", \"quality\", \"quality\", \"quality\", \"raha\", \"raha\", \"range\", \"range\", \"range\", \"rate\", \"rating\", \"rating\", \"read\", \"reading\", \"rear\", \"receive\", \"reception\", \"recommend\", \"recommend\", \"recommend\", \"redmi\", \"refund\", \"refund\", \"release\", \"remains\", \"replacement\", \"replacement\", \"replacement\", \"reply\", \"reset\", \"result\", \"result\", \"return\", \"return\", \"review\", \"review\", \"review\", \"review\", \"review\", \"ringtone\", \"samsung\", \"scratch\", \"screen\", \"screen\", \"screen\", \"screen\", \"screenshot\", \"segment\", \"selfi\", \"selfie\", \"seller\", \"sensor\", \"sensor\", \"sensor\", \"service\", \"service\", \"show\", \"show\", \"signal\", \"sims\", \"site\", \"smart\", \"smart\", \"smartphone\", \"smartphone\", \"snapdragon\", \"software\", \"software\", \"solution\", \"sound\", \"sound\", \"speaker\", \"speed\", \"speed\", \"speed\", \"speed\", \"speed\", \"split\", \"stand\", \"standby\", \"star\", \"star\", \"star\", \"star\", \"star\", \"star\", \"stock\", \"strength\", \"stylish\", \"suck\", \"super\", \"super\", \"superb\", \"support\", \"support\", \"support\", \"sure\", \"system\", \"system\", \"talk\", \"tell\", \"thank\", \"thanks\", \"thanks\", \"thik\", \"time\", \"time\", \"time\", \"time\", \"told\", \"tone\", \"trust\", \"trust\", \"turbo\", \"turbo\", \"turbo\", \"turbocharger\", \"update\", \"update\", \"update\", \"update\", \"usage\", \"usage\", \"value\", \"version\", \"version\", \"video\", \"video\", \"visit\", \"volta\", \"volta\", \"volume\", \"wait\", \"want\", \"want\", \"want\", \"want\", \"warm\", \"warm\", \"waste\", \"wifi\", \"wifi\", \"work\", \"work\", \"work\", \"work\", \"worth\", \"worth\", \"wrost\", \"zero\", \"zoom\"]}, \"R\": 30, \"lambda.step\": 0.01, \"plot.opts\": {\"xlab\": \"PC1\", \"ylab\": \"PC2\"}, \"topic.order\": [2, 3, 5, 4, 6, 1]};\n",
       "\n",
       "function LDAvis_load_lib(url, callback){\n",
       "  var s = document.createElement('script');\n",
       "  s.src = url;\n",
       "  s.async = true;\n",
       "  s.onreadystatechange = s.onload = callback;\n",
       "  s.onerror = function(){console.warn(\"failed to load library \" + url);};\n",
       "  document.getElementsByTagName(\"head\")[0].appendChild(s);\n",
       "}\n",
       "\n",
       "if(typeof(LDAvis) !== \"undefined\"){\n",
       "   // already loaded: just create the visualization\n",
       "   !function(LDAvis){\n",
       "       new LDAvis(\"#\" + \"ldavis_el1554025270965703688488073386\", ldavis_el1554025270965703688488073386_data);\n",
       "   }(LDAvis);\n",
       "}else if(typeof define === \"function\" && define.amd){\n",
       "   // require.js is available: use it to load d3/LDAvis\n",
       "   require.config({paths: {d3: \"https://d3js.org/d3.v5\"}});\n",
       "   require([\"d3\"], function(d3){\n",
       "      window.d3 = d3;\n",
       "      LDAvis_load_lib(\"https://cdn.jsdelivr.net/gh/bmabey/pyLDAvis@3.3.1/pyLDAvis/js/ldavis.v3.0.0.js\", function(){\n",
       "        new LDAvis(\"#\" + \"ldavis_el1554025270965703688488073386\", ldavis_el1554025270965703688488073386_data);\n",
       "      });\n",
       "    });\n",
       "}else{\n",
       "    // require.js not available: dynamically load d3 & LDAvis\n",
       "    LDAvis_load_lib(\"https://d3js.org/d3.v5.js\", function(){\n",
       "         LDAvis_load_lib(\"https://cdn.jsdelivr.net/gh/bmabey/pyLDAvis@3.3.1/pyLDAvis/js/ldavis.v3.0.0.js\", function(){\n",
       "                 new LDAvis(\"#\" + \"ldavis_el1554025270965703688488073386\", ldavis_el1554025270965703688488073386_data);\n",
       "            })\n",
       "         });\n",
       "}\n",
       "</script>"
      ],
      "text/plain": [
       "PreparedData(topic_coordinates=              x         y  topics  cluster       Freq\n",
       "topic                                                \n",
       "1     -0.063380 -0.014727       1        1  22.155001\n",
       "2     -0.029978 -0.232990       2        1  21.368819\n",
       "4      0.142317 -0.017986       3        1  18.825657\n",
       "3      0.253294  0.002174       4        1  17.319949\n",
       "5     -0.027777  0.269249       5        1  11.957087\n",
       "0     -0.274477 -0.005720       6        1   8.373487, topic_info=         Term         Freq        Total Category  logprob  loglift\n",
       "5     battery  3296.000000  3296.000000  Default  30.0000  30.0000\n",
       "70    product  2040.000000  2040.000000  Default  29.0000  29.0000\n",
       "81     camera  3248.000000  3248.000000  Default  28.0000  28.0000\n",
       "15     mobile  2436.000000  2436.000000  Default  27.0000  27.0000\n",
       "23    problem  1548.000000  1548.000000  Default  26.0000  26.0000\n",
       "...       ...          ...          ...      ...      ...      ...\n",
       "16     please    55.020554   374.188628   Topic6  -5.0543   0.5630\n",
       "3      amazon    53.912205   848.976575   Topic6  -5.0746  -0.2766\n",
       "1518   lenova    31.846689    58.320126   Topic6  -5.6010   1.8751\n",
       "697    review    37.865637   197.090189   Topic6  -5.4279   0.8305\n",
       "33       heat    31.789135   572.767100   Topic6  -5.6028  -0.4113\n",
       "\n",
       "[367 rows x 6 columns], token_table=      Topic      Freq     Term\n",
       "term                          \n",
       "1762      6  0.956370  adapter\n",
       "3         1  0.362790   amazon\n",
       "3         5  0.573632   amazon\n",
       "3         6  0.063606   amazon\n",
       "1432      5  0.932294  amazone\n",
       "...     ...       ...      ...\n",
       "124       4  0.006331    worth\n",
       "124       6  0.993995    worth\n",
       "48        5  0.963788    wrost\n",
       "461       6  0.975930     zero\n",
       "452       2  0.964504     zoom\n",
       "\n",
       "[502 rows x 3 columns], R=30, lambda_step=0.01, plot_opts={'xlab': 'PC1', 'ylab': 'PC2'}, topic_order=[2, 3, 5, 4, 6, 1])"
      ]
     },
     "execution_count": 26,
     "metadata": {},
     "output_type": "execute_result"
    }
   ],
   "source": [
    "pyLDAvis.gensim_models.prepare(ldamodel,doc_term_matrix,dictionary)"
   ]
  },
  {
   "cell_type": "code",
   "execution_count": 27,
   "metadata": {},
   "outputs": [
    {
     "data": {
      "text/plain": [
       "[(0,\n",
       "  '0.073*\"money\" + 0.073*\"problem\" + 0.048*\"phone\" + 0.048*\"heating\" + 0.041*\"waste\" + 0.036*\"worth\" + 0.026*\"return\" + 0.026*\"value\" + 0.022*\"volta\" + 0.017*\"want\"'),\n",
       " (1,\n",
       "  '0.050*\"phone\" + 0.046*\"mobile\" + 0.038*\"lenovo\" + 0.031*\"issue\" + 0.024*\"update\" + 0.021*\"screen\" + 0.021*\"call\" + 0.020*\"network\" + 0.019*\"problem\" + 0.017*\"time\"'),\n",
       " (2,\n",
       "  '0.149*\"battery\" + 0.084*\"phone\" + 0.040*\"heating\" + 0.036*\"issue\" + 0.034*\"fast\" + 0.026*\"backup\" + 0.025*\"charge\" + 0.022*\"heat\" + 0.022*\"problem\" + 0.021*\"hour\"'),\n",
       " (3,\n",
       "  '0.142*\"camera\" + 0.078*\"mobile\" + 0.055*\"quality\" + 0.038*\"phone\" + 0.033*\"performance\" + 0.030*\"awesome\" + 0.026*\"price\" + 0.020*\"feature\" + 0.020*\"front\" + 0.015*\"processor\"'),\n",
       " (4,\n",
       "  '0.052*\"note\" + 0.045*\"lenovo\" + 0.043*\"phone\" + 0.020*\"speaker\" + 0.019*\"feature\" + 0.017*\"device\" + 0.016*\"android\" + 0.015*\"sound\" + 0.015*\"camera\" + 0.014*\"quality\"'),\n",
       " (5,\n",
       "  '0.164*\"product\" + 0.160*\"phone\" + 0.040*\"amazon\" + 0.031*\"price\" + 0.022*\"excellent\" + 0.020*\"lenovo\" + 0.019*\"delivery\" + 0.015*\"awesome\" + 0.015*\"service\" + 0.010*\"super\"')]"
      ]
     },
     "execution_count": 27,
     "metadata": {},
     "output_type": "execute_result"
    }
   ],
   "source": [
    "ldamodel.print_topics()"
   ]
  },
  {
   "cell_type": "code",
   "execution_count": 35,
   "metadata": {},
   "outputs": [
    {
     "data": {
      "text/html": [
       "<style type=\"text/css\">\n",
       "#T_beef5_row0_col2, #T_beef5_row1_col2, #T_beef5_row2_col2, #T_beef5_row3_col2, #T_beef5_row4_col2, #T_beef5_row5_col2 {\n",
       "  width: 300px;\n",
       "}\n",
       "</style>\n",
       "<table id=\"T_beef5\">\n",
       "  <thead>\n",
       "    <tr>\n",
       "      <th class=\"blank level0\" >&nbsp;</th>\n",
       "      <th id=\"T_beef5_level0_col0\" class=\"col_heading level0 col0\" >Topic_Number</th>\n",
       "      <th id=\"T_beef5_level0_col1\" class=\"col_heading level0 col1\" >Topic_Name</th>\n",
       "      <th id=\"T_beef5_level0_col2\" class=\"col_heading level0 col2\" >Top_Keywords</th>\n",
       "    </tr>\n",
       "  </thead>\n",
       "  <tbody>\n",
       "    <tr>\n",
       "      <th id=\"T_beef5_level0_row0\" class=\"row_heading level0 row0\" >0</th>\n",
       "      <td id=\"T_beef5_row0_col0\" class=\"data row0 col0\" >0</td>\n",
       "      <td id=\"T_beef5_row0_col1\" class=\"data row0 col1\" >Budget Review</td>\n",
       "      <td id=\"T_beef5_row0_col2\" class=\"data row0 col2\" >['money', 'problem', 'phone', 'heating', 'waste', 'worth', 'return', 'value', 'volta', 'want']</td>\n",
       "    </tr>\n",
       "    <tr>\n",
       "      <th id=\"T_beef5_level0_row1\" class=\"row_heading level0 row1\" >1</th>\n",
       "      <td id=\"T_beef5_row1_col0\" class=\"data row1 col0\" >1</td>\n",
       "      <td id=\"T_beef5_row1_col1\" class=\"data row1 col1\" >Mixed issues</td>\n",
       "      <td id=\"T_beef5_row1_col2\" class=\"data row1 col2\" >['phone', 'mobile', 'lenovo', 'issue', 'update', 'screen', 'call', 'network', 'problem', 'time']</td>\n",
       "    </tr>\n",
       "    <tr>\n",
       "      <th id=\"T_beef5_level0_row2\" class=\"row_heading level0 row2\" >2</th>\n",
       "      <td id=\"T_beef5_row2_col0\" class=\"data row2 col0\" >2</td>\n",
       "      <td id=\"T_beef5_row2_col1\" class=\"data row2 col1\" >Heating issue</td>\n",
       "      <td id=\"T_beef5_row2_col2\" class=\"data row2 col2\" >['battery', 'phone', 'heating', 'issue', 'fast', 'backup', 'charge', 'heat', 'problem', 'hour']</td>\n",
       "    </tr>\n",
       "    <tr>\n",
       "      <th id=\"T_beef5_level0_row3\" class=\"row_heading level0 row3\" >3</th>\n",
       "      <td id=\"T_beef5_row3_col0\" class=\"data row3 col0\" >3</td>\n",
       "      <td id=\"T_beef5_row3_col1\" class=\"data row3 col1\" >Feature Reviews</td>\n",
       "      <td id=\"T_beef5_row3_col2\" class=\"data row3 col2\" >['camera', 'mobile', 'quality', 'phone', 'performance', 'awesome', 'price', 'feature', 'front', 'processor']</td>\n",
       "    </tr>\n",
       "    <tr>\n",
       "      <th id=\"T_beef5_level0_row4\" class=\"row_heading level0 row4\" >4</th>\n",
       "      <td id=\"T_beef5_row4_col0\" class=\"data row4 col0\" >4</td>\n",
       "      <td id=\"T_beef5_row4_col1\" class=\"data row4 col1\" >Connectivity</td>\n",
       "      <td id=\"T_beef5_row4_col2\" class=\"data row4 col2\" >['note', 'lenovo', 'phone', 'speaker', 'feature', 'device', 'android', 'sound', 'camera', 'quality']</td>\n",
       "    </tr>\n",
       "    <tr>\n",
       "      <th id=\"T_beef5_level0_row5\" class=\"row_heading level0 row5\" >5</th>\n",
       "      <td id=\"T_beef5_row5_col0\" class=\"data row5 col0\" >5</td>\n",
       "      <td id=\"T_beef5_row5_col1\" class=\"data row5 col1\" >Service Review</td>\n",
       "      <td id=\"T_beef5_row5_col2\" class=\"data row5 col2\" >['product', 'phone', 'amazon', 'price', 'excellent', 'lenovo', 'delivery', 'awesome', 'service', 'super']</td>\n",
       "    </tr>\n",
       "  </tbody>\n",
       "</table>\n"
      ],
      "text/plain": [
       "<pandas.io.formats.style.Styler at 0x24c6776ffd0>"
      ]
     },
     "execution_count": 35,
     "metadata": {},
     "output_type": "execute_result"
    }
   ],
   "source": [
    "topic_lookup_data = pd.DataFrame((ldamodel.print_topics()),columns=['Topic_Number','Top_Keywords'])\n",
    "topic_lookup_data['Topic_Name'] = ['Budget Review','Mixed issues','Heating issue','Feature Reviews','Connectivity','Service Review']\n",
    "topic_lookup_data = topic_lookup_data[['Topic_Number','Topic_Name','Top_Keywords']]\n",
    "topic_lookup_data['Top_Keywords'] = topic_lookup_data.Top_Keywords.str\\\n",
    ".replace(r'[^a-z]',' ',regex=True).apply(lambda x: x.split())\n",
    "topic_lookup_data.style.set_properties(subset=['Top_Keywords'], **{'width': '300px'})"
   ]
  }
 ],
 "metadata": {
  "accelerator": "GPU",
  "colab": {
   "collapsed_sections": [],
   "name": "PDM 512-TA-NLP-Assg2-21125892017-Subradip Poddar.ipynb",
   "provenance": []
  },
  "kernelspec": {
   "display_name": "Python 3 (ipykernel)",
   "language": "python",
   "name": "python3"
  },
  "language_info": {
   "codemirror_mode": {
    "name": "ipython",
    "version": 3
   },
   "file_extension": ".py",
   "mimetype": "text/x-python",
   "name": "python",
   "nbconvert_exporter": "python",
   "pygments_lexer": "ipython3",
   "version": "3.9.7"
  }
 },
 "nbformat": 4,
 "nbformat_minor": 1
}
